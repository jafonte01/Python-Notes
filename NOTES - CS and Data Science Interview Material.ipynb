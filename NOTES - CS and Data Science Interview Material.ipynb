{
 "cells": [
  {
   "cell_type": "markdown",
   "metadata": {},
   "source": [
    "# DATA SCIENCE INTERVIEW MATERIALS\n",
    "\n",
    "Taken from this [reddit link](https://www.reddit.com/r/cscareerquestions/comments/1jov24/heres_how_to_prepare_for_tech_interviews/).\n",
    "\n",
    "__NOTE:__ Some of this information may overlap with Unit 5 Notes, but I am including it here again for comprehensiveness purposes.\n",
    "\n",
    "## Table of Contents\n",
    "\n",
    "1. __Data Structures__: Description, example derivation code, big-O values for delete, insert, lookup, etc. \n",
    "    - List/Array (index)\n",
    "    - Linked List (no index - list values defined in relation to adjacent ('linked') values \n",
    "        - Singly linked vs. Doubly-linked\n",
    "    - Trees \n",
    "        - Types\n",
    "            - Basic tree\n",
    "            - Binary tree\n",
    "            - Binary Search tree\n",
    "            - Red-Black tree \n",
    "            - Cartesian tree\n",
    "            - B-tree\n",
    "            - Splay tree\n",
    "            - AVL tree\n",
    "            - KD tree\n",
    "        - depth-first vs. breadth-first\n",
    "    - Heap\n",
    "    - Hash Table (__VERY IMPORTANT!__ Need to know different collision mitigation mechanisms, amortized constant-time)\n",
    "    - Trie (pronounced \"tree\")\n",
    "    - Linked Hash Map\n",
    "        - Two kinds of interview questions: (1) knowing which one to use to code, and (2) comparison questions, such as \"why would you use X over Y in situation Z?\"\n",
    "        - [Data Cheat Sheet for all Big-O](https://www.bigocheatsheet.com/)\n",
    "        <br><br>\n",
    "2. __Algoritihms__: Description, example derivation code, big-O values for _each_ kind of algorithm for _each_ data structure.\n",
    "    - Array Sorting (non-comparison vs. comparison sorting)\n",
    "        - Again, [Data Cheat Sheet for Big-O of Array Sorting ONLY](https://www.bigocheatsheet.com/)\n",
    "    - Tree (in-order, pre-order, post-order, level-order)\n",
    "    - Pre-fix tree searches\n",
    "    - Other traversals: Djikstra, A*, Breadth-first search vs. depth-first search\n",
    "    <br><br>\n",
    "3. __Bits vs. Bytes__\n",
    "    - \"Bitshifting\"\n",
    "    - Big and Little Endian\n",
    "    - \"Write a method to determine whether the bit-wise representation of an integer is a palindrome\"\n",
    "<br><br>\n",
    "4. __How the Internet Works__\n",
    "    - Sockets\n",
    "    - TCP/IP\n",
    "    - HTTP\n",
    "    - Networking Layers and their respective responsibilities\n",
    "    <br><br>\n",
    "5. __Databases & SQL__\n",
    "    - See \"SQL\" Notes - will not be in this noteset\n",
    "<br><br>\n",
    "6. __Basics of Testing__\n",
    "    - What is TDD?\n",
    "    <br><br>\n",
    "7. __Linux__\n",
    "    - Shell Scripting Basics<br>\n",
    "8. __Common questions__\n",
    "    - Fizzbuzz\n",
    "    - Reversing a string"
   ]
  },
  {
   "cell_type": "markdown",
   "metadata": {},
   "source": [
    "***\n",
    "# QUESTIONS TO ANSWER\n",
    "\n",
    "1. What is \"data mining\"?\n",
    "2. What is \"operations research\"?\n",
    "3. How does hybrid boosting reduce bias and variance?"
   ]
  },
  {
   "cell_type": "markdown",
   "metadata": {},
   "source": [
    "# Sample Coding Questions\n",
    "\n",
    "## 1. \"Degree\" of an Array\n",
    "\n",
    "The ___degree___ of an array is the \"maximum frequency\" of any one of the elements within the array.  \n",
    "\n",
    "__Question:__ Output the _length_ of the smallest contiguous subarray of the array that has the same degree as the degree of nums.\n",
    "\n",
    "__Example:__ For an array \\[1, 2, 2, 3, 1, 4, 2\\], the degree is 3 (the maximum frequency of any one element, here, it is 2 element found three times). Subarrays are \\[2, 2, 3, 1, 4, 2\\] and \\[1, 2, 2, 3, 1, 4\\]. If we go any smaller, we lose the degree of 3 (since the subarrays that are one shorter are \\[2, 2, 3, 1, 4\\] and \\[1, 2, 2, 3, 1\\], both of which do not have a degree of 3). \n",
    "\n",
    "Therefore, the shortest length of a subarray of the array with a degree of 3 is ___6___."
   ]
  },
  {
   "cell_type": "code",
   "execution_count": 7,
   "metadata": {},
   "outputs": [],
   "source": [
    "# Answer Code\n",
    "\n",
    "# Using toy sample array\n",
    "\n",
    "N = [1, 4, 4, 3, 1]\n",
    "\n",
    "'''\n",
    "For the following enumeration loop:\n",
    "\n",
    "(POSITION)\n",
    "\"Beginning at position 0...\n",
    "If the value k has not yet been seen in the Array 'N' yet, \n",
    "record the *position* of dictionary key 'k' as position i\n",
    "\n",
    "(DEGREE COUNT)\n",
    "Separately,\n",
    "to keep track of how frequently each key-value 'k' comes up, \n",
    "place 'k' into dictionary \"count\", where everytime 'k' pops up again, \n",
    "get the key 'k' count again and add 1 more to it.\n",
    "\n",
    "(DECIDING WHICH VALUE IS THE DEGREE)\n",
    "\n",
    "If a certain value 'k' count, as seen by the dictionary, \n",
    "is higher than the degree (starting off with degree = 0),\n",
    "set that highest count as the degree variable\n",
    "AND\n",
    "set the minimum length of the subarray to (current position) - (initial position where k was first seen) + 1\"\n",
    "\n",
    "Each value 'k' is looked at one-by-one in the enumeration, each iteration updating the degree,\n",
    "and if the degree equals the count of a specific value k, checking whether the minimum length of k is smaller\n",
    "than the running minimum min_length (and if so, updating min_length to k's min_length)\n",
    "\n",
    "Once the loop has run to the end, the variable min_length will reflect the smallest contiguous length\n",
    "of a subarray containing the degree of the main array N.\n",
    "'''\n",
    "\n",
    "# setting up initial counting terms\n",
    "def shortest_subarray(N):\n",
    "    min_length = 0\n",
    "    degree = 0\n",
    "    count = {}\n",
    "    first_seen = {}\n",
    "\n",
    "# aforementioned enumeration loop - see above note for explanation\n",
    "    for i, k in enumerate(N):\n",
    "        if k not in first_seen:\n",
    "            first_seen[k] = i\n",
    "\n",
    "        count[k] = count.get(k, 0) + 1\n",
    "\n",
    "        if count[k] > degree:\n",
    "            degree = count[k]\n",
    "            min_length = (i - first_seen[k]) + 1\n",
    "    \n",
    "        elif count[k] == degree:\n",
    "            min_length = min(min_length, (i - first_seen[k]) + 1)\n",
    "\n",
    "    return min_length"
   ]
  },
  {
   "cell_type": "code",
   "execution_count": 8,
   "metadata": {},
   "outputs": [
    {
     "data": {
      "text/plain": [
       "2"
      ]
     },
     "execution_count": 8,
     "metadata": {},
     "output_type": "execute_result"
    }
   ],
   "source": [
    "shortest_subarray(N) # reflects answer length \"2\" for shortest subarray [4, 4]"
   ]
  },
  {
   "cell_type": "markdown",
   "metadata": {},
   "source": [
    "***\n",
    "## 2. Reverse Max Array Challenge\n",
    "\n",
    "__Question:__ For a list \"A\" of size \"n\", produce the greatest integer greater than 0 _not found_ within the list. If list is full, then the answer is max(list) + 1. If there are no positive integers, answer is 1.\n",
    "\n",
    "For list\\[1, 2, 4, 6, 1, 7\\], \n",
    "output is: \n",
    "5\n",
    "\n",
    "For list \\[1, 2, 3\\],\n",
    "output is:\n",
    "4\n",
    "\n",
    "For list \\[-1, -100, -55\\],\n",
    "output is:\n",
    "1\n",
    "\n",
    "For list \\[-1, 0, 10000, 100000.12\\],\n",
    "output is:\n",
    "100001"
   ]
  },
  {
   "cell_type": "code",
   "execution_count": 9,
   "metadata": {},
   "outputs": [],
   "source": [
    "# Solution\n",
    "\n",
    "def solution(A):\n",
    "    # write your code in Python 3.6\n",
    "    # code idea - create list and pop list of all things except highest\n",
    "    \n",
    "    B = [item for item in A if item > 0] # to focus on only positive integers\n",
    "    if B == []:\n",
    "        return 1\n",
    "    minpoint = min(B)\n",
    "    maxpoint = max(B) + 1 # to account for zero numbering\n",
    "    wholerange = list(range(minpoint, maxpoint))\n",
    "\n",
    "    operativeset = list(set(wholerange) - set(B)) # doing set may not be necessary and may actually slow function\n",
    "    if operativeset == []:\n",
    "        return maxpoint\n",
    "    \n",
    "    else:\n",
    "        return max(operativeset)"
   ]
  },
  {
   "cell_type": "markdown",
   "metadata": {},
   "source": [
    "***\n",
    "## 3. Reversing a String\n",
    "\n",
    "__Question:__ How do you reverse the characters of a string s?"
   ]
  },
  {
   "cell_type": "code",
   "execution_count": 34,
   "metadata": {},
   "outputs": [
    {
     "name": "stdout",
     "output_type": "stream",
     "text": [
      "['n', 'o', 'h', 't', 'y', 'P']\n"
     ]
    }
   ],
   "source": [
    "# 1. Answer via loop\n",
    "\n",
    "string = \"Python\"                        # initial string\n",
    "reversedString=[]\n",
    "index = len(str)                         # calculate length of string and save in index\n",
    "\n",
    "while index > 0: \n",
    "    reversedString += string[index - 1]  # save the value of str[index-1] in reverseString\n",
    "    index = index - 1                    # decrement index\n",
    "    \n",
    "print(reversedString)                    # reversed string output\n",
    "\n",
    "#################\n",
    "\n",
    "# 2. Answer via built-in list function\n",
    "\n",
    "string = '......'\n",
    "## splitting into individual charactes\n",
    "string = list(string)\n",
    "## built-in reversal\n",
    "string.reverse()\n",
    "##putting it back together\n",
    "string = ''.join(string)\n",
    "    \n",
    "#############\n",
    "\n",
    "# 3. Answer via slicing - BETTER!!!!!:\n",
    "\n",
    "string = '.......'\n",
    "\n",
    "reversed_string = string[::-1] \n",
    "# \"Start at position 0 ---> go to end in increments of -1\""
   ]
  },
  {
   "cell_type": "markdown",
   "metadata": {},
   "source": [
    "__Note:__ You can do this to reverse digits in a number too! The only additional thing is to convert data types!!!\n",
    "```python\n",
    "number = 123456789\n",
    "reversed_number = int(str(number)[::-1])\n",
    "```"
   ]
  },
  {
   "cell_type": "markdown",
   "metadata": {},
   "source": [
    "***\n",
    "## 4. Fizzbuzz\n",
    "\n",
    "__Question:__ For a continuous list of integers with length _n_, print the list. \n",
    "\n",
    "If an integer is divisible by 3, replace the integer with the string \"fizz\". If the integer is divisible by 5, replace the integer with the string \"buzz\". If the integer is divisible by both 3 and 5, replace the integer with the string \"fizzbuzz.\""
   ]
  },
  {
   "cell_type": "code",
   "execution_count": 17,
   "metadata": {
    "collapsed": true
   },
   "outputs": [
    {
     "name": "stdout",
     "output_type": "stream",
     "text": [
      "fizzbuzz\n",
      "1\n",
      "2\n",
      "fizz\n",
      "4\n",
      "buzz\n",
      "fizz\n",
      "7\n",
      "8\n",
      "fizz\n",
      "buzz\n",
      "11\n",
      "fizz\n",
      "13\n",
      "14\n",
      "fizzbuzz\n",
      "16\n",
      "17\n",
      "fizz\n",
      "19\n",
      "buzz\n",
      "fizz\n",
      "22\n",
      "23\n",
      "fizz\n",
      "buzz\n",
      "26\n",
      "fizz\n",
      "28\n",
      "29\n",
      "fizzbuzz\n",
      "31\n",
      "32\n",
      "fizz\n",
      "34\n",
      "buzz\n",
      "fizz\n",
      "37\n",
      "38\n",
      "fizz\n",
      "buzz\n",
      "41\n",
      "fizz\n",
      "43\n",
      "44\n",
      "fizzbuzz\n",
      "46\n",
      "47\n",
      "fizz\n",
      "49\n"
     ]
    }
   ],
   "source": [
    "for i in range(50):\n",
    "    if i % 3 == 0 and i % 5 == 0:\n",
    "        print(\"fizzbuzz\")\n",
    "        continue\n",
    "    elif i % 3 == 0:\n",
    "        print(\"fizz\")\n",
    "        continue\n",
    "    elif i % 5 == 0:\n",
    "        print(\"buzz\")\n",
    "        continue\n",
    "    else:\n",
    "        print(i)"
   ]
  },
  {
   "cell_type": "markdown",
   "metadata": {},
   "source": [
    "***\n",
    "## 5. Reading Input from System\n",
    "\n",
    "__Question:__ How do you convert system information into list variables?"
   ]
  },
  {
   "cell_type": "code",
   "execution_count": null,
   "metadata": {},
   "outputs": [],
   "source": [
    "# Answer: Three ways, all very similar\n",
    "\n",
    "import sys\n",
    "\n",
    "list_of_inputs = sys.stdin.readlines() # DON'T RUN THIS CELL!!!!!!!!!!!!!!\n",
    "\n",
    "# each input will be a string within the list, convert to list or integer as necessary:\n",
    "\n",
    "# say there were three inputs, with three being a 'list' string of 2, 2, 4, 5, 7...\n",
    "\n",
    "main_list_input = [int(elem) for elem in list_of_inputs[3].split()]\n",
    "\n",
    "#####################################\n",
    "\n",
    "# Can use comprehensive cheating way!\n",
    "\n",
    "# import sys\n",
    "import fileinput\n",
    "\n",
    "N = []\n",
    "\n",
    "for i in range(2): # 2 = number of inputs (known value)\n",
    "    N.append(list(map(int, input().rstrip().split())))\n",
    "    \n",
    "#############################\n",
    "\n",
    "# EASIEST KNOWN WAY! .iter() has a good secondary use for reading sys line by line!!!!!!!\n",
    "# This creates every line of stdin as its own list, all combined into one input_matrix list comprehension\n",
    "\n",
    "input_matrix = [[float(x) for x in line.split()] for line in iter(input, '')]\n",
    "\n",
    "print(input_matrix) \n",
    "\n",
    "# less succinct version of the above:\n",
    "\n",
    "input_matrix = []\n",
    "while True:\n",
    "    line = sys.stdin.readline().strip()\n",
    "    if not line:\n",
    "        break\n",
    "    input_matrix.append(map(float, line.split()))"
   ]
  },
  {
   "cell_type": "markdown",
   "metadata": {},
   "source": [
    "## 5. Calculating Mode\n",
    "\n",
    "Numpy and other Python packages do not offer a .mode() method because it's much more complicated than median or mean. What kind of function can be created to offer a mode?"
   ]
  },
  {
   "cell_type": "code",
   "execution_count": 41,
   "metadata": {
    "collapsed": true
   },
   "outputs": [
    {
     "name": "stdout",
     "output_type": "stream",
     "text": [
      "ModeResult(mode=array([1]), count=array([2]))\n",
      "<class 'list'>\n"
     ]
    },
    {
     "ename": "AttributeError",
     "evalue": "'list' object has no attribute 'tolist'",
     "output_type": "error",
     "traceback": [
      "\u001b[1;31m---------------------------------------------------------------------------\u001b[0m",
      "\u001b[1;31mAttributeError\u001b[0m                            Traceback (most recent call last)",
      "\u001b[1;32m<ipython-input-41-98ca4c5e7cb4>\u001b[0m in \u001b[0;36m<module>\u001b[1;34m\u001b[0m\n\u001b[0;32m      7\u001b[0m \u001b[1;31m# import numpy\u001b[0m\u001b[1;33m\u001b[0m\u001b[1;33m\u001b[0m\u001b[1;33m\u001b[0m\u001b[0m\n\u001b[0;32m      8\u001b[0m \u001b[1;33m\u001b[0m\u001b[0m\n\u001b[1;32m----> 9\u001b[1;33m \u001b[0mt\u001b[0m \u001b[1;33m=\u001b[0m \u001b[0mlist\u001b[0m\u001b[1;33m(\u001b[0m\u001b[0mt\u001b[0m\u001b[1;33m)\u001b[0m\u001b[1;33m.\u001b[0m\u001b[0mtolist\u001b[0m\u001b[1;33m(\u001b[0m\u001b[1;33m)\u001b[0m\u001b[1;33m\u001b[0m\u001b[1;33m\u001b[0m\u001b[0m\n\u001b[0m",
      "\u001b[1;31mAttributeError\u001b[0m: 'list' object has no attribute 'tolist'"
     ]
    }
   ],
   "source": [
    "# Sample DataFrame\n",
    "df = pd.DataFrame()\n",
    "df['age'] = [28, 42, 24, 27, 35, 24, 54, 25, 37, 37]\n",
    "\n",
    "#################################\n",
    "\n",
    "# ZERO-TH ANSWER: The fastest but wrong way\n",
    "\n",
    "import statistics\n",
    "\n",
    "statistics.mode(df['age'])\n",
    "'Bad because will throw StatisticsError if multiple modes!!!'\n",
    "\n",
    "#################################\n",
    "\n",
    "# FIRST ANSWER: The cheap and easy way (the 'best' way????)\n",
    "\n",
    "from collections import Counter\n",
    "\n",
    "Counter(df['age']).most_common()\n",
    "\n",
    "#################################\n",
    "\n",
    "# SECOND ANSWER: The more manual counting way\n",
    "\n",
    "def compute_mode(numbers):\n",
    "    counts = {}\n",
    "    maxcount = 0\n",
    "    for number in numbers:\n",
    "        if number not in counts:\n",
    "            counts[number] = 1 # placing count for new number into dictionary\n",
    "        else:\n",
    "            counts[number] += 1\n",
    "            \n",
    "        if counts[number] > maxcount:\n",
    "            maxcount = counts[number] # keeping tally of what is maxcount loop by loop\n",
    "            \n",
    "    for number, count in counts.items(): # loop done in case there are multiple modes\n",
    "        if count == maxcount:\n",
    "            print(number, count)\n",
    "\n",
    "compute_mode(df['age'])"
   ]
  },
  {
   "cell_type": "markdown",
   "metadata": {},
   "source": [
    "Hadoop Ecosystem Setup\n",
    "\n",
    "https://www.ironsidegroup.com/2015/12/01/hadoop-ecosystkey-components/"
   ]
  },
  {
   "cell_type": "code",
   "execution_count": null,
   "metadata": {},
   "outputs": [],
   "source": []
  }
 ],
 "metadata": {
  "kernelspec": {
   "display_name": "Python 3",
   "language": "python",
   "name": "python3"
  },
  "language_info": {
   "codemirror_mode": {
    "name": "ipython",
    "version": 3
   },
   "file_extension": ".py",
   "mimetype": "text/x-python",
   "name": "python",
   "nbconvert_exporter": "python",
   "pygments_lexer": "ipython3",
   "version": "3.7.1"
  }
 },
 "nbformat": 4,
 "nbformat_minor": 2
}
