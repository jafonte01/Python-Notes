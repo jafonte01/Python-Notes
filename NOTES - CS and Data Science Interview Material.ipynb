{
 "cells": [
  {
   "cell_type": "markdown",
   "metadata": {},
   "source": [
    "# DATA SCIENCE INTERVIEW MATERIALS\n",
    "\n",
    "Taken from this [reddit link](https://www.reddit.com/r/cscareerquestions/comments/1jov24/heres_how_to_prepare_for_tech_interviews/).\n",
    "\n",
    "__NOTE:__ Some of this information may overlap with Unit 5 Notes, but I am including it here again for comprehensiveness purposes.\n",
    "\n",
    "## Table of Contents\n",
    "\n",
    "1. __Data Structures__: Description, example derivation code, big-O values for delete, insert, lookup, etc. \n",
    "    - List/Array (index)\n",
    "        - vs. Dynamic Array\n",
    "    - Linked List (no index - list values defined in relation to adjacent ('linked') values \n",
    "        - Singly linked vs. Doubly-linked\n",
    "    - Trees \n",
    "        - Types\n",
    "            - Basic tree\n",
    "            - Binary tree\n",
    "            - Binary Search tree\n",
    "            - Red-Black tree \n",
    "            - Cartesian tree\n",
    "            - B-tree\n",
    "            - Splay tree\n",
    "            - AVL tree\n",
    "            - KD tree\n",
    "        - depth-first vs. breadth-first\n",
    "    - Stacks\n",
    "    - Queues\n",
    "    - Graphs\n",
    "    - Heap\n",
    "        - Binary Heap vs. Primary Queue\n",
    "    - Hash Table (__VERY IMPORTANT!__ Need to know different collision mitigation mechanisms, amortized constant-time)\n",
    "    - Trie (pronounced \"tree\")\n",
    "    - Linked Hash Map\n",
    "        - Two kinds of interview questions: (1) knowing which one to use to code, and (2) comparison questions, such as \"why would you use X over Y in situation Z?\"\n",
    "        - [Data Cheat Sheet for all Big-O](https://www.bigocheatsheet.com/)\n",
    "        <br><br>\n",
    "2. __Algorithms__: Description, example derivation code, big-O values for _each_ kind of algorithm for _each_ data structure.\n",
    "    - Array Sorting (non-comparison vs. comparison sorting)\n",
    "        - Again, [Data Cheat Sheet for Big-O of Array Sorting ONLY](https://www.bigocheatsheet.com/)\n",
    "        - Quicksort, heapsort (to O(1)), mergesort\n",
    "        - \"Stability in sorting\"\n",
    "    - Selections\n",
    "        - Kth Smallest elements - Implement in three ways: Sort, QuickSelect, Mediums of Mediums\n",
    "    - External Sort\n",
    "    - Topological sort\n",
    "    - Tree (in-order, pre-order, post-order, level-order)\n",
    "    - Pre-fix tree searches\n",
    "    - Other traversals: Djikstra, A*, Breadth-First Search (BFS) vs. Depth-First Search (DFS)\n",
    "        - BFS vs. DFS for trees _and_ graph searches\n",
    "    <br><br>\n",
    "3. __Bits vs. Bytes__\n",
    "    - \"Bitshifting\"\n",
    "    - Bit Manipulation\n",
    "        - Difference between Unsigned and Signed Numbers\n",
    "    - Big and Little Endian\n",
    "    - \"Write a method to determine whether the bit-wise representation of an integer is a palindrome\"\n",
    "<br><br>\n",
    "4. __How the Internet Works__\n",
    "    - Sockets\n",
    "    - TCP/IP\n",
    "    - HTTP\n",
    "    - Networking Layers and their respective responsibilities\n",
    "    <br><br>\n",
    "5. __Databases & SQL__\n",
    "    - See \"SQL\" Notes - will not be in this noteset\n",
    "<br><br>\n",
    "6. __Basics of Testing__\n",
    "    - What is TDD?\n",
    "    <br><br>\n",
    "7. __Linux__\n",
    "    - Shell Scripting Basics<br><br>\n",
    "8. __Common questions__\n",
    "    - Fizzbuzz\n",
    "    - Reversing a string"
   ]
  },
  {
   "cell_type": "markdown",
   "metadata": {},
   "source": [
    "***\n",
    "# 0. Starting Out\n",
    "\n",
    "You will not be competitive unless you can do the following by memory:\n",
    "- Implement an ArrayList from scratch\n",
    "- Reverse a linked list!!!!\n",
    "- Implement a Stack and Queue using an Array\n",
    "- Implement a HashTable using simple Hashing functions\n",
    "- Write a binary search algorithm using (1) recursive functioning and (2) iterative functioning\n",
    "- Write the mergesort algorithm\n",
    "- Write the quicksort algorithm\n",
    "- Print a binary tree using DFS (1) in order, (2) pre-order, and (3) post-order _and_ using BFS\n",
    "- Memorize all time and space complexities. (See https://www.bigocheatsheet.com/)\n",
    "- Implement a trie\n",
    "- Learn bit manipulation tricks\n"
   ]
  },
  {
   "cell_type": "markdown",
   "metadata": {},
   "source": [
    "***\n",
    "# QUESTIONS TO ANSWER\n",
    "\n",
    "1. What is \"data mining\"?\n",
    "2. What is \"operations research\"?\n",
    "3. How does hybrid boosting reduce bias and variance?"
   ]
  },
  {
   "cell_type": "markdown",
   "metadata": {},
   "source": [
    "***\n",
    "# COMMON SAMPLE CODING QUESTIONS\n",
    "\n",
    "Below is a list of popular coding questions expected to be a part of any technical interview. They are not listed in any particular order (just the order that I added them)."
   ]
  },
  {
   "cell_type": "markdown",
   "metadata": {},
   "source": [
    "***\n",
    "\n",
    "## 1. \"Degree\" of an Array\n",
    "\n",
    "The ___degree___ of an array is the \"maximum frequency\" of any one of the elements within the array.  \n",
    "\n",
    "__Question:__ Output the _length_ of the smallest contiguous subarray of the array that has the same degree as the degree of nums.\n",
    "\n",
    "__Example:__ For an array \\[1, 2, 2, 3, 1, 4, 2\\], the degree is 3 (the maximum frequency of any one element, here, it is 2 element found three times). Subarrays are \\[2, 2, 3, 1, 4, 2\\] and \\[1, 2, 2, 3, 1, 4\\]. If we go any smaller, we lose the degree of 3 (since the subarrays that are one shorter are \\[2, 2, 3, 1, 4\\] and \\[1, 2, 2, 3, 1\\], both of which do not have a degree of 3). \n",
    "\n",
    "Therefore, the shortest length of a subarray of the array with a degree of 3 is ___6___."
   ]
  },
  {
   "cell_type": "code",
   "execution_count": 7,
   "metadata": {},
   "outputs": [],
   "source": [
    "# Answer Code\n",
    "\n",
    "# Using toy sample array\n",
    "\n",
    "N = [1, 4, 4, 3, 1]\n",
    "\n",
    "'''\n",
    "For the following enumeration loop:\n",
    "\n",
    "(POSITION)\n",
    "\"Beginning at position 0...\n",
    "If the value k has not yet been seen in the Array 'N' yet, \n",
    "record the *position* of dictionary key 'k' as position i\n",
    "\n",
    "(DEGREE COUNT)\n",
    "Separately,\n",
    "to keep track of how frequently each key-value 'k' comes up, \n",
    "place 'k' into dictionary \"count\", where everytime 'k' pops up again, \n",
    "get the key 'k' count again and add 1 more to it.\n",
    "\n",
    "(DECIDING WHICH VALUE IS THE DEGREE)\n",
    "\n",
    "If a certain value 'k' count, as seen by the dictionary, \n",
    "is higher than the degree (starting off with degree = 0),\n",
    "set that highest count as the degree variable\n",
    "AND\n",
    "set the minimum length of the subarray to (current position) - (initial position where k was first seen) + 1\"\n",
    "\n",
    "Each value 'k' is looked at one-by-one in the enumeration, each iteration updating the degree,\n",
    "and if the degree equals the count of a specific value k, checking whether the minimum length of k is smaller\n",
    "than the running minimum min_length (and if so, updating min_length to k's min_length)\n",
    "\n",
    "Once the loop has run to the end, the variable min_length will reflect the smallest contiguous length\n",
    "of a subarray containing the degree of the main array N.\n",
    "'''\n",
    "\n",
    "# setting up initial counting terms\n",
    "def shortest_subarray(N):\n",
    "    min_length = 0\n",
    "    degree = 0\n",
    "    count = {}\n",
    "    first_seen = {}\n",
    "\n",
    "# aforementioned enumeration loop - see above note for explanation\n",
    "    for i, k in enumerate(N):\n",
    "        if k not in first_seen:\n",
    "            first_seen[k] = i\n",
    "\n",
    "        count[k] = count.get(k, 0) + 1\n",
    "\n",
    "        if count[k] > degree:\n",
    "            degree = count[k]\n",
    "            min_length = (i - first_seen[k]) + 1\n",
    "    \n",
    "        elif count[k] == degree:\n",
    "            min_length = min(min_length, (i - first_seen[k]) + 1)\n",
    "\n",
    "    return min_length"
   ]
  },
  {
   "cell_type": "code",
   "execution_count": 8,
   "metadata": {},
   "outputs": [
    {
     "data": {
      "text/plain": [
       "2"
      ]
     },
     "execution_count": 8,
     "metadata": {},
     "output_type": "execute_result"
    }
   ],
   "source": [
    "shortest_subarray(N) # reflects answer length \"2\" for shortest subarray [4, 4]"
   ]
  },
  {
   "cell_type": "markdown",
   "metadata": {},
   "source": [
    "***\n",
    "## 2. Reverse Max Array Challenge\n",
    "\n",
    "__Question:__ For a list \"A\" of size \"n\", produce the greatest integer greater than 0 _not found_ within the list. If list is full, then the answer is max(list) + 1. If there are no positive integers, answer is 1.\n",
    "\n",
    "For list \\[1, 2, 4, 6, 1, 7\\], \n",
    "output is: \n",
    "5\n",
    "\n",
    "For list \\[1, 2, 3\\],\n",
    "output is:\n",
    "4\n",
    "\n",
    "For list \\[-1, -100, -55\\],\n",
    "output is:\n",
    "1\n",
    "\n",
    "For list \\[-1, 0, 10000, 100000.12\\],\n",
    "output is:\n",
    "100001"
   ]
  },
  {
   "cell_type": "code",
   "execution_count": 9,
   "metadata": {},
   "outputs": [],
   "source": [
    "# Solution\n",
    "\n",
    "def solution(A):\n",
    "    # write your code in Python 3.6\n",
    "    # code idea - create list and pop list of all things except highest\n",
    "    \n",
    "    B = [item for item in A if item > 0] # to focus on only positive integers\n",
    "    if B == []:\n",
    "        return 1\n",
    "    minpoint = min(B)\n",
    "    maxpoint = max(B) + 1 # to account for zero numbering\n",
    "    wholerange = list(range(minpoint, maxpoint))\n",
    "\n",
    "    operativeset = list(set(wholerange) - set(B)) # doing set may not be necessary and may actually slow function\n",
    "    if operativeset == []:\n",
    "        return maxpoint\n",
    "    \n",
    "    else:\n",
    "        return max(operativeset)"
   ]
  },
  {
   "cell_type": "markdown",
   "metadata": {},
   "source": [
    "***\n",
    "## 3. Reversing a String\n",
    "\n",
    "__Question:__ How do you reverse the characters of a string s?"
   ]
  },
  {
   "cell_type": "code",
   "execution_count": 34,
   "metadata": {},
   "outputs": [
    {
     "name": "stdout",
     "output_type": "stream",
     "text": [
      "['n', 'o', 'h', 't', 'y', 'P']\n"
     ]
    }
   ],
   "source": [
    "# 1. Answer via loop\n",
    "\n",
    "string = \"Python\"                        # initial string\n",
    "reversedString=[]\n",
    "index = len(str)                         # calculate length of string and save in index\n",
    "\n",
    "while index > 0: \n",
    "    reversedString += string[index - 1]  # save the value of str[index-1] in reverseString\n",
    "    index = index - 1                    # decrement index\n",
    "    \n",
    "print(reversedString)                    # reversed string output\n",
    "\n",
    "#################\n",
    "\n",
    "# 2. Answer via built-in list function\n",
    "\n",
    "string = '......'\n",
    "## splitting into individual characters\n",
    "string = list(string)\n",
    "## using list built-in function: list.reverse()\n",
    "string.reverse()\n",
    "##putting it back together\n",
    "string = ''.join(string)\n",
    "    \n",
    "#############\n",
    "\n",
    "# 3. Answer via slicing - BETTER!!!!!:\n",
    "\n",
    "string = '.......'\n",
    "\n",
    "reversed_string = string[::-1] \n",
    "# \"Start at position 0 ---> go to end in increments of -1\""
   ]
  },
  {
   "cell_type": "markdown",
   "metadata": {},
   "source": [
    "__Note:__ You can do this to reverse digits in a number too! The only additional thing is to convert data types!!!\n",
    "```python\n",
    "number = 123456789\n",
    "reversed_number = int(str(number)[::-1])\n",
    "```"
   ]
  },
  {
   "cell_type": "markdown",
   "metadata": {},
   "source": [
    "***\n",
    "## 4. Fizzbuzz\n",
    "\n",
    "__Question:__ For a continuous list of integers with length _n_, print the list. \n",
    "\n",
    "If an integer is divisible by 3, replace the integer with the string \"fizz\". If the integer is divisible by 5, replace the integer with the string \"buzz\". If the integer is divisible by both 3 and 5, replace the integer with the string \"fizzbuzz.\""
   ]
  },
  {
   "cell_type": "code",
   "execution_count": 59,
   "metadata": {
    "collapsed": true
   },
   "outputs": [
    {
     "ename": "ModuleNotFoundError",
     "evalue": "No module named 'fizzbuzz'",
     "output_type": "error",
     "traceback": [
      "\u001b[1;31m---------------------------------------------------------------------------\u001b[0m",
      "\u001b[1;31mModuleNotFoundError\u001b[0m                       Traceback (most recent call last)",
      "\u001b[1;32m<ipython-input-59-408ced9fdc54>\u001b[0m in \u001b[0;36m<module>\u001b[1;34m\u001b[0m\n\u001b[0;32m     38\u001b[0m \u001b[1;31m# METHOD 3: EASIEST METHOD!\u001b[0m\u001b[1;33m\u001b[0m\u001b[1;33m\u001b[0m\u001b[1;33m\u001b[0m\u001b[0m\n\u001b[0;32m     39\u001b[0m \u001b[1;33m\u001b[0m\u001b[0m\n\u001b[1;32m---> 40\u001b[1;33m \u001b[1;32mimport\u001b[0m \u001b[0mfizzbuzz\u001b[0m\u001b[1;33m\u001b[0m\u001b[1;33m\u001b[0m\u001b[0m\n\u001b[0m",
      "\u001b[1;31mModuleNotFoundError\u001b[0m: No module named 'fizzbuzz'"
     ]
    }
   ],
   "source": [
    "# METHOD 1: MANUAL CHECK\n",
    "\n",
    "def fizzbuzz1(numlistlength):\n",
    "    for i in range(numlistlength+1):\n",
    "        if i % 3 == 0 and i % 5 == 0:\n",
    "            print(\"fizzbuzz\")\n",
    "            continue\n",
    "        elif i % 3 == 0:\n",
    "            print(\"fizz\")\n",
    "            continue\n",
    "        elif i % 5 == 0:\n",
    "            print(\"buzz\")\n",
    "            continue\n",
    "        else:\n",
    "            print(i)\n",
    "            \n",
    "#-------------------------------------\n",
    "# METHOD 2: STRING CONCATENATION\n",
    "\n",
    "# Better method\n",
    "\n",
    "def fizzbuzz2(numlistlength):\n",
    "    for i in range(numlistlength+1):\n",
    "        numb =''\n",
    "        \n",
    "        if i % 3 == 0:\n",
    "            numb +='fizz'\n",
    "            \n",
    "        if i % 5 == 0:\n",
    "            numb +='buzz'\n",
    "            \n",
    "        if numb == '':\n",
    "            print(i)\n",
    "        else:\n",
    "            print(numb)\n",
    "            \n",
    "#-------------------------------------\n",
    "# METHOD 3: EASIEST METHOD!\n",
    "\n",
    "# import fizzbuzz -------- commented out because I don't have that module."
   ]
  },
  {
   "cell_type": "markdown",
   "metadata": {},
   "source": [
    "***\n",
    "## 5. Reading Input from System\n",
    "\n",
    "__Question:__ How do you convert system information into list variables?"
   ]
  },
  {
   "cell_type": "code",
   "execution_count": null,
   "metadata": {},
   "outputs": [],
   "source": [
    "# DON'T RUN THIS CELL!!!!!!!!!!!!!!**************\n",
    "\n",
    "# Answer: Three ways, all very similar\n",
    "\n",
    "import sys\n",
    "\n",
    "list_of_inputs = sys.stdin.readlines() # DON'T RUN THIS CELL!!!!!!!!!!!!!!\n",
    "\n",
    "# each input will be a string within the list, convert to list or integer as necessary:\n",
    "\n",
    "# say there were three inputs, with three being a 'list' string of 2, 2, 4, 5, 7...\n",
    "\n",
    "main_list_input = [int(elem) for elem in list_of_inputs[3].split()]\n",
    "\n",
    "#####################################\n",
    "\n",
    "# Can use comprehensive cheating way!\n",
    "\n",
    "# import sys\n",
    "import fileinput\n",
    "\n",
    "N = []\n",
    "\n",
    "for i in range(2): # 2 = number of inputs (known value)\n",
    "    N.append(list(map(int, input().rstrip().split())))\n",
    "    \n",
    "#############################\n",
    "\n",
    "# EASIEST KNOWN WAY! .iter() has a good secondary use for reading sys line by line!!!!!!!\n",
    "# This creates every line of stdin as its own list, all combined into one input_matrix list comprehension\n",
    "\n",
    "input_matrix = [[float(x) for x in line.split()] for line in iter(input, '')]\n",
    "\n",
    "print(input_matrix) \n",
    "\n",
    "# less succinct version of the above:\n",
    "\n",
    "input_matrix = []\n",
    "while True:\n",
    "    line = sys.stdin.readline().strip()\n",
    "    if not line:\n",
    "        break\n",
    "    input_matrix.append(map(float, line.split()))"
   ]
  },
  {
   "cell_type": "markdown",
   "metadata": {},
   "source": [
    "## 5. Calculating Mode\n",
    "\n",
    "Numpy and other Python packages do not offer a .mode() method because it's much more complicated than median or mean. What kind of function can be created to offer a mode?"
   ]
  },
  {
   "cell_type": "code",
   "execution_count": 41,
   "metadata": {
    "collapsed": true
   },
   "outputs": [
    {
     "name": "stdout",
     "output_type": "stream",
     "text": [
      "ModeResult(mode=array([1]), count=array([2]))\n",
      "<class 'list'>\n"
     ]
    },
    {
     "ename": "AttributeError",
     "evalue": "'list' object has no attribute 'tolist'",
     "output_type": "error",
     "traceback": [
      "\u001b[1;31m---------------------------------------------------------------------------\u001b[0m",
      "\u001b[1;31mAttributeError\u001b[0m                            Traceback (most recent call last)",
      "\u001b[1;32m<ipython-input-41-98ca4c5e7cb4>\u001b[0m in \u001b[0;36m<module>\u001b[1;34m\u001b[0m\n\u001b[0;32m      7\u001b[0m \u001b[1;31m# import numpy\u001b[0m\u001b[1;33m\u001b[0m\u001b[1;33m\u001b[0m\u001b[1;33m\u001b[0m\u001b[0m\n\u001b[0;32m      8\u001b[0m \u001b[1;33m\u001b[0m\u001b[0m\n\u001b[1;32m----> 9\u001b[1;33m \u001b[0mt\u001b[0m \u001b[1;33m=\u001b[0m \u001b[0mlist\u001b[0m\u001b[1;33m(\u001b[0m\u001b[0mt\u001b[0m\u001b[1;33m)\u001b[0m\u001b[1;33m.\u001b[0m\u001b[0mtolist\u001b[0m\u001b[1;33m(\u001b[0m\u001b[1;33m)\u001b[0m\u001b[1;33m\u001b[0m\u001b[1;33m\u001b[0m\u001b[0m\n\u001b[0m",
      "\u001b[1;31mAttributeError\u001b[0m: 'list' object has no attribute 'tolist'"
     ]
    }
   ],
   "source": [
    "# Sample DataFrame\n",
    "df = pd.DataFrame()\n",
    "df['age'] = [28, 42, 24, 27, 35, 24, 54, 25, 37, 37]\n",
    "\n",
    "#################################\n",
    "\n",
    "# ZERO-TH ANSWER: The fastest but wrong way\n",
    "\n",
    "import statistics\n",
    "\n",
    "statistics.mode(df['age'])\n",
    "'Bad because will throw StatisticsError if multiple modes!!!'\n",
    "\n",
    "#################################\n",
    "\n",
    "# FIRST ANSWER: The cheap and easy way (the 'best' way????)\n",
    "\n",
    "from collections import Counter\n",
    "\n",
    "Counter(df['age']).most_common()\n",
    "\n",
    "#################################\n",
    "\n",
    "# SECOND ANSWER: The more manual counting way\n",
    "\n",
    "def compute_mode(numbers):\n",
    "    counts = {}\n",
    "    maxcount = 0\n",
    "    for number in numbers:\n",
    "        if number not in counts:\n",
    "            counts[number] = 1 # placing count for new number into dictionary\n",
    "        else:\n",
    "            counts[number] += 1\n",
    "            \n",
    "        if counts[number] > maxcount:\n",
    "            maxcount = counts[number] # keeping tally of what is maxcount loop by loop\n",
    "            \n",
    "    for number, count in counts.items(): # loop done in case there are multiple modes\n",
    "        if count == maxcount:\n",
    "            print(number, count)\n",
    "\n",
    "compute_mode(df['age'])"
   ]
  },
  {
   "cell_type": "markdown",
   "metadata": {},
   "source": [
    "# 6. Fibonacci Sequence\n",
    "\n",
    "__Question:__ Provide the nth value of the Fibonacci Sequence"
   ]
  },
  {
   "cell_type": "code",
   "execution_count": null,
   "metadata": {},
   "outputs": [],
   "source": []
  },
  {
   "cell_type": "markdown",
   "metadata": {},
   "source": [
    "***\n",
    "# 7. Organizing String Characters Alphabetically\n",
    "\n",
    "__Question:__ Create a function that organizes all characters of a single word string alphabetically. If there is a mixture of uppercase and lowercase letters, place the uppercase before the lower case in the alphabetical order. For example: if string = 'adsDjA', the desired sorted string would be 'AaDdjs'."
   ]
  },
  {
   "cell_type": "code",
   "execution_count": 8,
   "metadata": {},
   "outputs": [
    {
     "name": "stdout",
     "output_type": "stream",
     "text": [
      "['.', '1', '2', '2', '5', '6', '?', 'C', 'X', 'Y', 'Z', 'a', 'a', 'a', 'a', 'b', 'c', 'd', 'd', 'f', 'g', 'h', 'h', 'h', 'i', 'i', 'l', 'l', 'l', 'o', 'p', 'q', 's']\n",
      ".12256?CXYZaaaabcddfghhhiilllopqs\n"
     ]
    }
   ],
   "source": [
    "# Answer: use Python's \"Sorted\" function\n",
    "\n",
    "samplestring = \"cbh?das26dli1aal2i5YfhhZalCX.gqpo\"\n",
    "sortedstringset = sorted(samplestring)\n",
    "print(sortedstringset)\n",
    "\n",
    "alphabetizedstring = \"\".join(sortedstringset)\n",
    "print(alphabetizedstring)\n"
   ]
  },
  {
   "cell_type": "code",
   "execution_count": 38,
   "metadata": {},
   "outputs": [
    {
     "name": "stdout",
     "output_type": "stream",
     "text": [
      ".12256?aaaabCcddfghhhiilllopqsXYZ\n",
      ".12256?aaaabcCddfghhhiilllopqsXYZ\n",
      ".12256?aaaabCcddfghhhiilllopqsXYZ\n"
     ]
    }
   ],
   "source": [
    "# NOT DONE YET!\n",
    "# Need to place capital letters in correct spot\n",
    "\n",
    "'''\n",
    "We do this by specifying *keys* arguments\n",
    "in order of how the sorting function will work\n",
    "'''\n",
    "\n",
    "alphabetizedrevised = sorted(alphabetizedstring, key=lambda x: (x.upper()))\n",
    "print(''.join(alphabetizedrevised))\n",
    "\n",
    "'''\n",
    "We read this as: \n",
    "*When sorting alphabetizedstring, \n",
    "sort AS IF all letter characters were capitalized.\n",
    "Return sorted list with regular casing of characters.*\n",
    "'''\n",
    "\n",
    "# to put uppercase letters *after* lowercase, \n",
    "# a little different...\n",
    "\n",
    "alphabetizedrevised2 = sorted(alphabetizedstring, key=lambda x: (x.lower(), x.isupper()))\n",
    "print(''.join(alphabetizedrevised2))\n",
    "\n",
    "'''\n",
    "We read this as:\n",
    "*When sorting alphabetizedstring, \n",
    "sort everything AS IF all letter characters were lower case.\n",
    "\n",
    "AND THEN, after sorting in this fashion is complete,\n",
    "as SECOND KEY,\n",
    "if the original character is uppercase, sort those values \n",
    "AT THE END if there are ties between characters in the first sorting format\n",
    "(i.e., x.lower()).*\n",
    "\n",
    "This second step is necessary because the default sorting mechanism for this function\n",
    "places capital letters in the beginning of a sorted order. Lambda tuples\n",
    "(and tuples in general) are processed \n",
    "\n",
    "***NOTE***: We would not be able to do the second way without a lambda function\n",
    "because the \"key\" method only takes one argument, not two.\n",
    "\n",
    "However, for this reason, we *could have* done key without a lambda function\n",
    "for the first sorting:\n",
    "sorted(alphabetizedstring, key=str.upper)\n",
    "'''\n",
    "\n",
    "# ----------------------------------------------------\n",
    "'''\n",
    "As we can see, key=str.lower does not work because\n",
    "after the string was sorted with all characters being lower case,\n",
    "it then returns the string characters to its original values and \n",
    "sorts any ties accordingly. \n",
    "\n",
    "Again, because the default is to put uppercase letters first, \n",
    "simply doing \"str.lower\" won't sort the capital letters in a different way, \n",
    "thus warranting the second lambda term.\n",
    "'''\n",
    "\n",
    "# As discussed, this does NOT work - yields same result as if\n",
    "# key = str.upper!!!!!\n",
    "alphabetizedrevised3 = sorted(alphabetizedstring, key=str.lower)\n",
    "print(''.join(alphabetizedrevised3))"
   ]
  },
  {
   "cell_type": "code",
   "execution_count": 49,
   "metadata": {},
   "outputs": [
    {
     "name": "stdout",
     "output_type": "stream",
     "text": [
      "['a', 'a', 'a', 'a', 'b', 'c', 'd', 'd', 'f', 'g', 'h', 'h', 'h', 'i', 'i', 'l', 'l', 'l', 'o', 'p', 'q', 's', '1', '2', '2', '5', '6', '.', '?']\n",
      "['a', 'a', 'a', 'a', 'b', 'c', 'd', 'd', 'f', 'g', 'h', 'h', 'h', 'i', 'i', 'l', 'l', 'l', 'o', 'p', 'q', 's', '.', '?', '1', '2', '2', '5', '6']\n"
     ]
    }
   ],
   "source": [
    "# Question 7.1: How do organize string set with numbers AT THE ***END***\n",
    "# AND THEN punctuation marks after that.\n",
    "\n",
    "'''\n",
    "Answer: use .isdigit() to check for digits.\n",
    "and string.punctuation to check for punctuation.\n",
    "Need to import \"string\" module first - part of original python package\n",
    "\n",
    "We achieve this by doing again adding the \"keys\" argument to the sorted function.\n",
    "'''\n",
    "import string\n",
    "\n",
    "samplestring = \"cbh?das26dli1aal2i5fhhal.gqpo\"\n",
    "\n",
    "alphastring = sorted(samplestring, key=(lambda x: (x in string.punctuation, x.isdigit(), x)))\n",
    "print(alphastring)\n",
    "\n",
    "'''\n",
    "Why this works:\n",
    "\n",
    "This is a THREE STEP SORT!\n",
    "\n",
    "The lambda function applies to the string BEFORE sorting.\n",
    "After the lambda function is complete, by virtue of \"key\", \n",
    "sorted() will organize the results.\n",
    "\"x in string.punctuation\" is a boolean check to see if the string\n",
    "character is in the built-in list string.punctuation.\n",
    "\n",
    "Lambda output will be False and True. Because False (0) comes before True (1),\n",
    "it will sort the values accordingly.\n",
    "\n",
    "THEN, once that is done, a second boolean check .isdigit() is performed. \n",
    "The resulting True's and False's are then sorted accordingly.\n",
    "\n",
    "Finally, the original values \"x\" are mapped back onto the string. \n",
    "If we did not do this, then the sorted output would be a series of True's and False's.\n",
    "Once mapped back to the original values, that is the final sort.\n",
    "\n",
    "Note: If it is easier, you can do the sort via multiple variables.\n",
    "alphastring = sorted(samplestring, key=(lambda x: (x in string.punctuation, x)))\n",
    "alphastring2 = sorted(alphastring, key=(lambda x: (x.isdigit(), x)))\n",
    "'''\n",
    "# To have punctuation come BEFORE numbers, \n",
    "# simply switch the lambda function order\n",
    "\n",
    "alphastring2 = sorted(samplestring, key=(lambda x: (x.isdigit(), x in string.punctuation, x)))\n",
    "print(alphastring2)"
   ]
  },
  {
   "cell_type": "markdown",
   "metadata": {},
   "source": [
    "# 8. Totalling Digits in a Number\n",
    "\n",
    "__Question:__ Create a function that sums the digits of any number, including fractions and negative numbers."
   ]
  },
  {
   "cell_type": "code",
   "execution_count": 67,
   "metadata": {},
   "outputs": [],
   "source": [
    "def digitsummer(num):\n",
    "    numstringlist = [x for x in list(str(num))]\n",
    "    \n",
    "    digitsum = 0\n",
    "    \n",
    "    for i in numstringlist: \n",
    "        try:\n",
    "            digitsum += int(i)\n",
    "            \n",
    "        except ValueError:\n",
    "            continue\n",
    "            \n",
    "    return digitsum"
   ]
  },
  {
   "cell_type": "markdown",
   "metadata": {},
   "source": [
    "# Question 8.1: DigitSummer Challenge\n",
    "\n",
    "Total the digits of a number BUT:\n",
    "- If the number is negative, _subtract_ the first digit.\n",
    "- If the number is a fraction, \n",
    "    - _multiply_ the _total_ digitsum by the remainder fraction (i.e., 500.123 would be 11 * 0.123), _and_\n",
    "    - _multiply that total_ by the number of digits following the decimal point (i.e., 11 * 0.123 * 3)"
   ]
  },
  {
   "cell_type": "code",
   "execution_count": 77,
   "metadata": {},
   "outputs": [],
   "source": [
    "# Answer to 8.1\n",
    "def digitsummerchallenge(num):\n",
    "    \n",
    "    if len(str(int(abs(num)))) == 1 and int(num) == float(num): # accounts for 4 and 4.000\n",
    "        return num\n",
    "    \n",
    "    numstringlist = [x for x in list(str(num))]\n",
    "    \n",
    "    digitsum = 0\n",
    "    \n",
    "    negativepos = numstringlist[1] # want first digit, first (0th) character must be '-'\n",
    "    \n",
    "    if num < 0:\n",
    "        for i in numstringlist[2:]:  # totalling remaining digits - float .234 = 0.234, so no worries about prefix 0's\n",
    "            try:\n",
    "                digitsum += int(i)\n",
    "            \n",
    "            except ValueError:\n",
    "                continue\n",
    "                \n",
    "        digitsum -= negativepos\n",
    "        \n",
    "        # getting \"remainder fraction number\"\n",
    "        \n",
    "    else:\n",
    "        for i in numstringlist:  # totalling remaining digits - float .234 = 0.234, so no worries about prefix 0's\n",
    "            try:\n",
    "                digitsum += int(i)\n",
    "            \n",
    "            except ValueError:\n",
    "                continue\n",
    "        \n",
    "    if '.' in numstringlist:\n",
    "            \n",
    "        remaindernum = float(''.join(numstringlist[numstringlist.index('.'):]))\n",
    "        remainderdigitlength = len(numstringlist[numstringlist.index('.')+1:])\n",
    "            \n",
    "            \n",
    "        return digitsum * remaindernum * remainderdigitlength\n",
    "    \n",
    "    else:\n",
    "        return digitsum"
   ]
  },
  {
   "cell_type": "markdown",
   "metadata": {},
   "source": [
    "***\n",
    "# 9. Find First Non-Repeating character\n",
    "\n",
    "__Question:__ Given a string of length *n*,  identify the first character that does __not__ contain an immediate repeat _and_ identify the index / position of that character.\n",
    "\n",
    "__Example:__ For the following string <br>\n",
    "```python\n",
    "'aaa**aabbdd((ddlljkj...'\n",
    "```\n",
    "\n",
    "The answer would be 'j', with position of '17'.\n"
   ]
  },
  {
   "cell_type": "code",
   "execution_count": 15,
   "metadata": {},
   "outputs": [
    {
     "data": {
      "text/plain": [
       "5"
      ]
     },
     "execution_count": 15,
     "metadata": {},
     "output_type": "execute_result"
    }
   ],
   "source": [
    "asd = 'asdkajsldja'\n",
    "\n",
    "list(asd).index('j')"
   ]
  },
  {
   "cell_type": "code",
   "execution_count": 31,
   "metadata": {},
   "outputs": [],
   "source": [
    "# Answer: The \"look around\" method - look to see if either character before and after is the same\n",
    "\n",
    "def first_no_repeat(thestring):\n",
    "    \n",
    "    if thestring[0] != thestring[1]: # for the specific instance of the first character check\n",
    "        print('The first non-repeating character in this string and its position are:\\n')\n",
    "        print(thestring[0])\n",
    "        print(0)\n",
    "    \n",
    "    else:\n",
    "        \n",
    "        for i in range(1, len(thestring)):\n",
    "        \n",
    "            if (thestring[i-1] != thestring[i]) and (thestring[i+1] != thestring[i]):\n",
    "                print('The first non-repeating character in this string and its position are:\\n')\n",
    "                print(thestring[i])\n",
    "                print(list(thestring).index(thestring[i]))\n",
    "            \n",
    "                break\n",
    "            \n",
    "            if i == (len(thestring)-1): # in case there are no repeats\n",
    "                print('There are no repeating characters in this string!')"
   ]
  },
  {
   "cell_type": "code",
   "execution_count": 32,
   "metadata": {
    "scrolled": true
   },
   "outputs": [
    {
     "name": "stdout",
     "output_type": "stream",
     "text": [
      "The first non-repeating character in this string and its position are:\n",
      "\n",
      "a\n",
      "0\n"
     ]
    }
   ],
   "source": [
    "first_no_repeat('adadadada')"
   ]
  },
  {
   "cell_type": "markdown",
   "metadata": {},
   "source": [
    "***\n",
    "## Question 9.1\n",
    "\n",
    "Instead of an _immediate_ repeat, find the first character that does not repeat _at all_ in the string.\n",
    "\n",
    "\n",
    "__Example:__ For the following string <br>\n",
    "```python\n",
    "'aaa**aabbdd((ddlljkj...'\n",
    "```\n",
    "\n",
    "The answer would be 'k', with position of '18'."
   ]
  },
  {
   "cell_type": "code",
   "execution_count": 40,
   "metadata": {},
   "outputs": [],
   "source": [
    "# Answer: The indexing method - using the \"ord\" function\n",
    "\n",
    "'''\n",
    "Here, \"ord\" returns the ASCII value of whatever string character is entered.\n",
    "The first function creates a 256-long list as '0' counters for ASCII values.\n",
    "The ASCII values of the input are counted.\n",
    "\n",
    "The second function determines the index position. We go through the 256-long \n",
    "ASCII list to find the first character nonrepeating (list(ord(i)) == 1) and \n",
    "identify the index value, as defined by \"k\" (which increases by one for each iteration of i)\n",
    "'''\n",
    "\n",
    "def getCharCountArray(thestring): \n",
    "    count = [0] * 256 \n",
    "    for i in thestring: \n",
    "        count[ord(i)]+=1\n",
    "    return count \n",
    "\n",
    "def firstNonRepeating(thestring): \n",
    "    count = getCharCountArray(thestring) \n",
    "    index = -1\n",
    "    k = 0\n",
    "  \n",
    "    for i in thestring: \n",
    "        if count[ord(i)] == 1: \n",
    "            index = k \n",
    "            break\n",
    "        k += 1\n",
    "  \n",
    "    return thestring[k], index"
   ]
  },
  {
   "cell_type": "code",
   "execution_count": 41,
   "metadata": {},
   "outputs": [
    {
     "data": {
      "text/plain": [
       "('f', 5)"
      ]
     },
     "execution_count": 41,
     "metadata": {},
     "output_type": "execute_result"
    }
   ],
   "source": [
    "firstNonRepeating('geeksforgeeks')"
   ]
  },
  {
   "cell_type": "markdown",
   "metadata": {},
   "source": [
    "***\n",
    "# 10. Identifying Value and Index of All Duplicates in a List\n",
    "\n",
    "__Question:__ For a given list, find all values and indecies of duplicates in a list (which can also be done for a string by doing: `list(string)`)."
   ]
  },
  {
   "cell_type": "code",
   "execution_count": null,
   "metadata": {},
   "outputs": [],
   "source": [
    "asd = [1,5,31,131,11,11,112]\n",
    "asd.count(11)"
   ]
  },
  {
   "cell_type": "code",
   "execution_count": 51,
   "metadata": {},
   "outputs": [
    {
     "data": {
      "text/plain": [
       "[(0, 0), (0, 1), (0, 6), (1, 2), (1, 3), (1, 4)]"
      ]
     },
     "execution_count": 51,
     "metadata": {},
     "output_type": "execute_result"
    }
   ],
   "source": [
    "# ANSWER 1: O(n^2) time: \n",
    "\n",
    "'''\n",
    "For this method, the program runs through the list to enumerate and count\n",
    "(via the built-in \".count(value)\" list function).\n",
    "The program runs through the list AGAIN to go through and enumerate each \n",
    "count that is more than one (i.e., duplicated character), and\n",
    "returning that value.\n",
    "'''\n",
    "\n",
    "def list_of_duplicates(mylist):\n",
    "\n",
    "    duplicatedlist = [(x,i) for i, x in enumerate(mylist) if mylist.count(x) > 1]\n",
    "    duplicatedlist.sort() # to make it look pretty!\n",
    "    \n",
    "    return duplicatedlist\n",
    "\n",
    "list_of_duplicates([0,0,1,1,1,2,0])"
   ]
  },
  {
   "cell_type": "code",
   "execution_count": 71,
   "metadata": {},
   "outputs": [
    {
     "name": "stdout",
     "output_type": "stream",
     "text": [
      "The value of 0 is duplicated in this list and is found in positions [0, 1, 6]\n",
      "    \n",
      "The value of 1 is duplicated in this list and is found in positions [2, 3, 4]\n",
      "    \n"
     ]
    }
   ],
   "source": [
    "# if you wanted to make a more consolidated list, \n",
    "# you would have to do more programming\n",
    "\n",
    "addd = [(0, 0), (0, 1), (0, 6), (1, 2), (1, 3), (1, 4)]\n",
    "\n",
    "advalueset = list(set([i[0] for i in set(addd)]))\n",
    "\n",
    "# downside is that this is O(n^2)...\n",
    "\n",
    "for i in advalueset:\n",
    "    \n",
    "    print('''The value of {} is duplicated in this list and is found in positions {}\n",
    "    '''.format(i, [j[1] for j in addd if j[0] == i]))\n",
    "    "
   ]
  },
  {
   "cell_type": "code",
   "execution_count": 103,
   "metadata": {},
   "outputs": [
    {
     "data": {
      "text/plain": [
       "{20: [0, 3]}"
      ]
     },
     "execution_count": 103,
     "metadata": {},
     "output_type": "execute_result"
    }
   ],
   "source": [
    "#---------------------------------------------------\n",
    "#ANSWER 2: Counter class performs a dictionary count innately with O(n) time\n",
    "# because it does the enumeration and counting in the same loop\n",
    "\n",
    "# (Very similar to ANSWER 1, however)...\n",
    "\n",
    "from collections import Counter\n",
    "mylist = [20, 30, 25, 20]\n",
    "[k for k,v in Counter(mylist).items() if v>1]\n",
    "\n",
    "\n",
    "from collections import defaultdict\n",
    "D = defaultdict(list)\n",
    "for i,item in enumerate(mylist):\n",
    "    D[item].append(i)\n",
    "D = {k:v for k,v in D.items() if len(v)>1}\n",
    "\n",
    "D"
   ]
  },
  {
   "cell_type": "code",
   "execution_count": 88,
   "metadata": {},
   "outputs": [
    {
     "data": {
      "text/plain": [
       "[(2, 20)]"
      ]
     },
     "execution_count": 88,
     "metadata": {},
     "output_type": "execute_result"
    }
   ],
   "source": [
    "#---------------------------------------------------\n",
    "#ANSWER 2: Counter class performs a dictionary count innately with O(n) time\n",
    "from collections import Counter, OrderedDict\n",
    "mylist = [20, 30, 25, 20]\n",
    "\n",
    "# most_common() gives tuple count in the form of a list\n",
    "countedlist = [(j,i) for i,j in Counter(mylist).most_common() if j > 1] \n",
    "\n",
    "countedlist"
   ]
  },
  {
   "cell_type": "code",
   "execution_count": 86,
   "metadata": {},
   "outputs": [
    {
     "data": {
      "text/plain": [
       "[(20, 2), (30, 1), (25, 1)]"
      ]
     },
     "execution_count": 86,
     "metadata": {},
     "output_type": "execute_result"
    }
   ],
   "source": [
    "Counter(mylist).most_common()"
   ]
  },
  {
   "cell_type": "markdown",
   "metadata": {},
   "source": [
    "***\n",
    "# 11. Working with Inputs\n",
    "\n",
    "__Question:__ Given three inputs of (1) distance (in miles), (2) time (in minutes), and (3) time (in seconds), output:\n",
    "- Feet per second (and display the units as part of a string)\n",
    "- Miles per hour (and display the units as part of a string)"
   ]
  },
  {
   "cell_type": "code",
   "execution_count": 3,
   "metadata": {},
   "outputs": [
    {
     "name": "stdout",
     "output_type": "stream",
     "text": [
      "Enter distance in miles: 100\n",
      "Enter the time in minutes, EXCLUDING seconds: 10\n",
      "Enter ONLY the seconds portion of time: 0\n",
      "The inputs yield a speed of 880.0 feet per second (or 600.0 miles per hour).\n"
     ]
    }
   ],
   "source": [
    "# inputs = input() (outputs a stirng, so \"int\" is necessary)\n",
    "distance = int(input(\"Enter distance in miles: \"))\n",
    "time_min = int(input(\"Enter the time in minutes, EXCLUDING seconds: \"))\n",
    "time_sec = int(input(\"Enter ONLY the seconds portion of time: \"))\n",
    "\n",
    "# setting calculations to variables\n",
    "\n",
    "feet_per_second = distance * 5280 / ((time_min * 60) + time_sec)\n",
    "miles_per_hour = distance / ((time_min / 60) + (time_sec / 3600))\n",
    "\n",
    "print(\"The inputs yield a speed of {} feet per second (or {} miles per hour).\".format(\n",
    "    round(feet_per_second, 2), \n",
    "    round(miles_per_hour, 2)))"
   ]
  },
  {
   "cell_type": "code",
   "execution_count": null,
   "metadata": {},
   "outputs": [],
   "source": []
  }
 ],
 "metadata": {
  "kernelspec": {
   "display_name": "Python 3",
   "language": "python",
   "name": "python3"
  },
  "language_info": {
   "codemirror_mode": {
    "name": "ipython",
    "version": 3
   },
   "file_extension": ".py",
   "mimetype": "text/x-python",
   "name": "python",
   "nbconvert_exporter": "python",
   "pygments_lexer": "ipython3",
   "version": "3.7.7"
  }
 },
 "nbformat": 4,
 "nbformat_minor": 2
}
