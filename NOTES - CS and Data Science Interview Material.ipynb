{
 "cells": [
  {
   "cell_type": "markdown",
   "metadata": {},
   "source": [
    "# DATA SCIENCE INTERVIEW MATERIALS\n",
    "\n",
    "Taken from this [reddit link](https://www.reddit.com/r/cscareerquestions/comments/1jov24/heres_how_to_prepare_for_tech_interviews/).\n",
    "\n",
    "__NOTE:__ Some of this information may overlap with Unit 5 Notes, but I am including it here again for comprehensiveness purposes.\n",
    "\n",
    "## Table of Contents\n",
    "\n",
    "1. __Data Structures__: Description, example derivation code, big-O values for delete, insert, lookup, etc. \n",
    "    - List/Array (index)\n",
    "    - Linked List (no index - list values defined in relation to adjacent ('linked') values \n",
    "        - Singly linked vs. Doubly-linked\n",
    "    - Trees \n",
    "        - Types\n",
    "            - Basic tree\n",
    "            - Binary tree\n",
    "            - Binary Search tree\n",
    "            - Red-Black tree \n",
    "            - Cartesian tree\n",
    "            - B-tree\n",
    "            - Splay tree\n",
    "            - AVL tree\n",
    "            - KD tree\n",
    "        - depth-first vs. breadth-first\n",
    "    - Heap\n",
    "    - Hash Table (__VERY IMPORTANT!__ Need to know different collision mitigation mechanisms, amortized constant-time)\n",
    "    - Trie (pronounced \"tree\")\n",
    "    - Linked Hash Map\n",
    "        - Two kinds of interview questions: (1) knowing which one to use to code, and (2) comparison questions, such as \"why would you use X over Y in situation Z?\"\n",
    "        - [Data Cheat Sheet for all Big-O](https://www.bigocheatsheet.com/)\n",
    "        <br><br>\n",
    "2. __Algoritihms__: Description, example derivation code, big-O values for _each_ kind of algorithm for _each_ data structure.\n",
    "    - Array Sorting (non-comparison vs. comparison sorting)\n",
    "        - Again, [Data Cheat Sheet for Big-O of Array Sorting ONLY](https://www.bigocheatsheet.com/)\n",
    "    - Tree (in-order, pre-order, post-order, level-order)\n",
    "    - Pre-fix tree searches\n",
    "    - Other traversals: Djikstra, A*, Breadth-first search vs. depth-first search\n",
    "    <br><br>\n",
    "3. __Bits vs. Bytes__\n",
    "    - \"Bitshifting\"\n",
    "    - Big and Little Endian\n",
    "    - \"Write a method to determine whether the bit-wise representation of an integer is a palindrome\"\n",
    "<br><br>\n",
    "4. __How the Internet Works__\n",
    "    - Sockets\n",
    "    - TCP/IP\n",
    "    - HTTP\n",
    "    - Networking Layers and their respective responsibilities\n",
    "    <br><br>\n",
    "5. __Databases & SQL__\n",
    "    - See \"SQL\" Notes - will not be in this noteset\n",
    "<br><br>\n",
    "6. __Basics of Testing__\n",
    "    - What is TDD?\n",
    "    <br><br>\n",
    "7. __Linux__\n",
    "    - Shell Scripting Basics<br>\n",
    "8. __Common questions__\n",
    "    - Fizzbuzz\n",
    "    - Reversing a string"
   ]
  },
  {
   "cell_type": "code",
   "execution_count": null,
   "metadata": {},
   "outputs": [],
   "source": []
  }
 ],
 "metadata": {
  "kernelspec": {
   "display_name": "Python 3",
   "language": "python",
   "name": "python3"
  },
  "language_info": {
   "codemirror_mode": {
    "name": "ipython",
    "version": 3
   },
   "file_extension": ".py",
   "mimetype": "text/x-python",
   "name": "python",
   "nbconvert_exporter": "python",
   "pygments_lexer": "ipython3",
   "version": "3.7.1"
  }
 },
 "nbformat": 4,
 "nbformat_minor": 2
}
