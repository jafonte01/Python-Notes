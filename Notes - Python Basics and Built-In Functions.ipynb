{
 "cells": [
  {
   "cell_type": "code",
   "execution_count": 18,
   "metadata": {},
   "outputs": [
    {
     "name": "stdout",
     "output_type": "stream",
     "text": [
      "['555', '123', '456']\n",
      "['555', '123', '456', '69 dude!']\n"
     ]
    },
    {
     "data": {
      "text/plain": [
       "'555-123-456-69 dude!'"
      ]
     },
     "execution_count": 18,
     "metadata": {},
     "output_type": "execute_result"
    }
   ],
   "source": [
    "# couple of Unit 1 notes...\n",
    "# for string\n",
    "heya = 'hello world!'\n",
    "# can modify via .upper(), lower(),etc.\n",
    "heya[:3].upper()\n",
    "\n",
    "# can append, join, etc. multiple things too\n",
    "phonenumber = ['555', '123', '456']\n",
    "'-'.join(phonenumber)\n",
    "print(phonenumber)\n",
    "phonenumber.append('69 dude!')\n",
    "print(phonenumber)\n",
    "realnumber = '-'.join(phonenumber)\n",
    "realnumber"
   ]
  },
  {
   "cell_type": "code",
   "execution_count": 11,
   "metadata": {},
   "outputs": [
    {
     "name": "stdout",
     "output_type": "stream",
     "text": [
      "The two numbers I am thinking of are 69 and Four Twenty Baby!\n",
      "xylophone\n",
      "                                                                                           xylophone\n",
      "xylophone \n",
      "                    xylophone                     \n",
      "The two numbers I am thinking of are 69 and 420.0\n"
     ]
    },
    {
     "data": {
      "text/plain": [
       "'The 3 numbers that I am thinking of are 1, 2, and Four Twenty Baby!'"
      ]
     },
     "execution_count": 11,
     "metadata": {},
     "output_type": "execute_result"
    }
   ],
   "source": [
    "# formatting strings - 3 WAYS\n",
    "\n",
    "#1--------------.format\n",
    "print('The two numbers I am thinking of are {} and {}'.format(69, 'Four Twenty Baby!'))\n",
    "\n",
    "# with .format, you can even do string modifications inside the curly brackets\n",
    "print('{:5s}'.format('xylophone')) # splice\n",
    "print('{:>100}'.format('xylophone')) # moving over via whitespace\n",
    "print('{:10}'.format('xylophone')) # align left instead of right\n",
    "print('{:^50}'.format('xylophone')) # centering string with whitespace around it\n",
    "\n",
    "#2---------------f in the front\n",
    "print(f'The two numbers I am thinking of are {23*3} and {840/2}')\n",
    "\n",
    "#3-------------- Percentage sign % - Not favored as 'Not as Pythonic' (i.e., kinda deprecated)\n",
    "X = (1,2)\n",
    "y = 'Four Twenty Baby!'\n",
    "'The %d numbers that I am thinking of are %d, %d, and %s' % (len(X) + 1, X[0], X[1], y)\n"
   ]
  },
  {
   "cell_type": "code",
   "execution_count": 1,
   "metadata": {},
   "outputs": [
    {
     "data": {
      "text/plain": [
       "{0: 1, 1: 2, 2: 4, 3: 1, 4: 1}"
      ]
     },
     "execution_count": 1,
     "metadata": {},
     "output_type": "execute_result"
    }
   ],
   "source": [
    "# counting in lists, use numpy!!!!\n",
    "import numpy as np\n",
    "\n",
    "my_list = [1, 2, 3, 1, 0, 4, 2, 2, 2]\n",
    "unique, counts = np.unique(my_list, return_counts=True) # just a parameter within this\n",
    "dict(zip(unique, counts))\n"
   ]
  },
  {
   "cell_type": "code",
   "execution_count": null,
   "metadata": {},
   "outputs": [],
   "source": [
    "# formatting print jobs\n",
    "print('{:50,.0f}'.format(12333344445676.0123456789))\n",
    "\n",
    "# first number is how much offset from the left it is, \n",
    "# second num is how many points after the decimal should be shown (e.g., .3f is to the thousandth place)"
   ]
  },
  {
   "cell_type": "code",
   "execution_count": null,
   "metadata": {},
   "outputs": [],
   "source": [
    "# TYPES OF MULTIPLE ITEMS\n",
    "tuple(5,6) # immutable\n",
    "list(5,6)  # mutable (can pop off items, add items, etc.)\n",
    "set(5,6)  # curly bracket tuple - rarely used\n",
    "sampledict = dict(5:6, 'fff':22, 24:'asd') # key value pairs\n",
    "\n",
    "np.array[[55,2], ['a', 14], [444,11,'ddd']]\n",
    "\n",
    "# TO CHANGE MULTIPLE ITEM DATATYPE, SIMPLY PUT THE DESIRED OBJECT TYPE IN FRONT OF IT\n",
    "\n",
    "a = tuple(5,6)\n",
    "a = list(a)\n",
    "print(type(a))\n",
    "\n",
    "# to get list of dict keys\n",
    "sampledict[key]"
   ]
  },
  {
   "cell_type": "code",
   "execution_count": 21,
   "metadata": {
    "collapsed": true
   },
   "outputs": [
    {
     "ename": "TypeError",
     "evalue": "'int' object is not callable",
     "output_type": "error",
     "traceback": [
      "\u001b[1;31m---------------------------------------------------------------------------\u001b[0m",
      "\u001b[1;31mTypeError\u001b[0m                                 Traceback (most recent call last)",
      "\u001b[1;32m<ipython-input-21-2e6b7ed61964>\u001b[0m in \u001b[0;36m<module>\u001b[1;34m\u001b[0m\n\u001b[0;32m      1\u001b[0m \u001b[1;31m# splicing\u001b[0m\u001b[1;33m\u001b[0m\u001b[1;33m\u001b[0m\u001b[1;33m\u001b[0m\u001b[0m\n\u001b[1;32m----> 2\u001b[1;33m \u001b[0ma\u001b[0m \u001b[1;33m=\u001b[0m \u001b[0mlist\u001b[0m\u001b[1;33m(\u001b[0m\u001b[0mrange\u001b[0m\u001b[1;33m(\u001b[0m\u001b[1;36m25\u001b[0m\u001b[1;33m)\u001b[0m\u001b[1;33m)\u001b[0m\u001b[1;33m\u001b[0m\u001b[1;33m\u001b[0m\u001b[0m\n\u001b[0m\u001b[0;32m      3\u001b[0m \u001b[0ma\u001b[0m\u001b[1;33m\u001b[0m\u001b[1;33m\u001b[0m\u001b[0m\n\u001b[0;32m      4\u001b[0m \u001b[1;31m#print(my_list[20]) # prints single item (#19, NOT # 20, as list starts at 0, not 1)\u001b[0m\u001b[1;33m\u001b[0m\u001b[1;33m\u001b[0m\u001b[1;33m\u001b[0m\u001b[0m\n\u001b[0;32m      5\u001b[0m \u001b[1;31m#print(my_list[-20]) # prints 19th item counting backwards\u001b[0m\u001b[1;33m\u001b[0m\u001b[1;33m\u001b[0m\u001b[1;33m\u001b[0m\u001b[0m\n",
      "\u001b[1;31mTypeError\u001b[0m: 'int' object is not callable"
     ]
    }
   ],
   "source": [
    "#list organization\n",
    "range(10)      # object : \"range(0,9)\"\n",
    "len(range(10)) # number: 10\n",
    "list(range(10))# list: [0,1,2,3,4,5,6,7,8,9]\n",
    "\n",
    "#------------------------------------------------------------\n",
    "\n",
    "# slicing\n",
    "print(my_list[20]) # prints single item (#19, NOT # 20, as list starts at 0, not 1)\n",
    "print(my_list[-20]) # prints 19th item counting backwards\n",
    "print(my_list[20:]) # prints item # 19 and all items after that in list (do [:20] for all values leading up to item #19)\n",
    "print(my_list[10:20]) # prints item within designated range (10 to 19)\n",
    "print(my_list[::4]) # prints items of interval of every four\n",
    "print(my_list[:19:4]) #prints interval within desired range\n",
    "\n",
    "numpy.arange(11, 17, 0.5) allows you to create a list but in .5 intervals\n",
    "\n",
    "# multi-dimensional array slicing:\n",
    "#----------------------------array[:, 1:3] == all rows, columns 1 and 2 (not 3, remember????)\n",
    "#----------------------------array[3, :] == row 3 only, look at all columns\n",
    "#----------------------------array[:,:] == same as _array_ - obviously not used\n",
    "\n",
    "# indexing on lists\n",
    "# finding index value(s) by item within list\n",
    "\n",
    "desired_index_number = name_of_list.index(thing you want to pull) \n",
    "# example\n",
    "sampleindex = my_list.index('e') # if you want to pull more than one thing, do multiple lines"
   ]
  },
  {
   "cell_type": "code",
   "execution_count": null,
   "metadata": {},
   "outputs": [],
   "source": [
    "# Can even slice via mathematical operations!\n",
    "alice = text_cleaner(alice[:int(len(alice)/10)])"
   ]
  },
  {
   "cell_type": "code",
   "execution_count": null,
   "metadata": {},
   "outputs": [],
   "source": [
    "# SORTING LISTS!!!!!!!!!!!!!!!!!!!!!\n",
    "\n",
    "mylist1 = [1, 2, 3, 4, 5]\n",
    "mylist1.sort() \n",
    "# transforms mylist1 into *ascending* values, otherwise .sort(reverse=True)\n",
    "# sorted(mylist1) is UNIVERSALLY EASIER\n",
    "\n",
    "# For tuples:\n",
    "mylist2 = [2, 3, 5, 6, 7]\n",
    "mylist3 = [(i, j) for i, j in zip(mylist1, mylist2)]\n",
    "# if length between two lists is mismatched, it will only do this until the \n",
    "# length of one is exhausted and will stop at that point\n",
    "\n",
    "# Sorting by the SECOND VALUE in each newly formed tuple:\n",
    "mylist3.sort(key=lambda tup: tup[1], reverse=True)\n",
    "# can also do this, which is over 100% faster\n",
    "from operator import itemgetter\n",
    "mylist3.sort(key=itemgetter(1), reverse=True)"
   ]
  },
  {
   "cell_type": "code",
   "execution_count": null,
   "metadata": {},
   "outputs": [],
   "source": [
    "# Unpacking tupled list\n",
    "\n",
    "# works for immutable tuples and mutable []'s\n",
    "\n",
    ">>> x = [(1,2), (3,4), (5,6)]\n",
    ">>> for item in x:\n",
    "...     print \"A tuple\", item\n",
    "A tuple (1, 2)\n",
    "A tuple (3, 4)\n",
    "A tuple (5, 6)\n",
    "\n",
    "# \"unpacking\" to access second item in ***each*** tuple, b\n",
    ">>> for a, b in x:\n",
    "...     print \"First\", a, \"then\", b\n",
    "First 1 then 2\n",
    "First 3 then 4\n",
    "First 5 then 6"
   ]
  },
  {
   "cell_type": "code",
   "execution_count": null,
   "metadata": {},
   "outputs": [],
   "source": [
    "# randomization opportunities\n",
    "import random\n",
    "# set up list\n",
    "x = [1,5,123123,7777, 'adada', 112, ' ']\n",
    "\n",
    "# single random item from list\n",
    "randoitem = random.choice(x)\n",
    "\n",
    "# multiple items\n",
    "randoitem = random.choices(x, k=5) # five items\n",
    "\n",
    "# random choice from np.array\n",
    "random_row = numpy.random.randint(3, size=1) # output 1 row of length 3\n",
    "array[random_row, :] # looking through all columns for random_row ----\n",
    "\n",
    "# finding x number of samples within designated list/tuple/etc.\n",
    "random.sample(range(1, 100), 3)\n",
    "\n",
    "# random item by FINDING LIST INDEX WITH .indx\n",
    "random_index = randrange(len(movie_list))\n",
    "item = movie_list[random_index]\n",
    "\n",
    "# finding index BY ITEM\n",
    "\n",
    "# 'x' is our list\n",
    "desired_index_number = x.index('adada')"
   ]
  },
  {
   "cell_type": "code",
   "execution_count": 13,
   "metadata": {
    "collapsed": true
   },
   "outputs": [
    {
     "name": "stdout",
     "output_type": "stream",
     "text": [
      "8\n",
      "8\n",
      "1584.0\n",
      "4\n"
     ]
    },
    {
     "ename": "NameError",
     "evalue": "name 'y' is not defined",
     "output_type": "error",
     "traceback": [
      "\u001b[1;31m---------------------------------------------------------------------------\u001b[0m",
      "\u001b[1;31mNameError\u001b[0m                                 Traceback (most recent call last)",
      "\u001b[1;32m<ipython-input-13-2c24e4c5fb21>\u001b[0m in \u001b[0;36m<module>\u001b[1;34m\u001b[0m\n\u001b[0;32m     14\u001b[0m \u001b[0mprint\u001b[0m\u001b[1;33m(\u001b[0m\u001b[0mmy_multiplier\u001b[0m\u001b[1;33m(\u001b[0m\u001b[1;36m2\u001b[0m\u001b[1;33m,\u001b[0m\u001b[1;36m4\u001b[0m\u001b[1;33m,\u001b[0m\u001b[1;36m4\u001b[0m\u001b[1;33m,\u001b[0m\u001b[1;36m1.5\u001b[0m\u001b[1;33m,\u001b[0m\u001b[1;36m33\u001b[0m\u001b[1;33m)\u001b[0m\u001b[1;33m)\u001b[0m\u001b[1;33m\u001b[0m\u001b[1;33m\u001b[0m\u001b[0m\n\u001b[0;32m     15\u001b[0m \u001b[0mprint\u001b[0m\u001b[1;33m(\u001b[0m\u001b[0mmy_multiplier\u001b[0m\u001b[1;33m(\u001b[0m\u001b[1;36m2\u001b[0m\u001b[1;33m)\u001b[0m\u001b[1;33m)\u001b[0m\u001b[1;33m\u001b[0m\u001b[1;33m\u001b[0m\u001b[0m\n\u001b[1;32m---> 16\u001b[1;33m \u001b[0mprint\u001b[0m\u001b[1;33m(\u001b[0m\u001b[0mmy_multiplier\u001b[0m\u001b[1;33m(\u001b[0m\u001b[1;36m2\u001b[0m\u001b[1;33m,\u001b[0m\u001b[0my\u001b[0m\u001b[1;33m)\u001b[0m\u001b[1;33m)\u001b[0m\u001b[1;33m\u001b[0m\u001b[1;33m\u001b[0m\u001b[0m\n\u001b[0m",
      "\u001b[1;31mNameError\u001b[0m: name 'y' is not defined"
     ]
    }
   ],
   "source": [
    "#-----------------------------------------------------------------\n",
    "# FUNCTIONALITY\n",
    "\n",
    "def my_multiplier(x,y=2, *args): # the double asterisk, **kwargs, uses key value pairs (but it's the same thing)\n",
    "    total = x*y\n",
    "    \n",
    "    for arg in args:\n",
    "        total *= arg\n",
    "    \n",
    "    return total\n",
    "\n",
    "print(my_multiplier(x=2, y=4))\n",
    "print(my_multiplier(2,4))\n",
    "print(my_multiplier(2,4,4,1.5,33))\n",
    "print(my_multiplier(2)) # y already set to 2\n",
    "print(my_multiplier(2,y))\n",
    "\n",
    "# NOTE ABOUT FUNCTIONS: ANYTHING INSIDE THE FUNCTION (VIA INDENTING) STAYS INSIDE THE FUNCTION - YOU CANNOT CALL IT OUTSIDE\n",
    "# YOU CAN EVEN DEFINE OTHER \"NESTED\" FUNCTIONS INSIDE FUNCTIONS!"
   ]
  },
  {
   "cell_type": "markdown",
   "metadata": {},
   "source": [
    "__Some Function things:__\n",
    "return = outputs something (without it or an express \"print\" call, nothing will be outputted despite the function calculation actually being performed. For this reason, you __MUST__ set the function to a variable to keep its value (`sample = my_multiplier(1,3,55)`).\n",
    "\n",
    "pass = forcibly ignores the rest of the function and stops\n",
    "continue = ignores portion of function, continues on\n",
    "break = stops the operation right there, moves on to separate portion of function\n",
    "yield = similar to return although not formally outputted"
   ]
  },
  {
   "cell_type": "code",
   "execution_count": null,
   "metadata": {},
   "outputs": [],
   "source": [
    "# MANUAL LOOPS!\n",
    "# iterating through doesn't change values...\n",
    "x = [1,2,3,4,5,6]\n",
    "for i in x:\n",
    "    if i > 4:\n",
    "        i = 0\n",
    "        \n",
    "# The above will NOT CHANGE i (5 and 6) in x TO 0!!!!!!!! it is useless. shame on python\n",
    "# Two ways to iterate through and change x:\n",
    "1. Naive append way:\n",
    "newx = []\n",
    "for i in x:\n",
    "    if i > 4:\n",
    "        newx.append(0)\n",
    "        \n",
    "2. enumerate attribute:\n",
    "    \n",
    "    for (indx, item) in enumerate(mylist):\n",
    "        if item > 4:\n",
    "            mylist[indx] = 0\n",
    "            \n",
    "3. .iterrows() - similar function as enumerate\n",
    "\n",
    "for idx, row in df['column'].iterrows(): # use this for loop\n",
    "\n",
    "4. Lambda function\n",
    "Works in the same way as list comprehensions (below). See Unit 3 Notes for more information\n",
    "\n",
    "# ugh. How did I last this long without knowing that. So dumb!\n",
    "\n",
    "# POTENTIAL ERRORS:\n",
    "1. Length of list does not match length of index\n",
    "# ANSWER: Your dataframe refuses to accept a numpy series - even if it's the same length\n",
    "# append to a regular list, then df['List'] = pd.Series(regularlist) - that's the workaround\n"
   ]
  },
  {
   "cell_type": "code",
   "execution_count": null,
   "metadata": {},
   "outputs": [],
   "source": [
    "# LIST COMPREHENSIONS!!!!!!!!!!!!!!!!\n",
    "\n",
    "# TWO WAYS:\n",
    "\n",
    "# 0. No conditions syntax\n",
    "newvariable = [x for x in LISTVARIABLE]\n",
    "\n",
    "# 1. Single condition syntax\n",
    "newvariable = [x for x in LISTVARIABLE if x CONDITION]\n",
    "\n",
    "#2. Multiple condition syntax\n",
    "newvariable = [x if CONDITION else CONDITION2 for x in LIST]\n",
    "\n",
    "# more than two conditions requires parenthetical else's\n",
    "ar = [('four' if i % 4 == 0 else ('six' if i % 6 == 0 else i)) for i in range(1, n)]\n",
    "\n",
    "# 3 Nested comprehensions (for when you want to use multiple lists as conditions): USE ZIP!:\n",
    "dffix['LogProp2'] = [(0.5 * np.log(2) / y ** 2) if x == 0 else x for x, y in zip(dffix['LogProp2'], dffix['Population'])]"
   ]
  },
  {
   "cell_type": "code",
   "execution_count": 2,
   "metadata": {},
   "outputs": [
    {
     "data": {
      "text/plain": [
       "2.7547"
      ]
     },
     "execution_count": 2,
     "metadata": {},
     "output_type": "execute_result"
    }
   ],
   "source": [
    "# ROUNDING!\n",
    "# round(number, number of digits after decimal)\n",
    "round((146/53), 4)"
   ]
  },
  {
   "cell_type": "code",
   "execution_count": null,
   "metadata": {},
   "outputs": [],
   "source": [
    "# A note on ************missing values********** in a Data Set, because it WILL happen!\n",
    "\n",
    "\n",
    "MOVE THIS TO A DIFFERENT NOTE SET!\n",
    "\n",
    "# for a csv = pd.read_csv(file_path), you can drop omitted integer\n",
    "# if encoding problem, do encoding='utf-8' or ='latin-1'\n",
    "\n",
    "# if you get:\n",
    "# SyntaxError: (unicode error) 'unicodeescape' codec can't decode bytes in position 2-3: truncated \\UXXXXXXXX escape\n",
    "# it's because your file path has forward slashes \\. That's no bueno because that's the escape character\n",
    "\n",
    "# do backslashes / or double forward between each file level \\\\\n",
    "\n",
    "'C:/User/DSule/Desktop/python/nyc.csv'\n",
    "\n",
    "# values ('Nan' = 'Not a Number') with \n",
    "#csv = csv.dropna() or\n",
    "#new_csv = csv.dropna() or whatever new variable\n",
    "\n",
    "#The above method is for when there are few null values and that you\n",
    "#know that deleting them will not cause adverse effects on your result. \n",
    "# For massive omissions that you want to keep, you can use a mere empty space:\n",
    "# csv = csv.fillna(' ')\n",
    "\n",
    "#It's customary to create the new modified csv via the:\n",
    "# new_csv.to_csv('new_csv.csv', index=False) function."
   ]
  },
  {
   "cell_type": "code",
   "execution_count": null,
   "metadata": {},
   "outputs": [],
   "source": [
    "MOVE THIS TO A DIFFERENT NOTE SET!\n",
    "# since we received this error, this is as good of a time as any to explain to the problem\n",
    "# At the outset, I accidentally set the function list as a variable (something like list = list(range(25)))\n",
    "# This is called accidentally \"shadowing\" a function\n",
    "\n",
    "# No matter how many times you try to reset the variable, you cannot fix it within the same go ---\n",
    "# you must restart the interpreter to fix it, as such:\n",
    ">>> import sys\n",
    ">>> list = sys.modules['__builtin__'].list # -- fixing sum\n",
    ">>> list\n",
    "\n",
    "# easier fix: restart the kernel. All normal normal python settings will be reset"
   ]
  }
 ],
 "metadata": {
  "kernelspec": {
   "display_name": "Python 3",
   "language": "python",
   "name": "python3"
  },
  "language_info": {
   "codemirror_mode": {
    "name": "ipython",
    "version": 3
   },
   "file_extension": ".py",
   "mimetype": "text/x-python",
   "name": "python",
   "nbconvert_exporter": "python",
   "pygments_lexer": "ipython3",
   "version": "3.7.7"
  }
 },
 "nbformat": 4,
 "nbformat_minor": 2
}
