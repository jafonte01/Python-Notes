{
 "cells": [
  {
   "cell_type": "markdown",
   "metadata": {},
   "source": [
    "### Duplicate Encoder (6 kyu)\n",
    "\n",
    "__Goal:__ replaces a character (including ' ') in a string with '(' if the count of that character within the string == 1. If it is 2 or more, the string is replaced with ')'\n",
    "\n",
    "__Example:__ _'asdad1)l('_ -----would turn into------- _')()))((('_\n",
    "\n",
    "__Skill Learned:__ Can add (_concatenate_) characters to the end of a string."
   ]
  },
  {
   "cell_type": "code",
   "execution_count": 1,
   "metadata": {},
   "outputs": [],
   "source": [
    "def duplicate_encode(word):\n",
    "    word = word.lower()                # ignores capitalization for this function\n",
    "    new_word = ''\n",
    "    for char in word:\n",
    "        if int(word.count(char)) == 1: # = '(' when character count equals 1\n",
    "            new_word += '('\n",
    "        else:                          # = ')' when character count exceeds 1\n",
    "            new_word += ')' \n",
    "    return word"
   ]
  },
  {
   "cell_type": "markdown",
   "metadata": {},
   "source": [
    "### Hashtag Generator (5 kyu)\n",
    "\n",
    "__Goal:__ (1) Add hashtag to beginning of string; (2) capitalize every word within string; and (3) take out all empty space; but (4a) if string is empty ('') or (4b) string exceeds 140 characters, return False.\n",
    "\n",
    "__Example:__ \" Hello there thanks for trying my Kata\"  =>  <br>\"#HelloThereThanksForTryingMyKata\"\n",
    "\n",
    "__Skill Learned:__ \n",
    "1. string = string.split() turns 'a string with multiple words' into \\['a', 'string', 'with', 'multiple', 'words'\\]\n",
    "2. new_string = 'joinderstring'.join\\[string\\] turns \\['a', 'string', 'with', 'multiple', 'words'\\] into 'ajoinderstringstringjoinderstringwithjoinderstringmultiplejoinderstringwords'\n",
    "\n",
    "so splitting up words but concatenated into a single string would be\n",
    "\n",
    "' '.join(string)"
   ]
  },
  {
   "cell_type": "code",
   "execution_count": 2,
   "metadata": {},
   "outputs": [],
   "source": [
    "def generate_hashtag(s):\n",
    "    s_no_space = s.replace(' ', '')\n",
    "    if s == '' or int(len(s_no_space)) > 140:\n",
    "        return False\n",
    "    else:\n",
    "        s = s.split()\n",
    "        p = []\n",
    "        for word in s:\n",
    "            word = word.capitalize()\n",
    "            p.append(word)\n",
    "        p = ''.join(p)\n",
    "        return '#', p #concatenates and has # in front of p"
   ]
  },
  {
   "cell_type": "markdown",
   "metadata": {},
   "source": [
    "### Word Scrambler (5 Kyu)\n",
    "\n",
    "__Goal:__ Check to see if second string argument in function can be made out of the letters found in the first string argument in function\n",
    "\n",
    "__Example:__ \n",
    "scramble('rkqodlw', 'world') == True\n",
    "scramble('cedewaraaossoqqyt', 'codewars') == True\n",
    "scramble('katas', 'steak') == False\n",
    "\n",
    "__Skill Learned:__\n",
    "\n",
    "- Deleting a character in a string requires you to do:\n",
    "    - string1 = string1.replace(char, '')\n",
    "    - If you only want to delete a single character instead of a single _type_ of character, add a number parameter for replace to indicate the max replacements done.\n",
    "        - For example, if you want only one 'p' in apple deleted, it would be 'apple'.replace('p', '', 1), or else both p's would be deleted."
   ]
  },
  {
   "cell_type": "code",
   "execution_count": 58,
   "metadata": {},
   "outputs": [],
   "source": [
    "# My answer\n",
    "\n",
    "def scramble(s1, s2):\n",
    "    if len(s1) < len(s2):\n",
    "        return False\n",
    "    else:\n",
    "        s_check = 0\n",
    "        for char in s2:\n",
    "            char = char.lower()\n",
    "            if len(s2) != s_check and char.lower() in s1:\n",
    "                s1 = s1.replace(char, '', 1)\n",
    "                s_check += 1\n",
    "                if len(s2) == s_check:\n",
    "                    return True\n",
    "                else:   \n",
    "                    continue\n",
    "            else:\n",
    "                return False\n",
    "\n",
    "# A faster version of my function\n",
    "\n",
    "def scramble(s1, s2):\n",
    "    if len(s1) < len(s2): \n",
    "        return False \n",
    "    else:\n",
    "        success = 0\n",
    "        for c in s2:\n",
    "            ind = s1.find(c)\n",
    "            if ind > -1:\n",
    "                s1 = s1[:ind] + s1[ind+1:]\n",
    "                success = success + 1\n",
    "    if success == len(s2):\n",
    "        return True\n",
    "                    \n",
    "    return False "
   ]
  },
  {
   "cell_type": "markdown",
   "metadata": {},
   "source": [
    "### Where my Anagrams At? (5 Kyu)\n",
    "\n",
    "__Goal:__ Check if two strings are anagrams of each other.\n",
    "\n",
    "__Examples:__ <br>\n",
    "'abba' & 'baab' == true\n",
    "\n",
    "'abba' & 'bbaa' == true\n",
    "\n",
    "'abba' & 'abbba' == false\n",
    "\n",
    "'abba' & 'abca' == false\n",
    "\n",
    "__Skill Learned:__ How to split strings into individual letters. For the word = \"racer\":\n",
    "\n",
    "- list(word) => \\['r', 'a', 'c', 'e', 'r'\\]\n",
    "- set(word) => {'e', 'c', 'a', 'r'}\n",
    "- list(set(word)) => \\['e', 'c', 'a', 'r'\\]\n",
    "- sorted(word) => \\['e', 'c', 'a', 'r', 'r'\\]\n"
   ]
  },
  {
   "cell_type": "code",
   "execution_count": 52,
   "metadata": {},
   "outputs": [],
   "source": [
    "def anagrams(word, words):\n",
    "    anagram_list = []\n",
    "    for item in words:\n",
    "        if len(word) == len(item):\n",
    "            if list(set(word)) == list(set(item)):\n",
    "                print(sorted(word))\n",
    "                print(sorted(item))\n",
    "                anagram_list.append(item)    \n",
    "    \n",
    "    return anagram_list"
   ]
  },
  {
   "cell_type": "code",
   "execution_count": null,
   "metadata": {},
   "outputs": [],
   "source": []
  }
 ],
 "metadata": {
  "kernelspec": {
   "display_name": "Python 3",
   "language": "python",
   "name": "python3"
  },
  "language_info": {
   "codemirror_mode": {
    "name": "ipython",
    "version": 3
   },
   "file_extension": ".py",
   "mimetype": "text/x-python",
   "name": "python",
   "nbconvert_exporter": "python",
   "pygments_lexer": "ipython3",
   "version": "3.7.1"
  }
 },
 "nbformat": 4,
 "nbformat_minor": 2
}
