{
 "cells": [
  {
   "cell_type": "markdown",
   "metadata": {},
   "source": [
    "# Renaming Multiple Files in a Folder on a Local Server\n",
    "\n",
    "JAF 8.8.2020\n",
    "\n",
    "\n",
    "This is not an academic exercise: I actually needed to use this to rename a vast amount of .jpg photos in a folder.\n",
    "\n",
    "\n",
    "The sample script used below was obtained from [this website](https://data-flair.training/blogs/python-rename-file/). The basic function is `os.rename('original_folder_name', 'new folder name')`\n",
    "***"
   ]
  },
  {
   "cell_type": "markdown",
   "metadata": {},
   "source": [
    "## 1. Renaming a Folder\n",
    "\n",
    "Below is a sample script for renaming a single folder (it is not used here). This is used as an explanation for the basics of what we are doing here:\n",
    "\n",
    "\n",
    "```python\n",
    "import os, sys\n",
    "os.chdir('C:\\\\Users\\\\lifei\\\\Desktop')\n",
    "print(f\"We have: {os.listdir()}\")\n",
    "\n",
    "os.rename('NewFolder',’Photos’) # This does the renaming\n",
    "os.listdir() # lists all filed in the renamed folder\n",
    "```\n",
    "***\n",
    "***\n",
    "## 2. Renaming Multiple Files at Once\n",
    "\n",
    "Below is a sample script for renaming all files in a certain folder (i.e., at a certain directory) (the script is not used here):\n",
    "\n",
    "\n",
    "```python\n",
    "import os\n",
    "\n",
    "os.chdir('C:\\\\Users\\\\lifei\\\\Desktop\\\\Photos') # sets the specific directory to look at in memory, where the files would be changed.\n",
    "\n",
    "# LOOK AT 'HOW IT WILL WORK' SUBSECTION, INFRA, FOR MORE INFORMATION.\n",
    "\n",
    "i=1 # set starting variable\n",
    "\n",
    "for file in os.listdir():\n",
    "    src=file\n",
    "    dst=\"Dog\"+str(i)+\".jpg\" # adds incremental \n",
    "    os.rename(src,dst)\n",
    "    i+=1\n",
    "```\n",
    "\n",
    "If you want to do a certain number of files, use a while loop.\n",
    "\n",
    "```python\n",
    "# import os and os.chdir() already done...\n",
    "\n",
    "i = int(input()) # to establish how many you want to do\n",
    "count=1\n",
    "while(count<=10): # can't do <= i because i needs to change for different file names, but ultimate count should == original i value\n",
    "    \n",
    "    for file in os.listdir(): \n",
    "        src=file\n",
    "        \n",
    "        if src=='Dog'+str(i)+'.jpg': \n",
    "            dst='Dog'+str(i+1)+'.jpg' \n",
    "            os.rename(src,dst) \n",
    "            i-=1 \n",
    "            count += 1\n",
    "```\n",
    "\n",
    "\n",
    "***\n",
    "***\n",
    "## 3. Renaming a Specific File in a Folder\n",
    "\n",
    "Below is a sample script for renaming all files in a certain folder (i.e., at a certain directory) (the script is not used here):\n",
    "\n",
    "```python\n",
    "# import os and os.chdir() already done...\n",
    "\n",
    "\n",
    "for file in os.listdir():\n",
    "    src=file\n",
    "    if src == 'Dog7.jpg': # old file that you want to specify\n",
    "        dst = 'Seventh Dog.jpg' # the new name\n",
    "        os.rename(src, dst)\n",
    "```\n",
    "***\n",
    "***"
   ]
  },
  {
   "cell_type": "markdown",
   "metadata": {},
   "source": [
    "# Goal: \n",
    "\n",
    "There are photos, each identified as \"IMG_29XX\", with some having a random 2 at the end (e.g., \"IMG_2988 2\"), with \"XX\" being between 06 and 83. There were only two image files in this list that were not ones I wanted to include in this change, so I manually changed the filenames of those two files ahead of time. That means there are two gaps in the consecutive numbering, but I don't think that should be an issue.\n",
    "\n",
    "\n",
    "The Goal is to rename to every \"IMG_\" PNG file to \"Text to Slinka Part X\". I already did four renamings manually, so X will start at \"5\"."
   ]
  },
  {
   "cell_type": "code",
   "execution_count": 1,
   "metadata": {},
   "outputs": [],
   "source": [
    "src = 'D:\\Documents\\Lento Law Group\\Case Work\\Johnson, Thomas Lee 00270\\Discovery\\Plaintiff\\'s Discovery\\Client Doc Submission No. 2 - 7.20.2020'"
   ]
  },
  {
   "cell_type": "code",
   "execution_count": 2,
   "metadata": {},
   "outputs": [],
   "source": [
    "import os"
   ]
  },
  {
   "cell_type": "code",
   "execution_count": 4,
   "metadata": {
    "collapsed": true
   },
   "outputs": [
    {
     "name": "stdout",
     "output_type": "stream",
     "text": [
      "['Allied Mortgage-  Final Disclosure.html', 'Allied Mortgage-  Final Disclosure_files', 'Amendment to Agreement of Sale - Signature Page.PNG', 'Amendment to Agreement of Sale Part 1 of 2.PNG', 'Amendment to Agreement of Sale Part 2 of 2.PNG', 'COUNSEL LIST FOR THOMAS JOHNSON.docx', 'Email from Slinka 12.20.18 - Part 2.PNG', 'Email to Slinka 12.20.18.PNG', 'Email to Slinka 12.25.18 - Part 2.PNG', 'Email to Slinka 12.25.18.PNG', 'Home Insurance Cancellation 1.jpg', 'Home Insurance Cancellation 2.jpg', 'Home Insurance Cancellation 3.jpg', 'Horan Appraisal 1.8.19.pdf', 'Horan Appraisal Services for John.pdf', 'House Damage Pics to Baruch Faraj 8.2.19.PNG', 'IMG_2806 2.PNG', 'IMG_2807 2.PNG', 'IMG_2809 2.PNG', 'IMG_2810 2.PNG', 'IMG_2811 2.PNG', 'IMG_2812 2.PNG', 'IMG_2813 2.PNG', 'IMG_2814 2.PNG', 'IMG_2815 2.PNG', 'IMG_2816 2.PNG', 'IMG_2817 2.PNG', 'IMG_2818 2.PNG', 'IMG_2819 2.PNG', 'IMG_2820 2.PNG', 'IMG_2821 2.PNG', 'IMG_2822 2.PNG', 'IMG_2823 2.PNG', 'IMG_2824 2.PNG', 'IMG_2825 2.PNG', 'IMG_2826 2.PNG', 'IMG_2827 2.PNG', 'IMG_2828 2.PNG', 'IMG_2829 2.PNG', 'IMG_2830 2.PNG', 'IMG_2831 2.PNG', 'IMG_2832 2.PNG', 'IMG_2833 2.PNG', 'IMG_2834 2.PNG', 'IMG_2835 2.PNG', 'IMG_2836 2.PNG', 'IMG_2837 2.PNG', 'IMG_2837.PNG', 'IMG_2838 2.PNG', 'IMG_2838.PNG', 'IMG_2839.PNG', 'IMG_2840.PNG', 'IMG_2841 2.PNG', 'IMG_2842 2.PNG', 'IMG_2843.PNG', 'IMG_2844.PNG', 'IMG_2845 2.PNG', 'IMG_2846 2.PNG', 'IMG_2847 2.PNG', 'IMG_2848 2.PNG', 'IMG_2849 2.PNG', 'IMG_2850 2.PNG', 'IMG_2851.PNG', 'IMG_2852 2.PNG', 'IMG_2853 2.PNG', 'IMG_2854 2.PNG', 'IMG_2855 2.PNG', 'IMG_2856 2.PNG', 'IMG_2857 2.PNG', 'IMG_2858 2.PNG', 'IMG_2859 2.PNG', 'IMG_2860 2.PNG', 'IMG_2861 2.PNG', 'IMG_2862 2.PNG', 'IMG_2863 2.PNG', 'IMG_2864 2.PNG', 'IMG_2865 2.PNG', 'IMG_2866 2.PNG', 'IMG_2867 2.PNG', 'IMG_2868 2.PNG', 'IMG_2869 2.PNG', 'IMG_2870 2.PNG', 'IMG_2871 2.PNG', 'IMG_2872 2.PNG', 'IMG_2873 2.PNG', 'IMG_2874 2.PNG', 'IMG_2875 2.PNG', 'IMG_2876 2.PNG', 'IMG_2877 2.PNG', 'IMG_2880 2.PNG', 'IMG_2881 2.PNG', 'IMG_2882 2.PNG', 'IMG_2883 2.PNG', 'IMG_2884 2.PNG', 'IMG_2885 2.PNG', 'IMG_2886 2.PNG', 'IMG_2887 2.PNG', 'IMG_2888 2.PNG', 'IMG_2889 2.PNG', 'IMG_2890 2.PNG', 'IMG_2891 2.PNG', 'IMG_2892 2.PNG', 'IMG_2893 2.PNG', 'IMG_2894 2.PNG', 'IMG_2895 2.PNG', 'IMG_2896 2.PNG', 'IMG_2897 2.PNG', 'IMG_2899 2.PNG', 'IMG_2900 2.PNG', 'IMG_2901 2.PNG', 'IMG_2902 2.PNG', 'IMG_2903 2.PNG', 'IMG_2906 2.PNG', 'IMG_2907 2.PNG', 'IMG_2908 2.PNG', 'IMG_2909 2.PNG', 'IMG_2910 2.PNG', 'IMG_2911.PNG', 'IMG_2912.PNG', 'IMG_2913 2.PNG', 'IMG_2914 2.PNG', 'IMG_2915 2.PNG', 'IMG_2916 2.PNG', 'IMG_2917 2.PNG', 'IMG_2918 2.PNG', 'IMG_2919 2.PNG', 'IMG_2920 2.PNG', 'IMG_2921 2.PNG', 'IMG_2922 2.PNG', 'IMG_2922.PNG', 'IMG_2923.PNG', 'IMG_2924.PNG', 'IMG_2925.PNG', 'IMG_2926.PNG', 'IMG_2927.PNG', 'IMG_2928 2.PNG', 'IMG_2929 2.PNG', 'IMG_2930 2.PNG', 'IMG_2931 2.PNG', 'IMG_2932 2.PNG', 'IMG_2933 2.PNG', 'IMG_2934 2.PNG', 'IMG_2935 2.PNG', 'IMG_2936 2.PNG', 'IMG_2938 2.PNG', 'IMG_2938.PNG', 'IMG_2939.PNG', 'IMG_2940.PNG', 'IMG_2941.PNG', 'IMG_2942.PNG', 'IMG_2943.PNG', 'IMG_2944.PNG', 'IMG_2945.PNG', 'IMG_2946.PNG', 'IMG_2947.PNG', 'IMG_2948.PNG', 'IMG_2949.PNG', 'IMG_2950.PNG', 'IMG_2951.PNG', 'IMG_2952.PNG', 'IMG_2953.PNG', 'IMG_2955.PNG', 'IMG_2956.PNG', 'IMG_2957.PNG', 'IMG_2958 2.PNG', 'IMG_2959 2.PNG', 'IMG_2960 2.PNG', 'IMG_2961 2.PNG', 'IMG_2962 2.PNG', 'IMG_2963 2.PNG', 'IMG_2964.PNG', 'IMG_2965.PNG', 'IMG_2966.PNG', 'IMG_2967.PNG', 'IMG_2968.PNG', 'IMG_2969.PNG', 'IMG_2970.PNG', 'IMG_2972 2.PNG', 'IMG_2973 2.PNG', 'IMG_2974 2.PNG', 'IMG_2975 2.PNG', 'IMG_2976 2.PNG', 'IMG_2977 2.PNG', 'IMG_2978 2.PNG', 'IMG_2979 2.PNG', 'IMG_2980 2.PNG', 'IMG_2981.PNG', 'IMG_2982.PNG', 'IMG_2983.PNG', 'IMG_2984.PNG', 'IMG_2985 2.PNG', 'IMG_2986 2.PNG', 'IMG_2987 2.PNG', 'IMG_2988 2.PNG', 'IMG_2989 2.PNG', 'INSURANCE EMAIL 11-14-19.pdf', 'OPRA Materal 11-14-19.pdf', 'Phone Number List.txt', 'Roof Inspection Certification 12.29.18.PNG', 'Roof Pic Damage 1.PNG', 'Survey of Premises 12.14.18.PNG', 'Text to Baruch Faraj 7.26.19.PNG', 'Text to Baruch Faraj 7.3.19 - Part 2.PNG', 'Text to Baruch Faraj 7.3.19.PNG', 'Text to Baruch Faraj 7.5.19 Part 3.PNG', 'Text to Baruch Faraj 7.5.19.PNG', 'Text to Baruch Faraj 8.2.19.PNG', 'Text to Baruch Faraj 8.8.19.PNG', 'Text to Nick Faraj 3.23.19.PNG', 'Text to Slinka Part 1 11.9.18.PNG', 'Text to Slinka Part 2.PNG', 'Text to Slinka Part 3.PNG', 'Text to Slinka Part 4.PNG', 'Trinity Inspection Agmt 12.13.18.pdf', 'Water Mitigation Report 8.14.19.pdf']\n"
     ]
    }
   ],
   "source": [
    "# check to see if os can read the directory\n",
    "print(os.listdir(src))"
   ]
  },
  {
   "cell_type": "markdown",
   "metadata": {},
   "source": [
    "### How it Will Work\n",
    "\n",
    "`os.listdir(src)` lists the files in alphabetical order. Luckily, the lowest file number (\"IMG_2806 2\") is the one I seek to change first (to \"Text to Slinka Part 5\"), 2807 is Part 6, etc. Otherwise, I would need to do `.reverse()` or other function to get the right order when doing this.\n",
    "\n",
    "\n",
    "Also, I am using `os.listdir(directory)`, which creates the contents of a directory into a Python list. We want to actually make the change into the system. We can do this in two ways:\n",
    "\n",
    "1. Create a function that includes manually changing the contents of the directory, via the `os.chdir(directory)` function:\n",
    "```python\n",
    "def rename_file(directory):\n",
    "    os.chdir(directory) # this is the critical step here\n",
    "    for filename in os.listdir(directory):\n",
    "        print(filename)\n",
    "        os.rename(filename, [new file name here]) # os.rename is the built-in function\n",
    "```\n",
    "\n",
    "2. Join the directory string onto the filename. This is not as straightforward as the first way, but \\[I think\\] it is more Pythonic.\n",
    "```python\n",
    "os.rename(os.path.join(directory, filename),\n",
    "          os.path.join(directory, [new file name here]))\n",
    "```\n",
    "***"
   ]
  },
  {
   "cell_type": "code",
   "execution_count": 8,
   "metadata": {},
   "outputs": [
    {
     "name": "stdout",
     "output_type": "stream",
     "text": [
      "Action Complete. Files are now renamed.\n"
     ]
    }
   ],
   "source": [
    "# making the file name change here\n",
    "\n",
    "i=5 # set starting variable\n",
    "\n",
    "for file in os.listdir(src): \n",
    "    original_file_name = file\n",
    "    \n",
    "    if 'IMG_' in str(file): # \"in\" built-in function to check for substring\n",
    "        \n",
    "        # Goal for .png files - incremental file naming\n",
    "        \n",
    "        new_file_name = 'Text to Slinka Part '+ str(i) + '.PNG'\n",
    "        os.rename(os.path.join(src, original_file_name),\n",
    "                  os.path.join(src, new_file_name))\n",
    "        i+=1\n",
    "    \n",
    "print('Action Complete. Files are now renamed.')"
   ]
  },
  {
   "cell_type": "markdown",
   "metadata": {},
   "source": [
    "***\n",
    "# Conclusion\n",
    "\n",
    "As the `print` function shows, it worked! There is a total of 183 Slinka files to do. That is a time saver for sure.\n",
    "\n",
    "JAF"
   ]
  }
 ],
 "metadata": {
  "kernelspec": {
   "display_name": "Python 3",
   "language": "python",
   "name": "python3"
  },
  "language_info": {
   "codemirror_mode": {
    "name": "ipython",
    "version": 3
   },
   "file_extension": ".py",
   "mimetype": "text/x-python",
   "name": "python",
   "nbconvert_exporter": "python",
   "pygments_lexer": "ipython3",
   "version": "3.7.7"
  }
 },
 "nbformat": 4,
 "nbformat_minor": 4
}
