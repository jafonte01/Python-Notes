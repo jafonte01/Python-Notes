{
 "cells": [
  {
   "cell_type": "markdown",
   "metadata": {},
   "source": [
    "# For a Final Review\n",
    "\n",
    "Use [this cheatsheet!](https://ml-cheatsheet.readthedocs.io/en/latest/index.html) Hopefully it will be completed by the time you need it.\n",
    "\n",
    "Also for some motivation on the job hunt, read these stories:\n",
    " - [Farewell App Academy, Part I](https://haseebq.com/farewell-app-academy-hello-airbnb-part-i/)\n",
    " - [Farewell App Academy, Part II](https://haseebq.com/farewell-app-academy-hello-airbnb-part-ii/)\n",
    " - [Ten Rules for Negotiating a Job Offer](https://haseebq.com/my-ten-rules-for-negotiating-a-job-offer/)\n",
    " - [Mastering the Data Science Interview](https://towardsdatascience.com/mastering-the-data-science-interview-15f9c0a558a7)\n",
    " "
   ]
  },
  {
   "cell_type": "markdown",
   "metadata": {},
   "source": [
    "### What's the Best Way to Pre-Process Your Data????\n",
    "\n",
    "_Normalizer()_ scales the entire row to have normal area of 1. This means _every datapoint_ is separately scaled.\n",
    "\n",
    "_StandardScaler()_ scales column-wise. This means that _every feature_ is scaled to unit variance.\n",
    "\n",
    "[A good way to identify different types of preprocessing scalers](http://benalexkeen.com/feature-scaling-with-scikit-learn/)"
   ]
  },
  {
   "cell_type": "markdown",
   "metadata": {},
   "source": [
    "An open source CS curriculum:\n",
    "https://github.com/ForrestKnight/open-source-cs"
   ]
  },
  {
   "cell_type": "markdown",
   "metadata": {},
   "source": [
    "[Flashcards](https://github.com/study-groups/ds-study-group/tree/master/flashcards)"
   ]
  },
  {
   "cell_type": "markdown",
   "metadata": {},
   "source": [
    "[quiz](https://stattrek.com/statistics/dictionary.aspx?definition=z_score) <br>\n",
    "[huge compendium of info](https://chrisalbon.com/)"
   ]
  },
  {
   "cell_type": "markdown",
   "metadata": {},
   "source": [
    "### A Point of Terminology\n",
    "\n",
    " - __Parameter__ = modifier in model (e.g.: TfidfVectorizer(Normalize=False))\n",
    " - __Argument__ = variable in function (e.g.: def func_call_add(x, y))\n",
    " - __Method__ = function as part of larger algorithm (dataframe or model, e.g.: df.column2.value_counts())"
   ]
  },
  {
   "cell_type": "markdown",
   "metadata": {},
   "source": [
    "\n",
    "### Some Interview Resources\n",
    "\n",
    "__Tips:__ \n",
    "- Ask questions: If a question is a good candidate to use a recursive function (a function that calls itself), nonetheless ask the interviewer if that is a path that you should go down. Even if it performs better than an iterative function (non-recursive), the interviewer may still want you to use an iterative function.\n",
    "- Being able to \"code\" something is baseline. Likely, interviewers will want you to code with performance optimization in mind.\n",
    "\n",
    "A TOTAL CAREER ADVICE HELP: https://docs.google.com/document/d/129oEEoTwIfJwrFRl9P3Aa_t7VoKChThhwOc2Jz0fPRM/edit\n",
    "\n",
    "and https://drive.google.com/open?id=1eB1u_L5AYU5cVEc8fE0Ku9vRMS7HDLDi7cwF9fv6anw\n",
    "\n",
    "~80% of interview questions will be found here (it takes time to formulate these questions, so major companies just recycle them).\n",
    "\n",
    "Do it as a real practice test, i.e., don't give yourself too much time! (allot 30-45 min).\n",
    "\n",
    "http://courses.csail.mit.edu/iap/interview/Hacking_a_Google_Interview_Handout_1.pdf"
   ]
  },
  {
   "cell_type": "code",
   "execution_count": 1,
   "metadata": {},
   "outputs": [
    {
     "ename": "SyntaxError",
     "evalue": "invalid syntax (<ipython-input-1-aa812b7d1f7c>, line 1)",
     "output_type": "error",
     "traceback": [
      "\u001b[1;36m  File \u001b[1;32m\"<ipython-input-1-aa812b7d1f7c>\"\u001b[1;36m, line \u001b[1;32m1\u001b[0m\n\u001b[1;33m    http://u.cs.biu.ac.il/~koppel/BlogCorpus.htm\u001b[0m\n\u001b[1;37m          ^\u001b[0m\n\u001b[1;31mSyntaxError\u001b[0m\u001b[1;31m:\u001b[0m invalid syntax\n"
     ]
    }
   ],
   "source": [
    "http://u.cs.biu.ac.il/~koppel/BlogCorpus.htm"
   ]
  },
  {
   "cell_type": "code",
   "execution_count": null,
   "metadata": {},
   "outputs": [],
   "source": [
    "https://www.interviewbit.com/courses/programming/\n",
    "    \n",
    "    Good dataset site:\n",
    "        https://github.com/Thinkful-Ed/data-201-resources/blob/master/data-sources.md   "
   ]
  },
  {
   "cell_type": "markdown",
   "metadata": {},
   "source": [
    "# Resources\n",
    "\n",
    "https://www.springboard.com/blog/data-science-interview-questions/\n",
    "\n",
    "https://medium.com/swlh/how-to-answer-data-science-interview-coding-questions-b5e6b2335c7e\n",
    "\n",
    "https://www.edureka.co/blog/interview-questions/data-science-interview-questions/\n",
    "\n",
    "https://www.analyticsvidhya.com/blog/2017/05/questions-python-for-data-science/\n",
    "\n",
    "https://academy.vertabelo.com/blog/15-python-interview-questions-for-data-science-jobs/\n",
    "\n",
    "https://towardsdatascience.com/notes-and-technical-questions-from-interviewing-as-a-data-scientist-in-2018-20e7e3ee4ab3\n",
    "\n",
    "https://www.udacity.com/course/data-science-interview-prep--ud944\n",
    "\n",
    "https://static1.squarespace.com/static/54bf3241e4b0f0d81bf7ff36/t/55e9494fe4b011aed10e48e5/1441352015658/probability_cheatsheet.pdf\n",
    "\n",
    "https://365datascience.com/wp-content/uploads/2019/02/Interview_FAQ_365datascience.pdf\n",
    "\n",
    "https://www.simplilearn.com/data-science-interview-questions-article"
   ]
  },
  {
   "cell_type": "markdown",
   "metadata": {},
   "source": [
    "# **New** Skills to Learn\n",
    "\n",
    "Does not account for importance of review of already learned skills...\n",
    "\n",
    "__In order of priority:__\n",
    "\n",
    "1. __Big Data__\n",
    "    - \"Distributed Systems\"\n",
    "    - Spark\n",
    "    - Hadoop\n",
    "    - (Learning Hive optional)\n",
    "    <br><br>\n",
    "2. __Visualization Tools__\n",
    "    - Tableau\n",
    "    - (PowerBI and Qlik optional)\n",
    "<br><br>\n",
    "3. __Creating a Web Scraper__\n",
    " - Scrapy\n",
    " - Beautiful Soup\n",
    "<br><br>\n",
    "4. __Linux Command Line__"
   ]
  },
  {
   "cell_type": "code",
   "execution_count": null,
   "metadata": {},
   "outputs": [],
   "source": []
  }
 ],
 "metadata": {
  "kernelspec": {
   "display_name": "Python 3",
   "language": "python",
   "name": "python3"
  },
  "language_info": {
   "codemirror_mode": {
    "name": "ipython",
    "version": 3
   },
   "file_extension": ".py",
   "mimetype": "text/x-python",
   "name": "python",
   "nbconvert_exporter": "python",
   "pygments_lexer": "ipython3",
   "version": "3.7.1"
  }
 },
 "nbformat": 4,
 "nbformat_minor": 2
}
