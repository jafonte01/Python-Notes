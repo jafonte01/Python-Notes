{
 "cells": [
  {
   "cell_type": "code",
   "execution_count": null,
   "metadata": {},
   "outputs": [],
   "source": [
    "# We create models to create result data tailored toward our specific research question\n",
    "\n",
    "# BEFORE we get to data modeling, we need to first\n",
    "CLEANING DATA\n",
    "\n",
    "for strings:\n",
    "    re.sub(), str.upper(), df.str.replace('x', 'newthing', inplace=True)\n",
    "    np.where('string' or df['Series'].isin(['col1', 'col4', 'col3']),\n",
    "            1 (value if it is found), 0 (value if it is not found))\n",
    "    \n",
    "For numerical data:\n",
    "    winsorizing (look it up)\n",
    "    imputing NaN data with median, average, or mode\n",
    "    exluding outliers\n",
    "    df['Series'].dropna()\n",
    "\n",
    "\n"
   ]
  },
  {
   "cell_type": "code",
   "execution_count": null,
   "metadata": {},
   "outputs": [],
   "source": [
    "# After cleaning the data, what are we looking for?\n",
    "\n",
    "\n",
    "# To answer that question, we create FEATURES!!!!!\n",
    "# features are \"Explanatory variables\" to be analyzed\n",
    "# (if that makes no sense, features are simply independent variables\n",
    "# (x variables) that are created for analysis)\n",
    "\n",
    "Example of features:\n",
    "Problem: classify whether a given person is \n",
    "a male or a female based on the measured features. \n",
    "\n",
    "\n",
    "Within the training data is height, weight, and foot size.\n",
    "THESE ARE THE FEATURES OF THE SET!\n",
    "\n",
    "\n",
    "Sometimes, we do not know what kind of data is affecting the target variable\n",
    "\n",
    "Features are variables that have been modified to more clearly explain the data\n",
    "From there, we analyze the features, not the underlying variables, to answer our ultimate \n",
    "question.\n",
    "\n",
    "# examples of feature engineering:\n",
    "- Changing a variable type (a ratio interval number to an ordinal number)\n",
    "\n",
    "- Creating binary reference values for strings (see above for np.where)\n",
    "---Can also use pd.get_dummies(df['Observed Series']) to get 0's and 1's\n",
    "\n",
    "- Normalizing data (taking a square root, the inverse of the variable, \n",
    "                   or the log of the variable)\n",
    "--------Likewise, rooting down the variable to create a linear relationship\n",
    "is good too.\n",
    "--------One cool thing is to preprocess the data to scale down the data without\n",
    "losing accuracy:::\n",
    "            \n",
    "            \n",
    "            \n",
    "from sklearn import preprocessing\n",
    "\n",
    "# Select only numeric variables to scale.\n",
    "df_num = df.select_dtypes(include=[np.number]).dropna()\n",
    "\n",
    "# Save the column names.\n",
    "names=df_num.columns\n",
    "\n",
    "# Scale, then turn the resulting numpy array back into a data frame with the\n",
    "# correct column names.\n",
    "df_scaled = pd.DataFrame(preprocessing.scale(df_num), columns=names)\n",
    "\n",
    "# The new features contain all the information of the old ones, but on a new scale.\n",
    "plt.scatter(df_num['tvtot'], df_scaled['tvtot'])\n",
    "plt.show()\n",
    "\n",
    "# Lookit all those matching means and standard deviations!\n",
    "print(df_scaled.describe())\n",
    "\n",
    "------Clustering data and using data only when the datasets intersect\n",
    "called \"Principal Components Analysis\", or \"PCA\"\n",
    "-----------This is called a \"dimension reduction\" technique\n",
    "\n",
    "# FEATURE SELECTION\n",
    "How do we know 'when' to select a feature? Is the chosen feature even good?\n",
    "\n",
    "'Filter' methods work - scoring features by accuracy, ranking them, and\n",
    "choosing featured by a pre-desired cutoff point\n",
    "\n",
    "'Wrapper' methods work faster, but aren't' as accurate.\n",
    "These methods. Here, you group features into sets, run the different\n",
    "groupings, and see which is most accurate.\n"
   ]
  },
  {
   "cell_type": "code",
   "execution_count": null,
   "metadata": {},
   "outputs": [],
   "source": [
    "# If unsure of how to select features - for classifiers (see below) - \n",
    "# look at features that come up most frequently and start with those\n",
    "# at the end of the day, finding the right features comes with a bit of trial and error\n",
    "\n",
    "# gaining a list of features from a select dataset \n",
    "# (i.e., already having dropped features known to be useless)\n",
    "for column in list(Xdesserts.columns):\n",
    "    print(column, Xdesserts[column].sum())\n",
    "# essentially does a value counts for values that are '1' and not 0, sums the 1's up\n",
    "\n",
    "# for an ordered list:\n",
    "Xcolname = []\n",
    "Xcolvalcount = []\n",
    "for column in list(Xdesserts.columns):\n",
    "    Xcolname.append(column)\n",
    "    Xcolvalcount.append(Xdesserts[column].sum())\n",
    "Xfrequency = [(i,j) for i,j in zip(Xcolname, Xcolvalcount)]\n",
    "Xfrequency.sort(key=lambda tup: tup[1], reverse=True)\n",
    "for i in Xfrequency:\n",
    "    print(i, '\\n')"
   ]
  },
  {
   "cell_type": "code",
   "execution_count": null,
   "metadata": {},
   "outputs": [],
   "source": [
    "Two types of models - based on numerical featuers and string features\n",
    "\n",
    "REGRESSION (numerical): CONTINUOUS variable analysis\n",
    "    \n",
    "CLASSIFICATION (string): finite list of CATEGORICAL analysis\n",
    "    "
   ]
  },
  {
   "cell_type": "code",
   "execution_count": null,
   "metadata": {},
   "outputs": [],
   "source": [
    "FIRST MODEL: NAIVE BAYES MODEL\n",
    "#    \n",
    "##The gist\n",
    "\n",
    "Can predict probability of an outcome by the probability of underlying conditions\n",
    "\"Naive\" means that it is expressly assumed that \"the assumption that any pair of variables\n",
    "in the conditional vector (the x variable) are INDEPENDENT of each other\"\n",
    "\n",
    "This means that one x variable is not being affected by another x variable\n",
    "\n",
    "The assumption of independence between each pair of variables is important and rarely accurate\n",
    "\n",
    "\n"
   ]
  },
  {
   "cell_type": "code",
   "execution_count": 2,
   "metadata": {},
   "outputs": [],
   "source": [
    "# NAIVE BAYES MODEL EXAMPLE - FINDING SPAM KEYWORDS IN EMAIL\n",
    "%matplotlib inline\n",
    "import numpy as np\n",
    "import pandas as pd\n",
    "import scipy\n",
    "import sklearn\n",
    "import matplotlib.pyplot as plt\n",
    "import seaborn as sns"
   ]
  },
  {
   "cell_type": "code",
   "execution_count": 5,
   "metadata": {},
   "outputs": [
    {
     "name": "stdout",
     "output_type": "stream",
     "text": [
      "Number of MISLABELED points out of a total 5572 points : 604\n",
      "This means 89.16008614501077% accuracy!\n"
     ]
    }
   ],
   "source": [
    "# EXAMPLE CODE \n",
    "\n",
    "# Grab and process the raw data.\n",
    "data_path = (\"https://raw.githubusercontent.com/Thinkful-Ed/data-201-resources/\"\n",
    "             \"master/sms_spam_collection/SMSSpamCollection\"\n",
    "            )\n",
    "sms_raw = pd.read_csv(data_path, delimiter= '\\t', header=None)\n",
    "sms_raw.columns = ['spam', 'message']\n",
    "\n",
    "# Enumerate our spammy keywords.\n",
    "keywords = ['click', 'offer', 'winner', 'buy', 'free', 'cash', 'urgent']\n",
    "\n",
    "for key in keywords:\n",
    "    sms_raw[str(key)] = sms_raw.message.str.contains(\n",
    "        ' ' + str(key) + ' ',\n",
    "        case=False\n",
    ")\n",
    "\n",
    "sms_raw['allcaps'] = sms_raw.message.str.isupper()\n",
    "sms_raw['spam'] = (sms_raw['spam'] == 'spam')\n",
    "data = sms_raw[keywords + ['allcaps']]\n",
    "target = sms_raw['spam']\n",
    "\n",
    "# Instantiate our model and store it in a new variable.\n",
    "\n",
    "from sklearn.naive_bayes import BernoulliNB\n",
    "bnb = BernoulliNB()\n",
    "\n",
    "# Fit our model to the data. AND\n",
    "# Classify, storing the result in a new variable.\n",
    "y_pred = bnb.fit(data, target).predict(data)\n",
    "\n",
    "# Display our results.\n",
    "print(\"Number of MISLABELED points out of a total {} points : {}\".format(\n",
    "    data.shape[0],\n",
    "    (target != y_pred).sum()\n",
    "))\n",
    "print ('This means {}% accuracy!'.format((5572 - 604) / 5572 * 100))\n",
    "\n",
    "# Class imbalance ^^ 89% is \"good\", but is it good in this particular context?\n",
    "# I mean, 89% success rate in a surgery is surgery I don't want to do.\n",
    "\n",
    "# Must create benchmark threshold for what is acceptable?"
   ]
  },
  {
   "cell_type": "code",
   "execution_count": 6,
   "metadata": {},
   "outputs": [
    {
     "data": {
      "text/plain": [
       "array([[4770,   55],\n",
       "       [ 549,  198]], dtype=int64)"
      ]
     },
     "execution_count": 6,
     "metadata": {},
     "output_type": "execute_result"
    }
   ],
   "source": [
    "# Note that 'accuracy' is not the end-all, be-all\n",
    "# For example, it is much more egregious for a spam filter to \n",
    "# falsely spam out a real message than to let a spam message in\n",
    "\n",
    "# This could be rectified later on by creating \"cost functions\" for errors\n",
    "# and weighing errors based on their impact\n",
    "\n",
    "# To identify the difference, we use a CONFUSION MATRIX\n",
    "\n",
    "# This is for BINARY CLASSIFIERS (only two kinds of outcomes - here,\n",
    "# ham and spam)\n",
    "# Binary classifiers produce two errors -\n",
    "#---------Type I - False Positive - \"False Alarms\"\n",
    "#---------Type II- False Negative - \"A Miss\"\n",
    "\n",
    "# To read the matrix\n",
    "# [1,2\n",
    "#  3,4]:\n",
    "\n",
    "# 1: Model predicted ham* - was actually** ham   (True Positive)\n",
    "# 2: Model predicted spam - but was actually ham (False Negative)\n",
    "# 3. Model predicted ham - was actually spam     (False Positive)\n",
    "# 4. Model predicted spam - was actually spam    (True Negative)\n",
    "\n",
    "# *(For the record = 'ham' = not spam)\n",
    "# ** The dataset tells us which messages are actually ham and spam\n",
    "#     we try to compare our model against known data to make it better\n",
    "#     This is called SUPERVISED LEARNING\n",
    "\n",
    "from sklearn.metrics import confusion_matrix\n",
    "confusion_matrix(target, y_pred)"
   ]
  },
  {
   "cell_type": "code",
   "execution_count": 7,
   "metadata": {},
   "outputs": [
    {
     "name": "stdout",
     "output_type": "stream",
     "text": [
      "With 20% Holdout: 0.884304932735426\n",
      "Testing on Sample: 0.8916008614501076\n"
     ]
    }
   ],
   "source": [
    "# PROBLEMS WITH ***********OVERFITTING**************\n",
    "\n",
    "# Overtfitting occurs when you are training your model with a certain dataset\n",
    "# and that model becomes better and better when responding to THAT dataset but not generally\n",
    "# The model become so good at that particular training data that\n",
    "# it also picks up \"noise\" data, which isn't typical of models, make the model \"overfitted\"\n",
    "\n",
    "# You can purposely exclude some data (\"HOLDOUT DATA\") \n",
    "# and introduce it later to avoid overfitting\n",
    "# common range is 1%-50% of the data being held out (30% is a good start)\n",
    "\n",
    "# How to code random data being held out:\n",
    "from sklearn.model_selection import train_test_split\n",
    "# Use train_test_split to create the necessary training and test groups\n",
    "X_train, X_test, y_train, y_test = train_test_split(data, target, test_size=0.2, random_state=20)\n",
    "print('With 20% Holdout: ' + str(bnb.fit(X_train, y_train).score(X_test, y_test)))\n",
    "print('Testing on Sample: ' + str(bnb.fit(data, target).score(data, target)))\n",
    "\n"
   ]
  },
  {
   "cell_type": "code",
   "execution_count": 8,
   "metadata": {},
   "outputs": [
    {
     "data": {
      "text/plain": [
       "array([0.89784946, 0.89426523, 0.89426523, 0.890681  , 0.89605735,\n",
       "       0.89048474, 0.88150808, 0.89028777, 0.88489209, 0.89568345])"
      ]
     },
     "execution_count": 8,
     "metadata": {},
     "output_type": "execute_result"
    }
   ],
   "source": [
    "# These results are consistent, which is good\n",
    "# But what if you created multiple holdout groups???\n",
    "# ... INTRODUCING CROSS-VALIDATION!!!!\n",
    "\n",
    "# cross-validate with multiple \"fold\" groups\n",
    "# folds must be equally sized pieces for consistency\n",
    "# Can even create enough folds for each observation in your data (the \"Leave One Out\" method)\n",
    "# ^ Good if single observations may skew data, impractical otherwise\n",
    "\n",
    "from sklearn.model_selection import cross_val_score\n",
    "cross_val_score(bnb, data, target, cv=10)\n",
    "# cv = number of folds created\n"
   ]
  },
  {
   "cell_type": "code",
   "execution_count": null,
   "metadata": {},
   "outputs": [],
   "source": [
    "# consistent accuracies throughout - if model were overfitted, \n",
    "# the numbers would fluctuate"
   ]
  },
  {
   "cell_type": "markdown",
   "metadata": {},
   "source": [
    "### NOTE!\n",
    "\n",
    "Classifiers do __NOT__ use R2 values via .score methods. They use (1) confusion matrices OR (2):"
   ]
  },
  {
   "cell_type": "code",
   "execution_count": 1,
   "metadata": {
    "collapsed": true
   },
   "outputs": [
    {
     "ename": "KeyboardInterrupt",
     "evalue": "",
     "output_type": "error",
     "traceback": [
      "\u001b[1;31m---------------------------------------------------------------------------\u001b[0m",
      "\u001b[1;31mKeyboardInterrupt\u001b[0m                         Traceback (most recent call last)",
      "\u001b[1;32m<ipython-input-1-d15b5ed4644e>\u001b[0m in \u001b[0;36m<module>\u001b[1;34m\u001b[0m\n\u001b[1;32m----> 1\u001b[1;33m \u001b[1;32mfrom\u001b[0m \u001b[0msklearn\u001b[0m \u001b[1;32mimport\u001b[0m \u001b[0mmetrics\u001b[0m\u001b[1;33m\u001b[0m\u001b[1;33m\u001b[0m\u001b[0m\n\u001b[0m\u001b[0;32m      2\u001b[0m \u001b[0mprint\u001b[0m\u001b[1;33m(\u001b[0m\u001b[0mmetrics\u001b[0m\u001b[1;33m.\u001b[0m\u001b[0maccuracy_score\u001b[0m\u001b[1;33m(\u001b[0m\u001b[0my_test\u001b[0m\u001b[1;33m,\u001b[0m \u001b[0my_pred_class\u001b[0m\u001b[1;33m)\u001b[0m\u001b[1;33m)\u001b[0m\u001b[1;33m\u001b[0m\u001b[1;33m\u001b[0m\u001b[0m\n\u001b[0;32m      3\u001b[0m '''\n\u001b[0;32m      4\u001b[0m \u001b[0mALWAYS\u001b[0m \u001b[0mALWAYS\u001b[0m \u001b[0mCalculate\u001b[0m \u001b[0mthis\u001b[0m \u001b[0magainst\u001b[0m \u001b[0mthe\u001b[0m \u001b[0mnull\u001b[0m \u001b[0maccuracy\u001b[0m\u001b[1;33m.\u001b[0m \u001b[0mThe\u001b[0m \u001b[0mnull\u001b[0m \u001b[0maccuracy\u001b[0m\u001b[1;33m\u001b[0m\u001b[1;33m\u001b[0m\u001b[0m\n\u001b[0;32m      5\u001b[0m \u001b[1;32mis\u001b[0m \u001b[0mwhen\u001b[0m \u001b[0ma\u001b[0m \u001b[1;34m\"dumb model\"\u001b[0m \u001b[0mmakes\u001b[0m \u001b[0meverything\u001b[0m \u001b[1;36m0\u001b[0m \u001b[1;32mor\u001b[0m \u001b[0meverything\u001b[0m \u001b[1;36m1\u001b[0m\u001b[1;33m,\u001b[0m \u001b[0mdepending\u001b[0m\u001b[1;33m\u001b[0m\u001b[1;33m\u001b[0m\u001b[0m\n",
      "\u001b[1;32mC:\\Anaconda\\lib\\site-packages\\sklearn\\metrics\\__init__.py\u001b[0m in \u001b[0;36m<module>\u001b[1;34m\u001b[0m\n\u001b[0;32m      5\u001b[0m \u001b[1;33m\u001b[0m\u001b[0m\n\u001b[0;32m      6\u001b[0m \u001b[1;33m\u001b[0m\u001b[0m\n\u001b[1;32m----> 7\u001b[1;33m \u001b[1;32mfrom\u001b[0m \u001b[1;33m.\u001b[0m\u001b[0mranking\u001b[0m \u001b[1;32mimport\u001b[0m \u001b[0mauc\u001b[0m\u001b[1;33m\u001b[0m\u001b[1;33m\u001b[0m\u001b[0m\n\u001b[0m\u001b[0;32m      8\u001b[0m \u001b[1;32mfrom\u001b[0m \u001b[1;33m.\u001b[0m\u001b[0mranking\u001b[0m \u001b[1;32mimport\u001b[0m \u001b[0maverage_precision_score\u001b[0m\u001b[1;33m\u001b[0m\u001b[1;33m\u001b[0m\u001b[0m\n\u001b[0;32m      9\u001b[0m \u001b[1;32mfrom\u001b[0m \u001b[1;33m.\u001b[0m\u001b[0mranking\u001b[0m \u001b[1;32mimport\u001b[0m \u001b[0mcoverage_error\u001b[0m\u001b[1;33m\u001b[0m\u001b[1;33m\u001b[0m\u001b[0m\n",
      "\u001b[1;32mC:\\Anaconda\\lib\\site-packages\\sklearn\\metrics\\ranking.py\u001b[0m in \u001b[0;36m<module>\u001b[1;34m\u001b[0m\n\u001b[0;32m     34\u001b[0m \u001b[1;32mfrom\u001b[0m \u001b[1;33m.\u001b[0m\u001b[1;33m.\u001b[0m\u001b[0mutils\u001b[0m\u001b[1;33m.\u001b[0m\u001b[0msparsefuncs\u001b[0m \u001b[1;32mimport\u001b[0m \u001b[0mcount_nonzero\u001b[0m\u001b[1;33m\u001b[0m\u001b[1;33m\u001b[0m\u001b[0m\n\u001b[0;32m     35\u001b[0m \u001b[1;32mfrom\u001b[0m \u001b[1;33m.\u001b[0m\u001b[1;33m.\u001b[0m\u001b[0mexceptions\u001b[0m \u001b[1;32mimport\u001b[0m \u001b[0mUndefinedMetricWarning\u001b[0m\u001b[1;33m\u001b[0m\u001b[1;33m\u001b[0m\u001b[0m\n\u001b[1;32m---> 36\u001b[1;33m \u001b[1;32mfrom\u001b[0m \u001b[1;33m.\u001b[0m\u001b[1;33m.\u001b[0m\u001b[0mpreprocessing\u001b[0m \u001b[1;32mimport\u001b[0m \u001b[0mlabel_binarize\u001b[0m\u001b[1;33m\u001b[0m\u001b[1;33m\u001b[0m\u001b[0m\n\u001b[0m\u001b[0;32m     37\u001b[0m \u001b[1;33m\u001b[0m\u001b[0m\n\u001b[0;32m     38\u001b[0m \u001b[1;32mfrom\u001b[0m \u001b[1;33m.\u001b[0m\u001b[0mbase\u001b[0m \u001b[1;32mimport\u001b[0m \u001b[0m_average_binary_score\u001b[0m\u001b[1;33m\u001b[0m\u001b[1;33m\u001b[0m\u001b[0m\n",
      "\u001b[1;32mC:\\Anaconda\\lib\\site-packages\\sklearn\\preprocessing\\__init__.py\u001b[0m in \u001b[0;36m<module>\u001b[1;34m\u001b[0m\n\u001b[0;32m      4\u001b[0m \"\"\"\n\u001b[0;32m      5\u001b[0m \u001b[1;33m\u001b[0m\u001b[0m\n\u001b[1;32m----> 6\u001b[1;33m \u001b[1;32mfrom\u001b[0m \u001b[1;33m.\u001b[0m\u001b[0m_function_transformer\u001b[0m \u001b[1;32mimport\u001b[0m \u001b[0mFunctionTransformer\u001b[0m\u001b[1;33m\u001b[0m\u001b[1;33m\u001b[0m\u001b[0m\n\u001b[0m\u001b[0;32m      7\u001b[0m \u001b[1;33m\u001b[0m\u001b[0m\n\u001b[0;32m      8\u001b[0m \u001b[1;32mfrom\u001b[0m \u001b[1;33m.\u001b[0m\u001b[0mdata\u001b[0m \u001b[1;32mimport\u001b[0m \u001b[0mBinarizer\u001b[0m\u001b[1;33m\u001b[0m\u001b[1;33m\u001b[0m\u001b[0m\n",
      "\u001b[1;32mC:\\Anaconda\\lib\\site-packages\\sklearn\\preprocessing\\_function_transformer.py\u001b[0m in \u001b[0;36m<module>\u001b[1;34m\u001b[0m\n\u001b[0;32m      3\u001b[0m \u001b[1;32mfrom\u001b[0m \u001b[1;33m.\u001b[0m\u001b[1;33m.\u001b[0m\u001b[0mbase\u001b[0m \u001b[1;32mimport\u001b[0m \u001b[0mBaseEstimator\u001b[0m\u001b[1;33m,\u001b[0m \u001b[0mTransformerMixin\u001b[0m\u001b[1;33m\u001b[0m\u001b[1;33m\u001b[0m\u001b[0m\n\u001b[0;32m      4\u001b[0m \u001b[1;32mfrom\u001b[0m \u001b[1;33m.\u001b[0m\u001b[1;33m.\u001b[0m\u001b[0mutils\u001b[0m \u001b[1;32mimport\u001b[0m \u001b[0mcheck_array\u001b[0m\u001b[1;33m\u001b[0m\u001b[1;33m\u001b[0m\u001b[0m\n\u001b[1;32m----> 5\u001b[1;33m \u001b[1;32mfrom\u001b[0m \u001b[1;33m.\u001b[0m\u001b[1;33m.\u001b[0m\u001b[0mutils\u001b[0m\u001b[1;33m.\u001b[0m\u001b[0mtesting\u001b[0m \u001b[1;32mimport\u001b[0m \u001b[0massert_allclose_dense_sparse\u001b[0m\u001b[1;33m\u001b[0m\u001b[1;33m\u001b[0m\u001b[0m\n\u001b[0m\u001b[0;32m      6\u001b[0m \u001b[1;32mfrom\u001b[0m \u001b[1;33m.\u001b[0m\u001b[1;33m.\u001b[0m\u001b[0mexternals\u001b[0m\u001b[1;33m.\u001b[0m\u001b[0msix\u001b[0m \u001b[1;32mimport\u001b[0m \u001b[0mstring_types\u001b[0m\u001b[1;33m\u001b[0m\u001b[1;33m\u001b[0m\u001b[0m\n\u001b[0;32m      7\u001b[0m \u001b[1;33m\u001b[0m\u001b[0m\n",
      "\u001b[1;32mC:\\Anaconda\\lib\\site-packages\\sklearn\\utils\\testing.py\u001b[0m in \u001b[0;36m<module>\u001b[1;34m\u001b[0m\n\u001b[0;32m     52\u001b[0m \u001b[0madditional_names_in_all\u001b[0m \u001b[1;33m=\u001b[0m \u001b[1;33m[\u001b[0m\u001b[1;33m]\u001b[0m\u001b[1;33m\u001b[0m\u001b[1;33m\u001b[0m\u001b[0m\n\u001b[0;32m     53\u001b[0m \u001b[1;32mtry\u001b[0m\u001b[1;33m:\u001b[0m\u001b[1;33m\u001b[0m\u001b[1;33m\u001b[0m\u001b[0m\n\u001b[1;32m---> 54\u001b[1;33m     \u001b[1;32mfrom\u001b[0m \u001b[0mnose\u001b[0m\u001b[1;33m.\u001b[0m\u001b[0mtools\u001b[0m \u001b[1;32mimport\u001b[0m \u001b[0mraises\u001b[0m \u001b[1;32mas\u001b[0m \u001b[0m_nose_raises\u001b[0m\u001b[1;33m\u001b[0m\u001b[1;33m\u001b[0m\u001b[0m\n\u001b[0m\u001b[0;32m     55\u001b[0m     deprecation_message = (\n\u001b[0;32m     56\u001b[0m         \u001b[1;34m'sklearn.utils.testing.raises has been deprecated in version 0.20 '\u001b[0m\u001b[1;33m\u001b[0m\u001b[1;33m\u001b[0m\u001b[0m\n",
      "\u001b[1;32mC:\\Anaconda\\lib\\site-packages\\nose\\__init__.py\u001b[0m in \u001b[0;36m<module>\u001b[1;34m\u001b[0m\n\u001b[1;32m----> 1\u001b[1;33m \u001b[1;32mfrom\u001b[0m \u001b[0mnose\u001b[0m\u001b[1;33m.\u001b[0m\u001b[0mcore\u001b[0m \u001b[1;32mimport\u001b[0m \u001b[0mcollector\u001b[0m\u001b[1;33m,\u001b[0m \u001b[0mmain\u001b[0m\u001b[1;33m,\u001b[0m \u001b[0mrun\u001b[0m\u001b[1;33m,\u001b[0m \u001b[0mrun_exit\u001b[0m\u001b[1;33m,\u001b[0m \u001b[0mrunmodule\u001b[0m\u001b[1;33m\u001b[0m\u001b[1;33m\u001b[0m\u001b[0m\n\u001b[0m\u001b[0;32m      2\u001b[0m \u001b[1;31m# backwards compatibility\u001b[0m\u001b[1;33m\u001b[0m\u001b[1;33m\u001b[0m\u001b[1;33m\u001b[0m\u001b[0m\n\u001b[0;32m      3\u001b[0m \u001b[1;32mfrom\u001b[0m \u001b[0mnose\u001b[0m\u001b[1;33m.\u001b[0m\u001b[0mexc\u001b[0m \u001b[1;32mimport\u001b[0m \u001b[0mSkipTest\u001b[0m\u001b[1;33m,\u001b[0m \u001b[0mDeprecatedTest\u001b[0m\u001b[1;33m\u001b[0m\u001b[1;33m\u001b[0m\u001b[0m\n\u001b[0;32m      4\u001b[0m \u001b[1;32mfrom\u001b[0m \u001b[0mnose\u001b[0m\u001b[1;33m.\u001b[0m\u001b[0mtools\u001b[0m \u001b[1;32mimport\u001b[0m \u001b[0mwith_setup\u001b[0m\u001b[1;33m\u001b[0m\u001b[1;33m\u001b[0m\u001b[0m\n\u001b[0;32m      5\u001b[0m \u001b[1;33m\u001b[0m\u001b[0m\n",
      "\u001b[1;32mC:\\Anaconda\\lib\\site-packages\\nose\\core.py\u001b[0m in \u001b[0;36m<module>\u001b[1;34m\u001b[0m\n\u001b[0;32m      9\u001b[0m \u001b[1;32mimport\u001b[0m \u001b[0munittest\u001b[0m\u001b[1;33m\u001b[0m\u001b[1;33m\u001b[0m\u001b[0m\n\u001b[0;32m     10\u001b[0m \u001b[1;33m\u001b[0m\u001b[0m\n\u001b[1;32m---> 11\u001b[1;33m \u001b[1;32mfrom\u001b[0m \u001b[0mnose\u001b[0m\u001b[1;33m.\u001b[0m\u001b[0mconfig\u001b[0m \u001b[1;32mimport\u001b[0m \u001b[0mConfig\u001b[0m\u001b[1;33m,\u001b[0m \u001b[0mall_config_files\u001b[0m\u001b[1;33m\u001b[0m\u001b[1;33m\u001b[0m\u001b[0m\n\u001b[0m\u001b[0;32m     12\u001b[0m \u001b[1;32mfrom\u001b[0m \u001b[0mnose\u001b[0m\u001b[1;33m.\u001b[0m\u001b[0mloader\u001b[0m \u001b[1;32mimport\u001b[0m \u001b[0mdefaultTestLoader\u001b[0m\u001b[1;33m\u001b[0m\u001b[1;33m\u001b[0m\u001b[0m\n\u001b[0;32m     13\u001b[0m \u001b[1;32mfrom\u001b[0m \u001b[0mnose\u001b[0m\u001b[1;33m.\u001b[0m\u001b[0mplugins\u001b[0m\u001b[1;33m.\u001b[0m\u001b[0mmanager\u001b[0m \u001b[1;32mimport\u001b[0m \u001b[0mPluginManager\u001b[0m\u001b[1;33m,\u001b[0m \u001b[0mDefaultPluginManager\u001b[0m\u001b[1;33m,\u001b[0m\u001b[0;31m \u001b[0m\u001b[0;31m\\\u001b[0m\u001b[1;33m\u001b[0m\u001b[1;33m\u001b[0m\u001b[0m\n",
      "\u001b[1;32mC:\\Anaconda\\lib\\site-packages\\nose\\config.py\u001b[0m in \u001b[0;36m<module>\u001b[1;34m\u001b[0m\n\u001b[0;32m      7\u001b[0m \u001b[1;32mfrom\u001b[0m \u001b[0moptparse\u001b[0m \u001b[1;32mimport\u001b[0m \u001b[0mOptionParser\u001b[0m\u001b[1;33m\u001b[0m\u001b[1;33m\u001b[0m\u001b[0m\n\u001b[0;32m      8\u001b[0m \u001b[1;32mfrom\u001b[0m \u001b[0mnose\u001b[0m\u001b[1;33m.\u001b[0m\u001b[0mutil\u001b[0m \u001b[1;32mimport\u001b[0m \u001b[0mabsdir\u001b[0m\u001b[1;33m,\u001b[0m \u001b[0mtolist\u001b[0m\u001b[1;33m\u001b[0m\u001b[1;33m\u001b[0m\u001b[0m\n\u001b[1;32m----> 9\u001b[1;33m \u001b[1;32mfrom\u001b[0m \u001b[0mnose\u001b[0m\u001b[1;33m.\u001b[0m\u001b[0mplugins\u001b[0m\u001b[1;33m.\u001b[0m\u001b[0mmanager\u001b[0m \u001b[1;32mimport\u001b[0m \u001b[0mNoPlugins\u001b[0m\u001b[1;33m\u001b[0m\u001b[1;33m\u001b[0m\u001b[0m\n\u001b[0m\u001b[0;32m     10\u001b[0m \u001b[1;32mfrom\u001b[0m \u001b[0mwarnings\u001b[0m \u001b[1;32mimport\u001b[0m \u001b[0mwarn\u001b[0m\u001b[1;33m,\u001b[0m \u001b[0mfilterwarnings\u001b[0m\u001b[1;33m\u001b[0m\u001b[1;33m\u001b[0m\u001b[0m\n\u001b[0;32m     11\u001b[0m \u001b[1;33m\u001b[0m\u001b[0m\n",
      "\u001b[1;32mC:\\Anaconda\\lib\\site-packages\\nose\\plugins\\__init__.py\u001b[0m in \u001b[0;36m<module>\u001b[1;34m\u001b[0m\n\u001b[0;32m    183\u001b[0m \"\"\"\n\u001b[0;32m    184\u001b[0m \u001b[1;32mfrom\u001b[0m \u001b[0mnose\u001b[0m\u001b[1;33m.\u001b[0m\u001b[0mplugins\u001b[0m\u001b[1;33m.\u001b[0m\u001b[0mbase\u001b[0m \u001b[1;32mimport\u001b[0m \u001b[0mPlugin\u001b[0m\u001b[1;33m\u001b[0m\u001b[1;33m\u001b[0m\u001b[0m\n\u001b[1;32m--> 185\u001b[1;33m \u001b[1;32mfrom\u001b[0m \u001b[0mnose\u001b[0m\u001b[1;33m.\u001b[0m\u001b[0mplugins\u001b[0m\u001b[1;33m.\u001b[0m\u001b[0mmanager\u001b[0m \u001b[1;32mimport\u001b[0m \u001b[1;33m*\u001b[0m\u001b[1;33m\u001b[0m\u001b[1;33m\u001b[0m\u001b[0m\n\u001b[0m\u001b[0;32m    186\u001b[0m \u001b[1;32mfrom\u001b[0m \u001b[0mnose\u001b[0m\u001b[1;33m.\u001b[0m\u001b[0mplugins\u001b[0m\u001b[1;33m.\u001b[0m\u001b[0mplugintest\u001b[0m \u001b[1;32mimport\u001b[0m \u001b[0mPluginTester\u001b[0m\u001b[1;33m\u001b[0m\u001b[1;33m\u001b[0m\u001b[0m\n\u001b[0;32m    187\u001b[0m \u001b[1;33m\u001b[0m\u001b[0m\n",
      "\u001b[1;32mC:\\Anaconda\\lib\\site-packages\\nose\\plugins\\manager.py\u001b[0m in \u001b[0;36m<module>\u001b[1;34m\u001b[0m\n\u001b[0;32m    416\u001b[0m \u001b[1;33m\u001b[0m\u001b[0m\n\u001b[0;32m    417\u001b[0m \u001b[1;32mtry\u001b[0m\u001b[1;33m:\u001b[0m\u001b[1;33m\u001b[0m\u001b[1;33m\u001b[0m\u001b[0m\n\u001b[1;32m--> 418\u001b[1;33m     \u001b[1;32mimport\u001b[0m \u001b[0mpkg_resources\u001b[0m\u001b[1;33m\u001b[0m\u001b[1;33m\u001b[0m\u001b[0m\n\u001b[0m\u001b[0;32m    419\u001b[0m     \u001b[1;32mclass\u001b[0m \u001b[0mDefaultPluginManager\u001b[0m\u001b[1;33m(\u001b[0m\u001b[0mEntryPointPluginManager\u001b[0m\u001b[1;33m,\u001b[0m \u001b[0mBuiltinPluginManager\u001b[0m\u001b[1;33m)\u001b[0m\u001b[1;33m:\u001b[0m\u001b[1;33m\u001b[0m\u001b[1;33m\u001b[0m\u001b[0m\n\u001b[0;32m    420\u001b[0m         \u001b[1;32mpass\u001b[0m\u001b[1;33m\u001b[0m\u001b[1;33m\u001b[0m\u001b[0m\n",
      "\u001b[1;32mC:\\Anaconda\\lib\\site-packages\\pkg_resources\\__init__.py\u001b[0m in \u001b[0;36m<module>\u001b[1;34m\u001b[0m\n\u001b[0;32m   3124\u001b[0m \u001b[1;33m\u001b[0m\u001b[0m\n\u001b[0;32m   3125\u001b[0m \u001b[1;33m\u001b[0m\u001b[0m\n\u001b[1;32m-> 3126\u001b[1;33m \u001b[1;33m@\u001b[0m\u001b[0m_call_aside\u001b[0m\u001b[1;33m\u001b[0m\u001b[1;33m\u001b[0m\u001b[0m\n\u001b[0m\u001b[0;32m   3127\u001b[0m \u001b[1;32mdef\u001b[0m \u001b[0m_initialize_master_working_set\u001b[0m\u001b[1;33m(\u001b[0m\u001b[1;33m)\u001b[0m\u001b[1;33m:\u001b[0m\u001b[1;33m\u001b[0m\u001b[1;33m\u001b[0m\u001b[0m\n\u001b[0;32m   3128\u001b[0m     \"\"\"\n",
      "\u001b[1;32mC:\\Anaconda\\lib\\site-packages\\pkg_resources\\__init__.py\u001b[0m in \u001b[0;36m_call_aside\u001b[1;34m(f, *args, **kwargs)\u001b[0m\n\u001b[0;32m   3108\u001b[0m \u001b[1;31m# from jaraco.functools 1.3\u001b[0m\u001b[1;33m\u001b[0m\u001b[1;33m\u001b[0m\u001b[1;33m\u001b[0m\u001b[0m\n\u001b[0;32m   3109\u001b[0m \u001b[1;32mdef\u001b[0m \u001b[0m_call_aside\u001b[0m\u001b[1;33m(\u001b[0m\u001b[0mf\u001b[0m\u001b[1;33m,\u001b[0m \u001b[1;33m*\u001b[0m\u001b[0margs\u001b[0m\u001b[1;33m,\u001b[0m \u001b[1;33m**\u001b[0m\u001b[0mkwargs\u001b[0m\u001b[1;33m)\u001b[0m\u001b[1;33m:\u001b[0m\u001b[1;33m\u001b[0m\u001b[1;33m\u001b[0m\u001b[0m\n\u001b[1;32m-> 3110\u001b[1;33m     \u001b[0mf\u001b[0m\u001b[1;33m(\u001b[0m\u001b[1;33m*\u001b[0m\u001b[0margs\u001b[0m\u001b[1;33m,\u001b[0m \u001b[1;33m**\u001b[0m\u001b[0mkwargs\u001b[0m\u001b[1;33m)\u001b[0m\u001b[1;33m\u001b[0m\u001b[1;33m\u001b[0m\u001b[0m\n\u001b[0m\u001b[0;32m   3111\u001b[0m     \u001b[1;32mreturn\u001b[0m \u001b[0mf\u001b[0m\u001b[1;33m\u001b[0m\u001b[1;33m\u001b[0m\u001b[0m\n\u001b[0;32m   3112\u001b[0m \u001b[1;33m\u001b[0m\u001b[0m\n",
      "\u001b[1;32mC:\\Anaconda\\lib\\site-packages\\pkg_resources\\__init__.py\u001b[0m in \u001b[0;36m_initialize_master_working_set\u001b[1;34m()\u001b[0m\n\u001b[0;32m   3152\u001b[0m     tuple(\n\u001b[0;32m   3153\u001b[0m         \u001b[0mdist\u001b[0m\u001b[1;33m.\u001b[0m\u001b[0mactivate\u001b[0m\u001b[1;33m(\u001b[0m\u001b[0mreplace\u001b[0m\u001b[1;33m=\u001b[0m\u001b[1;32mFalse\u001b[0m\u001b[1;33m)\u001b[0m\u001b[1;33m\u001b[0m\u001b[1;33m\u001b[0m\u001b[0m\n\u001b[1;32m-> 3154\u001b[1;33m         \u001b[1;32mfor\u001b[0m \u001b[0mdist\u001b[0m \u001b[1;32min\u001b[0m \u001b[0mworking_set\u001b[0m\u001b[1;33m\u001b[0m\u001b[1;33m\u001b[0m\u001b[0m\n\u001b[0m\u001b[0;32m   3155\u001b[0m     )\n\u001b[0;32m   3156\u001b[0m     add_activation_listener(\n",
      "\u001b[1;32mC:\\Anaconda\\lib\\site-packages\\pkg_resources\\__init__.py\u001b[0m in \u001b[0;36m<genexpr>\u001b[1;34m(.0)\u001b[0m\n\u001b[0;32m   3152\u001b[0m     tuple(\n\u001b[0;32m   3153\u001b[0m         \u001b[0mdist\u001b[0m\u001b[1;33m.\u001b[0m\u001b[0mactivate\u001b[0m\u001b[1;33m(\u001b[0m\u001b[0mreplace\u001b[0m\u001b[1;33m=\u001b[0m\u001b[1;32mFalse\u001b[0m\u001b[1;33m)\u001b[0m\u001b[1;33m\u001b[0m\u001b[1;33m\u001b[0m\u001b[0m\n\u001b[1;32m-> 3154\u001b[1;33m         \u001b[1;32mfor\u001b[0m \u001b[0mdist\u001b[0m \u001b[1;32min\u001b[0m \u001b[0mworking_set\u001b[0m\u001b[1;33m\u001b[0m\u001b[1;33m\u001b[0m\u001b[0m\n\u001b[0m\u001b[0;32m   3155\u001b[0m     )\n\u001b[0;32m   3156\u001b[0m     add_activation_listener(\n",
      "\u001b[1;32mC:\\Anaconda\\lib\\site-packages\\pkg_resources\\__init__.py\u001b[0m in \u001b[0;36mactivate\u001b[1;34m(self, path, replace)\u001b[0m\n\u001b[0;32m   2656\u001b[0m         \u001b[0mself\u001b[0m\u001b[1;33m.\u001b[0m\u001b[0minsert_on\u001b[0m\u001b[1;33m(\u001b[0m\u001b[0mpath\u001b[0m\u001b[1;33m,\u001b[0m \u001b[0mreplace\u001b[0m\u001b[1;33m=\u001b[0m\u001b[0mreplace\u001b[0m\u001b[1;33m)\u001b[0m\u001b[1;33m\u001b[0m\u001b[1;33m\u001b[0m\u001b[0m\n\u001b[0;32m   2657\u001b[0m         \u001b[1;32mif\u001b[0m \u001b[0mpath\u001b[0m \u001b[1;32mis\u001b[0m \u001b[0msys\u001b[0m\u001b[1;33m.\u001b[0m\u001b[0mpath\u001b[0m\u001b[1;33m:\u001b[0m\u001b[1;33m\u001b[0m\u001b[1;33m\u001b[0m\u001b[0m\n\u001b[1;32m-> 2658\u001b[1;33m             \u001b[0mfixup_namespace_packages\u001b[0m\u001b[1;33m(\u001b[0m\u001b[0mself\u001b[0m\u001b[1;33m.\u001b[0m\u001b[0mlocation\u001b[0m\u001b[1;33m)\u001b[0m\u001b[1;33m\u001b[0m\u001b[1;33m\u001b[0m\u001b[0m\n\u001b[0m\u001b[0;32m   2659\u001b[0m             \u001b[1;32mfor\u001b[0m \u001b[0mpkg\u001b[0m \u001b[1;32min\u001b[0m \u001b[0mself\u001b[0m\u001b[1;33m.\u001b[0m\u001b[0m_get_metadata\u001b[0m\u001b[1;33m(\u001b[0m\u001b[1;34m'namespace_packages.txt'\u001b[0m\u001b[1;33m)\u001b[0m\u001b[1;33m:\u001b[0m\u001b[1;33m\u001b[0m\u001b[1;33m\u001b[0m\u001b[0m\n\u001b[0;32m   2660\u001b[0m                 \u001b[1;32mif\u001b[0m \u001b[0mpkg\u001b[0m \u001b[1;32min\u001b[0m \u001b[0msys\u001b[0m\u001b[1;33m.\u001b[0m\u001b[0mmodules\u001b[0m\u001b[1;33m:\u001b[0m\u001b[1;33m\u001b[0m\u001b[1;33m\u001b[0m\u001b[0m\n",
      "\u001b[1;32mC:\\Anaconda\\lib\\site-packages\\pkg_resources\\__init__.py\u001b[0m in \u001b[0;36mfixup_namespace_packages\u001b[1;34m(path_item, parent)\u001b[0m\n\u001b[0;32m   2196\u001b[0m     \u001b[1;32mtry\u001b[0m\u001b[1;33m:\u001b[0m\u001b[1;33m\u001b[0m\u001b[1;33m\u001b[0m\u001b[0m\n\u001b[0;32m   2197\u001b[0m         \u001b[1;32mfor\u001b[0m \u001b[0mpackage\u001b[0m \u001b[1;32min\u001b[0m \u001b[0m_namespace_packages\u001b[0m\u001b[1;33m.\u001b[0m\u001b[0mget\u001b[0m\u001b[1;33m(\u001b[0m\u001b[0mparent\u001b[0m\u001b[1;33m,\u001b[0m \u001b[1;33m(\u001b[0m\u001b[1;33m)\u001b[0m\u001b[1;33m)\u001b[0m\u001b[1;33m:\u001b[0m\u001b[1;33m\u001b[0m\u001b[1;33m\u001b[0m\u001b[0m\n\u001b[1;32m-> 2198\u001b[1;33m             \u001b[0msubpath\u001b[0m \u001b[1;33m=\u001b[0m \u001b[0m_handle_ns\u001b[0m\u001b[1;33m(\u001b[0m\u001b[0mpackage\u001b[0m\u001b[1;33m,\u001b[0m \u001b[0mpath_item\u001b[0m\u001b[1;33m)\u001b[0m\u001b[1;33m\u001b[0m\u001b[1;33m\u001b[0m\u001b[0m\n\u001b[0m\u001b[0;32m   2199\u001b[0m             \u001b[1;32mif\u001b[0m \u001b[0msubpath\u001b[0m\u001b[1;33m:\u001b[0m\u001b[1;33m\u001b[0m\u001b[1;33m\u001b[0m\u001b[0m\n\u001b[0;32m   2200\u001b[0m                 \u001b[0mfixup_namespace_packages\u001b[0m\u001b[1;33m(\u001b[0m\u001b[0msubpath\u001b[0m\u001b[1;33m,\u001b[0m \u001b[0mpackage\u001b[0m\u001b[1;33m)\u001b[0m\u001b[1;33m\u001b[0m\u001b[1;33m\u001b[0m\u001b[0m\n",
      "\u001b[1;32mC:\\Anaconda\\lib\\site-packages\\pkg_resources\\__init__.py\u001b[0m in \u001b[0;36m_handle_ns\u001b[1;34m(packageName, path_item)\u001b[0m\n\u001b[0;32m   2102\u001b[0m     \u001b[1;32mwith\u001b[0m \u001b[0mwarnings\u001b[0m\u001b[1;33m.\u001b[0m\u001b[0mcatch_warnings\u001b[0m\u001b[1;33m(\u001b[0m\u001b[1;33m)\u001b[0m\u001b[1;33m:\u001b[0m\u001b[1;33m\u001b[0m\u001b[1;33m\u001b[0m\u001b[0m\n\u001b[0;32m   2103\u001b[0m         \u001b[0mwarnings\u001b[0m\u001b[1;33m.\u001b[0m\u001b[0msimplefilter\u001b[0m\u001b[1;33m(\u001b[0m\u001b[1;34m\"ignore\"\u001b[0m\u001b[1;33m)\u001b[0m\u001b[1;33m\u001b[0m\u001b[1;33m\u001b[0m\u001b[0m\n\u001b[1;32m-> 2104\u001b[1;33m         \u001b[0mloader\u001b[0m \u001b[1;33m=\u001b[0m \u001b[0mimporter\u001b[0m\u001b[1;33m.\u001b[0m\u001b[0mfind_module\u001b[0m\u001b[1;33m(\u001b[0m\u001b[0mpackageName\u001b[0m\u001b[1;33m)\u001b[0m\u001b[1;33m\u001b[0m\u001b[1;33m\u001b[0m\u001b[0m\n\u001b[0m\u001b[0;32m   2105\u001b[0m \u001b[1;33m\u001b[0m\u001b[0m\n\u001b[0;32m   2106\u001b[0m     \u001b[1;32mif\u001b[0m \u001b[0mloader\u001b[0m \u001b[1;32mis\u001b[0m \u001b[1;32mNone\u001b[0m\u001b[1;33m:\u001b[0m\u001b[1;33m\u001b[0m\u001b[1;33m\u001b[0m\u001b[0m\n",
      "\u001b[1;32mC:\\Anaconda\\lib\\importlib\\_bootstrap_external.py\u001b[0m in \u001b[0;36m_find_module_shim\u001b[1;34m(self, fullname)\u001b[0m\n",
      "\u001b[1;32mC:\\Anaconda\\lib\\importlib\\_bootstrap_external.py\u001b[0m in \u001b[0;36mfind_loader\u001b[1;34m(self, fullname)\u001b[0m\n",
      "\u001b[1;32mC:\\Anaconda\\lib\\importlib\\_bootstrap_external.py\u001b[0m in \u001b[0;36mfind_spec\u001b[1;34m(self, fullname, target)\u001b[0m\n",
      "\u001b[1;32mC:\\Anaconda\\lib\\importlib\\_bootstrap_external.py\u001b[0m in \u001b[0;36m_path_isfile\u001b[1;34m(path)\u001b[0m\n",
      "\u001b[1;32mC:\\Anaconda\\lib\\importlib\\_bootstrap_external.py\u001b[0m in \u001b[0;36m_path_is_mode_type\u001b[1;34m(path, mode)\u001b[0m\n",
      "\u001b[1;32mC:\\Anaconda\\lib\\importlib\\_bootstrap_external.py\u001b[0m in \u001b[0;36m_path_stat\u001b[1;34m(path)\u001b[0m\n",
      "\u001b[1;31mKeyboardInterrupt\u001b[0m: "
     ]
    }
   ],
   "source": [
    "from sklearn import metrics\n",
    "print(metrics.accuracy_score(y_test, y_pred_class))\n",
    "'''\n",
    "ALWAYS ALWAYS Calculate this against the null accuracy. The null accuracy\n",
    "is when a \"dumb model\" makes everything 0 or everything 1, depending\n",
    "on what is most common. If 95% of the data is 0, then having a model\n",
    "be \"96% accurate\" is not that good/accurate of a model\n",
    "'''"
   ]
  },
  {
   "cell_type": "markdown",
   "metadata": {},
   "source": [
    "### A final point for Classifiers:\n",
    "\n",
    "Classification is done based on a probability spectrum (0% to 100%). The default is that if the classifier determines that a true positive value is likely to occur over 50%, then it is classified as 1. If it is likely to occur under 50%, it is classified as 0.\n",
    "\n",
    "However, __not all classifiers should be treated the same__. This delineating mark should be adjusted based on the business objective/class set. For example,\n",
    "\n",
    "- for __spam filters__, we want to _increase_ the percentage as false negatives (spam going to inbox) is more acceptable than false positives (non-spam going to spambox). (Overall, increase _specificity_).\n",
    "\n",
    "- for __fraudulent transaction info__, we want to optimize the percentage by _decreasing_ it to maximize false positives. False positives (normal transactions detected as possible fraud) are more acceptable than false negatives (fradulent transactions not being detected by the model. (Overall, increase _sensitivity_).\n",
    "\n",
    "- for __diabetes detections__, we want to optimize for sensitivity, like fradulent transactions.\n",
    "\n",
    "How do we do this? See below:"
   ]
  },
  {
   "cell_type": "code",
   "execution_count": null,
   "metadata": {},
   "outputs": [],
   "source": [
    "# Determine probabilities\n",
    "y_pred_prob = model.predict_proba(X_test)[:, 1] \n",
    "# This means to predict probabilities of outcome from \"class 1\" for all rows\n",
    "\n",
    "#good idea to graph out the probability distribution to get an idea of how to adjust\n",
    "plt.hist(y_pred_prob, bins=15)\n",
    "plt.show()\n",
    "\n",
    "# adjusting the classification from 0.5 to 0.3 (more sensitive)\n",
    "from sklearn.preprocessing import binarize\n",
    "y_pred = binarize(y_pred_prob, 0.3)[0]"
   ]
  },
  {
   "cell_type": "code",
   "execution_count": null,
   "metadata": {},
   "outputs": [],
   "source": [
    "# How to determine this delineating point? How sensitive to make?\n",
    "# Answer: ROC Curve. \n",
    "# ROC Curve tells you what sensitivity/specificity tradeoff you will be able to get\n",
    "# based on the particular dataset...\n",
    "\n",
    "# first argument = Ytest; second argument = ypredprob (NOT ypredprob class == 1)\n",
    "\n",
    "fpr, tpr, thresholds = metrics.roc_curve(y_test, y_pred_prob)\n",
    "plt.plt(fpr, tpr)\n",
    "plt.xlim(0,1) # from 0% to 100%\n",
    "plt.ylim(0,1)\n",
    "plt.title('ROC curve for [Particular Dataset] Classifier')\n",
    "plt.xlabel('False Positive Rate (1 - Specificity)')\n",
    "plt.ylabel('True Positive Rate (Sensitivity)')\n",
    "plt.grid(True)\n",
    "\n",
    "# also for numerical points along this ROC curve for specific sensitivity, specificity:\n",
    "def evaluate_threshold(threshold_percent):\n",
    "    print('Sensitivity:', tpr[thresholds > threshold_percent][-1])\n",
    "    print('Specificity:', 1 - fpr[thresholds > threshold_percent][-1])"
   ]
  },
  {
   "cell_type": "code",
   "execution_count": null,
   "metadata": {},
   "outputs": [],
   "source": [
    "# What about AREA UNDER THE CURVE (AUC)?\n",
    "# AUC represents likelihood that the classifier will assign a \n",
    "# higher predicted probability to the POSITIVE OBSERVATION.\n",
    "# Good for high class imbalance\n",
    "\n",
    "# first argument = Ytest; second argument = ypredprob (NOT ypredprob class == 1)\n",
    "metrics.roc_auc_score(y_test, y_pred_prob)\n",
    "\n",
    "cross_val_score(model, X, y, cv=10, scoring='roc_auc').mean()"
   ]
  },
  {
   "cell_type": "markdown",
   "metadata": {},
   "source": [
    "# Lesson 4 - Regression Models\n",
    "\n",
    "Classification models, like Naive Bayes, are for categorical variables (true/false keyword analysis)\n",
    "Regression models are for continuous variable prediction analysis.\n",
    "\n",
    "Most common and most popular regression model?\n",
    "\n",
    "## Ordinary Least Squares (OLS) Regression!\n"
   ]
  },
  {
   "cell_type": "code",
   "execution_count": 10,
   "metadata": {},
   "outputs": [
    {
     "data": {
      "image/png": "[encoded data removed]",
      "text/plain": [
       "<Figure size 432x288 with 1 Axes>"
      ]
     },
     "metadata": {
      "needs_background": "light"
     },
     "output_type": "display_data"
    }
   ],
   "source": [
    "# Like classifiers, you have a single target/dependent variable and multiple input/x variables\n",
    "\n",
    "# Sample data to play with.\n",
    "y = pd.DataFrame([10, 19, 28, 32, 43, 54, 67, 84, 83, 90, 101])\n",
    "x = pd.DataFrame([1, 2, 3, 4, 5, 6, 7, 8, 9, 10, 11])\n",
    "\n",
    "plt.scatter(x, y)\n",
    "plt.show()"
   ]
  },
  {
   "cell_type": "markdown",
   "metadata": {},
   "source": [
    "For linear regressions such as this, we use a simple y = mx + b analysis \n",
    "(or in statistics world, y = b + mx):\n",
    "\n",
    "\"Running\" a linear regression model generates the following estimation: __\"y=α+βx\"__\n",
    "\n",
    "### How it works:\n",
    "\n",
    "The model creates a line with how far each data point is is vertically away from the line (the error/distance is called a \"residual\").\n",
    "\n",
    "The line is created when total residuals is minimized."
   ]
  },
  {
   "cell_type": "code",
   "execution_count": 12,
   "metadata": {},
   "outputs": [],
   "source": [
    "import pandas as pd\n",
    "from matplotlib import pyplot as plt\n",
    "import numpy as np\n",
    "from sklearn import linear_model # This is the operative sklearn function we are using!\n",
    "%matplotlib inline\n",
    "pd.options.display.float_format = '{:.3f}'.format\n",
    "\n",
    "# Suppress annoying harmless error.\n",
    "import warnings\n",
    "warnings.filterwarnings(action=\"ignore\", module=\"scipy\", message=\"^internal gelsd\")"
   ]
  },
  {
   "cell_type": "code",
   "execution_count": 13,
   "metadata": {},
   "outputs": [
    {
     "name": "stdout",
     "output_type": "stream",
     "text": [
      "Coefficients: \n",
      " [[9.38181818]]\n",
      "Intercept: \n",
      " [-0.74545455]\n"
     ]
    },
    {
     "data": {
      "image/png": "[encoded data removed]",
      "text/plain": [
       "<Figure size 432x288 with 1 Axes>"
      ]
     },
     "metadata": {
      "needs_background": "light"
     },
     "output_type": "display_data"
    }
   ],
   "source": [
    "# Following the example:\n",
    "\n",
    "# Instantiate our model.\n",
    "regr = linear_model.LinearRegression()\n",
    "\n",
    "# Fit our model to our data.\n",
    "regr.fit(x, y)\n",
    "\n",
    "# Display the attributes we calculated.\n",
    "print('Coefficients: \\n', regr.coef_)\n",
    "print('Intercept: \\n', regr.intercept_)\n",
    "\n",
    "# Plot outputs\n",
    "plt.scatter(x, y, color='black')\n",
    "plt.plot(x, regr.predict(x), color='blue', linewidth=3)\n",
    "plt.show()\n",
    "\n",
    "#NOTE!:\n",
    "# For the y-component of plt.plot, you MUST use regr.predict(x)\n",
    "# If you do y = regr.predict(x) and put y into the plot setup, you \n",
    "# WILL NOT get a nice fancy fit line"
   ]
  },
  {
   "cell_type": "code",
   "execution_count": null,
   "metadata": {},
   "outputs": [],
   "source": [
    "#NOTE!!!!!:\n",
    "\n",
    "# regr.fit/sklearn can't handle NaN values, so you need to fix those first!\n",
    "#A cheap and fast way is:\n",
    "from sklearn.preprocessing import Imputer\n",
    "imputer = Imputer()\n",
    "y_imputed = imputer.fit_transform(y)"
   ]
  },
  {
   "cell_type": "code",
   "execution_count": null,
   "metadata": {},
   "outputs": [],
   "source": [
    "# As a final touch, you can do the following for summary analysis:\n",
    "import statsmodels.api as sm\n",
    "model = sm.OLS(df['Y/Outcome Variable'], \n",
    "                 sm.add_constant(df['X/Feature Variable'])).fit()\n",
    "predictions = model.predict(df['X'])\n",
    "model.summary()"
   ]
  },
  {
   "cell_type": "markdown",
   "metadata": {},
   "source": [
    "# Multivariable Regression\n",
    "\n",
    "Most instances, we are not looking at the relationship between a _single_ x variable and a y variable - there are multiple input variables at play.\n",
    "\n",
    "#### Example:\n",
    "Rent = α\"base rent\" + β(SquareFootage + # Bedrooms + # Bathrooms + # Year Built)x\n",
    "\n",
    "Beta has multiple inputs here."
   ]
  },
  {
   "cell_type": "markdown",
   "metadata": {},
   "source": [
    "## Assumptions of Linear Regression\n",
    "\n",
    "#### R-Squared Values\n",
    "This value shows overall accuracy between the sample data and the training data - score between 0 and 100%. For example, a score of 89.7% means: \"the model explains 89.7% of the variance in the outcome variable.\"\n",
    "\n",
    "A score of 100% or close to it is __not a good thing__: it's a sign of overfitting.\n",
    "\n",
    "#### Assumptions for Accurate R-Squared Outputs\n",
    "1. There must be a __linear__ relationship.\n",
    "   - If it's more than a linear relationship, you can square root it down to a linear relationship:\n"
   ]
  },
  {
   "cell_type": "code",
   "execution_count": 4,
   "metadata": {},
   "outputs": [
    {
     "data": {
      "image/png": "[encoded data removed]",
      "text/plain": [
       "<Figure size 432x288 with 1 Axes>"
      ]
     },
     "metadata": {
      "needs_background": "light"
     },
     "output_type": "display_data"
    },
    {
     "data": {
      "image/png": "[encoded data removed]",
      "text/plain": [
       "<Figure size 432x288 with 1 Axes>"
      ]
     },
     "metadata": {
      "needs_background": "light"
     },
     "output_type": "display_data"
    }
   ],
   "source": [
    "import matplotlib.pyplot as plt\n",
    "%matplotlib inline\n",
    "import math \n",
    "\n",
    "# Sample data.\n",
    "outcome = [1, 2, 3, 4, 5, 6, 7, 8, 9, 10, 11, 12]\n",
    "feature = [3, 4, 10, 16, 25, 33, 49, 60, 85, 100, 130, 140]\n",
    "\n",
    "# Plot the data as-is. Looks a mite quadratic.\n",
    "plt.scatter(outcome, feature)\n",
    "plt.title('Raw values')\n",
    "plt.show()\n",
    "\n",
    "# Create a feature using a non-linear transformation.\n",
    "sqrt_feature = [math.sqrt(x) for x in  feature]\n",
    "\n",
    "\n",
    "# Well now isn't that nice.\n",
    "plt.scatter(outcome, sqrt_feature)\n",
    "plt.title('Transformed values')\n",
    "plt.show()"
   ]
  },
  {
   "cell_type": "code",
   "execution_count": 1,
   "metadata": {},
   "outputs": [
    {
     "data": {
      "text/html": [
       "<img src=\"https://statswithcats.files.wordpress.com/2010/11/independent-variable-transformations.jpg\"/>"
      ],
      "text/plain": [
       "<IPython.core.display.Image object>"
      ]
     },
     "execution_count": 1,
     "metadata": {},
     "output_type": "execute_result"
    }
   ],
   "source": [
    "# overall linearization format\n",
    "from IPython.display import Image\n",
    "from IPython.core.display import HTML\n",
    "Image(url='https://statswithcats.files.wordpress.com/2010/11/independent-variable-transformations.jpg')\n"
   ]
  },
  {
   "cell_type": "code",
   "execution_count": 3,
   "metadata": {},
   "outputs": [
    {
     "data": {
      "image/jpeg": "[encoded data removed]",
      "text/plain": [
       "<IPython.core.display.Image object>"
      ]
     },
     "execution_count": 3,
     "metadata": {},
     "output_type": "execute_result"
    }
   ],
   "source": [
    "# Note that the axes labels are switched, but overall this figure is correct.\n",
    "\n",
    "# for the record, this is how you load an image from your PC\n",
    "# Image(filename=\n",
    "#       'C:/Users/jafon/Documents/PythonMaterials/Coding Information/Linear Transformation_flipped.jpg')\n"
   ]
  },
  {
   "cell_type": "markdown",
   "metadata": {},
   "source": [
    "__The Gist:__ \n",
    " - Exponents flatten exponential (flat to up) curves\n",
    " - Roots (and log's) flatten logarithmic (up to flat) curves"
   ]
  },
  {
   "cell_type": "markdown",
   "metadata": {},
   "source": [
    "#### Assumption 2\n",
    "2. Multivariate Normality\n",
    "   - The error differences between the model and the data (i.e., the residuals) should be __normally distributed.__ \n",
    "   \n",
    "#### Assumption 3\n",
    "3. Homoscedasticity\n",
    "   - Scedasticity: Distribution of your error terms.\n",
    "   - Like Assumption #2 - it's assumed that the distribution is homoscedastic. If the vast amount of errors come from smaller values, with larger values being more accurate, the overall average accuracy won't reflect exactly how accurate your model is.\n",
    "   - The way to combat this is to adjust the features that target poorly-estimated areas. For example, if there is a big drop in accuracy between September and November, create a binary feature of \"in-season\".\n",
    "   \n"
   ]
  },
  {
   "cell_type": "code",
   "execution_count": null,
   "metadata": {},
   "outputs": [],
   "source": [
    "# How to determine homoscedasticity\n",
    "predicted = regr.predict(X).ravel() # predicted y data\n",
    "actual = data['Sales'] # your actual y data\n",
    "\n",
    "# Calculate the residual.\n",
    "residual = actual - predicted\n",
    "\n",
    "# Check for density distribution of the residuals.\n",
    "plt.hist(residual, bins=60) # checking distribution of residuals/errors\n",
    "plt.title('Residual counts')\n",
    "plt.xlabel('Residual')\n",
    "plt.ylabel('Count')\n",
    "plt.show()\n"
   ]
  },
  {
   "cell_type": "markdown",
   "metadata": {},
   "source": [
    "#### Assumption 4\n",
    "4. Low Multicollinearity\n",
    "   - Like Naive Bayes, the features have to be independent of each other. If they are not independent (they're intertwined), then it is difficult to show which feature is the cause of the outcome/which feature predicts the outcome.\n",
    "   - The easiest thing to do here is to combine features (PCA) or discard the correlated feature(s) altogether."
   ]
  },
  {
   "cell_type": "markdown",
   "metadata": {},
   "source": [
    "### QUICK NOTE!\n",
    "\n",
    "If you don't want to continue to manually adjust features, use this magical built-in function:\n",
    "__from sklearn import preprocessing__\n",
    "\n",
    "(see [This library explanation](https://scikit-learn.org/stable/modules/preprocessing.html) for more information).\n",
    "\n",
    "Some examples:\n",
    "  - preprocessing.scale(training_data_variable)   : Automatically scales down the single-array dataset to a zero mean and unit variance\n",
    "  - use \"robust_scale\" or \"RobustScaler\" for scaling data with outliers\n",
    "  - for manual scaling range, use preprocessing.MinMaxScaler()\n",
    "  - MAPPING TO A NORMAL DISTRIBUTION!\n",
    "      - pt = preprocessing.PowerTransformer(method='box-cox', standardize=False)\n",
    "      - pt.fit_transform(training_data_variable)\n",
    "      -'Box Cox' is a method to convert to normal - FalseStandardize sets the mean to 0\n",
    "      - Other normalizers you can work with: 'Yeo-Johnson', 'Quantile'\n",
    "  - Normalizing to a standard unit - preprocessing.normalize(training_data_variable, norm='l2') (l2 is least squares regression --- l1 is least absolute deviation (a different kind of regression)\n",
    "  - Discretization - converting a continuous variable into discrete partitioned bins/features\n",
    "      - est = preprocessing.KBinsDiscretizer(n_bins=[3,2,2], encode='ordinal').fit(training_data_variable)\n",
    "      - est.transform(training_data_variable)"
   ]
  },
  {
   "cell_type": "code",
   "execution_count": 1,
   "metadata": {
    "collapsed": true
   },
   "outputs": [
    {
     "ename": "SyntaxError",
     "evalue": "invalid syntax (<ipython-input-1-327f7631f8ca>, line 14)",
     "output_type": "error",
     "traceback": [
      "\u001b[1;36m  File \u001b[1;32m\"<ipython-input-1-327f7631f8ca>\"\u001b[1;36m, line \u001b[1;32m14\u001b[0m\n\u001b[1;33m    dtype=<... 'numpy.float64'>, handle_unknown='error',\u001b[0m\n\u001b[1;37m          ^\u001b[0m\n\u001b[1;31mSyntaxError\u001b[0m\u001b[1;31m:\u001b[0m invalid syntax\n"
     ]
    }
   ],
   "source": [
    "# and finally...\n",
    "\n",
    "#OneHotEncoder - encodes categorical data to binary values:\n",
    "genders = ['female', 'male']\n",
    "locations = ['from Africa', 'from Asia', 'from Europe', 'from US']\n",
    "browsers = ['uses Chrome', 'uses Firefox', 'uses IE', 'uses Safari']\n",
    "enc = preprocessing.OneHotEncoder(categories=[genders, locations, browsers])\n",
    "# Note that for there are missing categorical values for the 2nd and 3rd\n",
    "# feature\n",
    "X = [['male', 'from US', 'uses Safari'], ['female', 'from Europe', 'uses Firefox']]\n",
    "enc.fit(X) \n",
    "OneHotEncoder(categorical_features=None,\n",
    "       categories=[...],\n",
    "       dtype=<... 'numpy.float64'>, handle_unknown='error',\n",
    "       n_values=None, sparse=True)\n",
    "enc.transform([['female', 'from Asia', 'uses Chrome']]).toarray()\n",
    "array([[1., 0., 0., 1., 0., 0., 1., 0., 0., 0.]])"
   ]
  },
  {
   "cell_type": "code",
   "execution_count": null,
   "metadata": {},
   "outputs": [],
   "source": [
    "# QUICK NOTE:\n",
    "\n",
    "# Python Regression only works if you have a multi-dimensional output\n",
    "\n",
    "# for single variable outputs \n",
    "# (single feature for x or single sample for y),\n",
    "# gotta do a 'reshape' as shown below\n",
    "\n",
    "# Instantiate and fit our model.\n",
    "regr = linear_model.LinearRegression()\n",
    "Y = data['Sales'].values.reshape(-1, 1) \n",
    "# MUST DO RESHAPE FOR SINGLE OUTCOME VARIABLE OR WILL THROW VALUEERROR!\n",
    "# (just do it, m8)\n",
    "\n",
    "# ALSO will need to do the same thing to X if X is a single column\n",
    "# (regr expects 2D array - can't give it 1D)\n",
    "\n",
    "\n",
    "X = data[['TV','Radio','Newspaper']]\n",
    "regr.fit(X, Y)\n",
    "\n",
    "# Inspect the results.\n",
    "print('\\nCoefficients: \\n', regr.coef_)\n",
    "print('\\nIntercept: \\n', regr.intercept_)\n",
    "print('\\nR-squared:')\n",
    "print(regr.score(X, Y))\n",
    "\n",
    "# REMEMBER!!!!! score - the Rsquared value - describes the variance in the data.\n",
    "# There isn't any 'variance' in classifiers, so a .score is INAPPROPRIATE\n",
    "# FOR CLASSIFIERS!!!!! Do a confusion matrix instead."
   ]
  },
  {
   "cell_type": "markdown",
   "metadata": {},
   "source": [
    "# An EXTREMELY Important Note if you are Doing Multivariable Regression!\n",
    "\n",
    "Performing a regression analysis is a two-dimensional setup - an x and a y (you could be fancy with having a representation of three dimensions, but you get the point). This means you are inputting __one x__ and __one y__ variable into your model to fit - it does NOT take a tuple.\n",
    "\n",
    "So...how does one get a multivariable regression analysis? <br>\n",
    "__Answer:__ Quite simple - __you set your x to be _multiple features___. As we see in the above cell, a mutivariable regression is being done against three features at once - TV, Radio, and Newspaper. This is how multivariable regression works."
   ]
  },
  {
   "cell_type": "code",
   "execution_count": null,
   "metadata": {},
   "outputs": [],
   "source": [
    "########### THIS IS THE EXAMPLE OF LINEAR REGRESSION YOU ARE WORKING FOR!\n",
    "\n",
    "import matplotlib.pyplot as plt\n",
    "import numpy as np\n",
    "from sklearn import datasets, linear_model\n",
    "from sklearn.metrics import mean_squared_error, r2_score\n",
    "\n",
    "# Load the diabetes dataset\n",
    "diabetes = datasets.load_diabetes()\n",
    "\n",
    "\n",
    "# Use only one feature\n",
    "diabetes_X = diabetes.data[:, np.newaxis, 2]\n",
    "\n",
    "# Split the data into training/testing sets\n",
    "diabetes_X_train = diabetes_X[:-20]\n",
    "diabetes_X_test = diabetes_X[-20:]\n",
    "\n",
    "# Split the targets into training/testing sets\n",
    "diabetes_y_train = diabetes.target[:-20]\n",
    "diabetes_y_test = diabetes.target[-20:]\n",
    "\n",
    "# You can also split via this new cool hip thing\n",
    "from sklearn.model_selection import train_test_split\n",
    "# Use train_test_split to create the necessary training and test groups\n",
    "X_train, X_test, y_train, y_test = train_test_split(data, target, \n",
    "                                                    test_size=0.2, random_state=20)\n",
    "\n",
    "# test_size means you save 80% of data for training \n",
    "# (good to use at least 70% for training)\n",
    "\n",
    "# Create linear regression object\n",
    "regr = linear_model.LinearRegression()\n",
    "\n",
    "# Train the model using the training sets\n",
    "regr.fit(diabetes_X_train, diabetes_y_train)\n",
    "\n",
    "# Make predictions using the testing set\n",
    "diabetes_y_pred = regr.predict(diabetes_X_test)\n",
    "\n",
    "# The coefficients\n",
    "print('Coefficients: \\n', regr.coef_)\n",
    "# The mean squared error\n",
    "print(\"Mean squared error: %.2f\"\n",
    "      % mean_squared_error(diabetes_y_test, diabetes_y_pred))\n",
    "# Explained variance score: 1 is perfect prediction\n",
    "print('Variance score: %.2f' % r2_score(diabetes_y_test, diabetes_y_pred))\n",
    "\n",
    "# Plot outputs\n",
    "plt.scatter(diabetes_X_test, diabetes_y_test,  color='black')\n",
    "plt.plot(diabetes_X_test, diabetes_y_pred, color='blue', linewidth=3)\n",
    "\n",
    "plt.xticks(())\n",
    "plt.yticks(())\n",
    "\n",
    "plt.show()"
   ]
  },
  {
   "cell_type": "code",
   "execution_count": null,
   "metadata": {},
   "outputs": [],
   "source": [
    "# Finally, do a \"score\" to find the R^2 value\n",
    "#remember regr = shorthand for LinearRegression()\n",
    "\n",
    "regr.score(diabetes_y_test, diabetes_y_pred)"
   ]
  },
  {
   "cell_type": "markdown",
   "metadata": {},
   "source": [
    "# THIS IS THE LAYOUT YOU WANT!!!!!!!!!!!!!!!!!!!!\n",
    "\n",
    "1. You have a dataset, features (X) and target variable (Y). Set those variables\n",
    "\n",
    "X = df[[column1, column2, column4, column11, column9]]<br>\n",
    "Y = df[column6]\n",
    "\n",
    "2. Split that data into training data and testing data:\n",
    "\n",
    "from sklearn.model_selection import train_test_split\n",
    "\n",
    "X_train, X_test, y_train, y_test = train_test_split(data, target, test_size=0.2, random_state=20)\n",
    "\n",
    " - __NOTE__: If you're jumping into cross validation, you don't need to split. The cross_val does the splitting and the testing for you!<br>\n",
    "from sklearn.model_selection import cross_val_score<br>\n",
    "cross_val_score(bnb, Xtrain, Ytrain, cv=10) -- \"fittedmodelused, data, target variable\" - due to above note, if you haven't split, it's simply \"X\" and \"Y\")..._ALSO!_ because it takes in the basic data (X) and the target (Y), the output score is a good indicator of how good the model is. IN OTHER WORDS - you can compare efficiency of various models by this score.\n",
    "\n",
    "3. Train ('fit') the model.<br>\n",
    "typeofmodel.fit(Xtrain, Ytrain) - think of Y train as the \"known target values to obtain\"\n",
    "\n",
    "3a. To get a baseline idea of how well your model is predicting, do a model.score(Xtrain, Ytrain). This will produce an R^2 value. (see 7, _infra_).\n",
    "\n",
    "__NOTE:__ A high R2 value doesn't \"necessarily\" mean your model is accurate. If, for example, only 100 points out of 1000 are true positive - target values, and the other 900 don't have the target value, then a \"dummy model\" that sets _all data points_ to not having the target variable would be 90% accurate (called the __\"null accuracy\"__). Our model would get something similar, but that doesn't mean our model is \"90% accurate.\"\n",
    "\n",
    "^^^This point is especially true for classification models, making R2 scores inappropriate (not to mention that R2 measures variance, and there's really no \"variance\" in a classification model). Confusion matricies are more appropriate for those kinds of models (see 6, _infra_).\n",
    "\n",
    "Ypred_ = typeofmodel(_that is now trained!_).predict(Xtest)\n",
    "confusion_matrix(Ypred_, Ytest) # comparing model predictions to actual values.\n",
    "\n",
    "4. Create a prediction output set based on the trained model<br>\n",
    "Ypred_ = typeofmodel(_that is now trained!_).predict(Xtest) - think of X and Y test as the \"validation data\" - testing the accuracy of the model...\n",
    "\n",
    "5. Test the accuracy of the model against the real data: <br>\n",
    "model.score(Ytest, Ypred_) -- This will produce R^2 value, which says that the model \"explains X% of the variance in the data\" - the smaller the explanation, the more the variance is just \"variance\" - ie., __higher R^2 is better score!__\n",
    "\n",
    "5a. \n",
    "\n",
    "6. Also do the following scoring if you want:\n",
    "\n",
    "print(confusion_matrix(Y_validation, predictions))<br>\n",
    "print(classification_report(Y_validation, predictions))\n",
    "\n",
    "7. Optional - testing the accuracy of the model _in general:_\n",
    "model.score(Xtrain, Ytrain) AND/OR\n",
    "model.score(Xtest, Ytest) - just seeing how accurately the model correlates the X's with the target Y's...\n",
    "\n"
   ]
  },
  {
   "cell_type": "markdown",
   "metadata": {},
   "source": [
    "### Graphing Linear Regression Models\n",
    "\n",
    "Due to 2D space, you can only take a look at one feature at a time against your outcome variable. Otherwise, you'll get an error, or worse, your regression line will be worthless (there will be a line for each feature, making it look like a scribble). Then run a scatter plot and overlay it with a line plot.\n",
    "\n",
    "Run the following (example):"
   ]
  },
  {
   "cell_type": "code",
   "execution_count": null,
   "metadata": {},
   "outputs": [],
   "source": [
    "Xreshaped = X['column to explore'].values.reshape(-1,1)\n",
    "\n",
    "regr.fit(Xreshaped, Y)\n",
    "\n",
    "Y_pred = regr.predict(Xreshaped)\n",
    "\n",
    "graphdf['Feature1'] = Xreshaped\n",
    "graphdf['Price Predict'] = Y_pred\n",
    "\n",
    "###################################### graphing\n",
    "sns.set_style('darkgrid')\n",
    "\n",
    "plt.figure(figsize=(25,10))\n",
    "\n",
    "plt.scatter(graphdf['Feature1'], Y, color='blue')\n",
    "sns.lineplot(x=graphdf['Feature1'], y=graphdf['Price Predict'], color='red')\n",
    "\n",
    "plt.ticklabel_format(style='plain', axis='y') # miscellaneous style fixes below\n",
    "plt.ylim(0, 10000000)\n",
    "\n",
    "plt.title('Sample Regression Graph of Price of Housing over Number of Rooms')\n",
    "plt.xlabel('Number of Rooms in the House')\n",
    "plt.ylabel('Price of House (in Australian Dollars)')\n",
    "\n",
    "#fixing fontsize\n",
    "sns.set(font_scale=1)\n",
    "\n",
    "plt.show()"
   ]
  },
  {
   "cell_type": "code",
   "execution_count": null,
   "metadata": {},
   "outputs": [],
   "source": [
    "# How to cross validate linear regression models\n",
    "#cross_val_score(model (the fit(xtrain, ytrain), xtestdata, ytestdata))\n",
    "\n",
    "from sklearn.model_selection import cross_val_score\n",
    "cross_val_score(regr, X, Y, cv=10)\n",
    "\n",
    "# by doing this, it is breaking up the training data model (regr)\n",
    "# into 10 parts, running X and Y against all 10 and producing 10 R squared values\n",
    "# If R Squared's are significantly lower than original testing result,\n",
    "# the model is OVERFITTED."
   ]
  },
  {
   "cell_type": "markdown",
   "metadata": {},
   "source": [
    "### 2.5 - Evaluating Linear Regression Models\n",
    "\n",
    "#### Using an F-Test\n",
    "\n",
    "__F-Test:__ Represents the ratio between variance (standard deviation or  (1-R^2)) in your model vs. variance of a \"reduced model\" (a model with fewer or no features).\n",
    "\n",
    "an F-Test value, like a t value, can be used to find a p value for significance or no significance.\n",
    "\n",
    "__An F-Test helps you determine if the _standard deviations_ from two sets of data are statistically different.__\n",
    "\n",
    "F-value = (std1)^2 / (std2) ^2\n",
    "\n",
    "Degrees of freedom = (# measurements on the data - 1)\n",
    "\n",
    "__A T-Test helps you determine if the _means_ of two sets of data are statistically different.__\n",
    "\n",
    "__THEN__ you use t-tests to measure performance accuracy of _individual features_ (ahem, \"parameters\")."
   ]
  },
  {
   "cell_type": "code",
   "execution_count": 1,
   "metadata": {},
   "outputs": [],
   "source": [
    "# example\n",
    "import math\n",
    "\n",
    "from matplotlib import pyplot as plt\n",
    "import numpy as np\n",
    "import pandas as pd\n",
    "import seaborn as sns\n",
    "import statsmodels.formula.api as smf\n",
    "from statsmodels.sandbox.regression.predstd import wls_prediction_std\n",
    "\n",
    "%matplotlib inline\n",
    "sns.set_style('white')"
   ]
  },
  {
   "cell_type": "code",
   "execution_count": 3,
   "metadata": {},
   "outputs": [
    {
     "data": {
      "text/html": [
       "<div>\n",
       "<style scoped>\n",
       "    .dataframe tbody tr th:only-of-type {\n",
       "        vertical-align: middle;\n",
       "    }\n",
       "\n",
       "    .dataframe tbody tr th {\n",
       "        vertical-align: top;\n",
       "    }\n",
       "\n",
       "    .dataframe thead th {\n",
       "        text-align: right;\n",
       "    }\n",
       "</style>\n",
       "<table border=\"1\" class=\"dataframe\">\n",
       "  <thead>\n",
       "    <tr style=\"text-align: right;\">\n",
       "      <th></th>\n",
       "      <th>TV</th>\n",
       "      <th>Radio</th>\n",
       "      <th>Newspaper</th>\n",
       "      <th>Sales</th>\n",
       "    </tr>\n",
       "  </thead>\n",
       "  <tbody>\n",
       "    <tr>\n",
       "      <th>1</th>\n",
       "      <td>230.1</td>\n",
       "      <td>37.8</td>\n",
       "      <td>69.2</td>\n",
       "      <td>22.1</td>\n",
       "    </tr>\n",
       "    <tr>\n",
       "      <th>2</th>\n",
       "      <td>44.5</td>\n",
       "      <td>39.3</td>\n",
       "      <td>45.1</td>\n",
       "      <td>10.4</td>\n",
       "    </tr>\n",
       "    <tr>\n",
       "      <th>3</th>\n",
       "      <td>17.2</td>\n",
       "      <td>45.9</td>\n",
       "      <td>69.3</td>\n",
       "      <td>9.3</td>\n",
       "    </tr>\n",
       "    <tr>\n",
       "      <th>4</th>\n",
       "      <td>151.5</td>\n",
       "      <td>41.3</td>\n",
       "      <td>58.5</td>\n",
       "      <td>18.5</td>\n",
       "    </tr>\n",
       "    <tr>\n",
       "      <th>5</th>\n",
       "      <td>180.8</td>\n",
       "      <td>10.8</td>\n",
       "      <td>58.4</td>\n",
       "      <td>12.9</td>\n",
       "    </tr>\n",
       "  </tbody>\n",
       "</table>\n",
       "</div>"
      ],
      "text/plain": [
       "      TV  Radio  Newspaper  Sales\n",
       "1  230.1   37.8       69.2   22.1\n",
       "2   44.5   39.3       45.1   10.4\n",
       "3   17.2   45.9       69.3    9.3\n",
       "4  151.5   41.3       58.5   18.5\n",
       "5  180.8   10.8       58.4   12.9"
      ]
     },
     "execution_count": 3,
     "metadata": {},
     "output_type": "execute_result"
    }
   ],
   "source": [
    "data_url = 'https://tf-curricula-prod.s3.amazonaws.com/data-science/Advertising.csv'\n",
    "data = pd.read_csv(data_url, index_col=0)\n",
    "data.head()"
   ]
  },
  {
   "cell_type": "code",
   "execution_count": 4,
   "metadata": {},
   "outputs": [
    {
     "name": "stdout",
     "output_type": "stream",
     "text": [
      "Intercept    2.938889\n",
      "TV           0.045765\n",
      "Radio        0.188530\n",
      "Newspaper   -0.001037\n",
      "dtype: float64\n",
      "\n",
      "\n",
      "Intercept    1.267295e-17\n",
      "TV           1.509960e-81\n",
      "Radio        1.505339e-54\n",
      "Newspaper    8.599151e-01\n",
      "dtype: float64\n",
      "\n",
      "\n",
      "0.8972106381789522\n"
     ]
    }
   ],
   "source": [
    "# Write out the model formula.\n",
    "# Your dependent variable on the right, independent variables on the left\n",
    "# Use a ~ to represent an '=' from the functional form\n",
    "linear_formula = 'Sales ~ TV+Radio+Newspaper'\n",
    "\n",
    "# Fit the model to our data using the formula.\n",
    "lm = smf.ols(formula=linear_formula, data=data).fit()\n",
    "\n",
    "print(lm.params) # shows correlation coefficients between feature and outcome variable\n",
    "\n",
    "print('\\n')\n",
    "print(lm.pvalues) # shows p-values for significance of each\n",
    "print('\\n')\n",
    "print(lm.rsquared) # shows overall r-squared of model\n",
    "\n",
    "# below you will see that Newspaper's p value means it's useless."
   ]
  },
  {
   "cell_type": "markdown",
   "metadata": {},
   "source": [
    "### TAKING A PAUSE - WHERE ARE WE?\n",
    "\n",
    "Right now, we want to compare independent variables (the _features_) to the dependent \"outcome\" variable. For continuous independent variables, we do a regression model.\n",
    "\n",
    "As stated above, regression models only work upon certain assumptions. If the data is skewed or uneven, the model will not be reliable. So, what do we do?\n",
    "\n",
    "Answer: _Transformations_\n",
    "\n",
    "We want to change (ahem, \"transform\") the variables in a way that makes our data conform with the regression assumptions. Aside from basic cleaning and data imputation, we achieve this by the following transformations:\n",
    "1. Transform your _dependent variable_ so that its _distribution is normal_ (_always_ check this with a histogram).\n",
    "2. Transform your _independent variables_ so that the correlative relationship of those variables to the dependent variable is _linear_.\n",
    "\n",
    "An example of these transformations is by looking at the above image (called __Box-Cox transformations__, after the guys who invented it). Every time you perform a transformation - technically - you are creating a 'new' variable/feature that reflects upon the original. It's not changing the data - it's scaling the data."
   ]
  },
  {
   "cell_type": "markdown",
   "metadata": {},
   "source": [
    "### Lesson 5.3 - Dimensionality Reduction in Linear Regression\n",
    "\n",
    "More variables makes things more complicated, and more complicated things may lead to more errors\n",
    "\n",
    "If we reduce number of variables, we reduce this complexity. To do so, we use \n",
    "\n",
    "##### Partial Least Squares Regression (PLSR)\n",
    "\n",
    "This compares the outcome variable with a \"cluster\" of features ___that are correlated with each other___. If the features are not correlated, PLSR will not work."
   ]
  },
  {
   "cell_type": "code",
   "execution_count": 2,
   "metadata": {},
   "outputs": [],
   "source": [
    "# example:\n",
    "import seaborn as sns\n",
    "from sklearn import linear_model\n",
    "from sklearn.cross_decomposition import PLSRegression"
   ]
  },
  {
   "cell_type": "code",
   "execution_count": 6,
   "metadata": {},
   "outputs": [
    {
     "data": {
      "image/png": "[encoded data removed]",
      "text/plain": [
       "<Figure size 864x648 with 2 Axes>"
      ]
     },
     "metadata": {
      "needs_background": "light"
     },
     "output_type": "display_data"
    }
   ],
   "source": [
    "# Identifying number of datapoints in outcome variable.\n",
    "n = 1000\n",
    "\n",
    "# Number of features.\n",
    "p = 10\n",
    "\n",
    "# Create random normally distributed data for parameters.\n",
    "X = np.random.normal(size=n * p).reshape((n, p))\n",
    "\n",
    "# Create normally distributed outcome related to parameters but with noise.\n",
    "y = X[:, 0] + 2 * X[:, 1] + np.random.normal(size=n * 1) + 5\n",
    "\n",
    "\n",
    "# Check out correlations. First column is the outcome.\n",
    "f, ax = plt.subplots(figsize=(12, 9))\n",
    "corrmat = pd.DataFrame(np.insert(X, 0, y, axis=1)).corr()\n",
    "\n",
    "# Draw the heatmap using seaborn.\n",
    "sns.heatmap(corrmat, vmax=.8, square=True)\n",
    "plt.show()"
   ]
  },
  {
   "cell_type": "code",
   "execution_count": 7,
   "metadata": {},
   "outputs": [
    {
     "name": "stdout",
     "output_type": "stream",
     "text": [
      "R-squared regression: 0.8395085185513806\n",
      "R-squared PLSR: 0.8395083647067972\n"
     ]
    },
    {
     "data": {
      "image/png": "[encoded data removed]",
      "text/plain": [
       "<Figure size 432x288 with 1 Axes>"
      ]
     },
     "metadata": {
      "needs_background": "light"
     },
     "output_type": "display_data"
    }
   ],
   "source": [
    "# first three features are correlated, so let's work with those:\n",
    "\n",
    "# Fit a linear model with all 10 features.\n",
    "regr = linear_model.LinearRegression()\n",
    "regr.fit(X, y)\n",
    "\n",
    "# Save predicted values.\n",
    "Y_pred = regr.predict(X)\n",
    "print('R-squared regression:', regr.score(X, y))#LR R^2 score value\n",
    "\n",
    "# Fit a linear model using Partial Least Squares Regression.\n",
    "# Reduce feature space to 3 dimensions.\n",
    "pls1 = PLSRegression(n_components=3)\n",
    "\n",
    "# Reduce X to R(X) and regress on y.\n",
    "pls1.fit(X, y)\n",
    "\n",
    "# Save predicted values.\n",
    "Y_PLS_pred = pls1.predict(X)\n",
    "print('R-squared PLSR:', pls1.score(X, y)) #PLSR R^2 score value\n",
    "\n",
    "# Compare the predictions of the two models\n",
    "plt.scatter(Y_pred,Y_PLS_pred) \n",
    "plt.xlabel('Predicted by original 10 features')\n",
    "plt.ylabel('Predicted by 3 features')\n",
    "plt.title('Comparing LR and PLSR predictions')\n",
    "\n",
    "plt.show() # pretty damn close!"
   ]
  },
  {
   "cell_type": "markdown",
   "metadata": {},
   "source": [
    "### Lesson 5.4 The Gradient Descent Algorithm\n",
    "\n",
    "We should've covered this earlier, but...<br>\n",
    "__How does regression work?__ \n",
    "\n",
    "Answer: Minimizes the squared distance between the line of fit and the datapoint (i.e., the squared residual).\n",
    " - Squaring the distance removes concerns about positive vs. negative signs and places a heavy penalty for larger distances.\n",
    " \n",
    "__How does the model calculate this?__\n",
    "\n",
    "Answer: Under the _Gradient Descent Algorithm_, the model iterates over and over until it is optimized and has the smallest squares.\n",
    "\n",
    "__How does it work?__\n",
    "\n",
    "Answer: Three steps.\n",
    " 1. Identify a baseline starting value (often zero).\n",
    " 2. Determine how far you run through the data to make an estimation per iteration (this is called the \"learning rate\").\n",
    " 3. Set a stopping point - each iteration will have a diminishing return in minimizing error, so you set a \"minimal acceptable change\" value.\n",
    "  - Alternatively, you can set a max number of iterations as the stopping point.\n",
    "  - Sometimes the descent of the iteration will prematurely end because it hits a dip in the multi-dimensional data, but the dip is not the overall ('global') minimum. To get around this potential problem, run the algorithm multiple times with different starting values.\n",
    "\n",
    "\n",
    "\n"
   ]
  },
  {
   "cell_type": "code",
   "execution_count": 3,
   "metadata": {},
   "outputs": [
    {
     "name": "stdout",
     "output_type": "stream",
     "text": [
      "\n",
      "Coefficients from sklearn: \n",
      " [[1.94686948]]\n",
      "\n",
      "Intercept from sklearn: \n",
      " [0.5248665]\n",
      "\n",
      "Coefficients from gradient descent algorithm: \n",
      " 1.9463500420141253\n",
      "\n",
      "Intercept from gradient descent algorithm: \n",
      " 0.524748756489304\n"
     ]
    },
    {
     "data": {
      "image/png": "[encoded data removed]",
      "text/plain": [
       "<Figure size 432x288 with 1 Axes>"
      ]
     },
     "metadata": {
      "needs_background": "light"
     },
     "output_type": "display_data"
    }
   ],
   "source": [
    "# example GD Algorithm - SAVE FOR THE FUTURE!\n",
    "\n",
    "######\n",
    "\n",
    "## Cost function for the linear regression that we will try to optimize.\n",
    "def LR_cost_function (alpha, beta, x, y):\n",
    "    '''Return the cost for a given line and data.\n",
    "    \n",
    "    Alpha and beta are the coefficients that describe the fit line line, while\n",
    "    x and y are lists or arrays with the x and y value of each data point.\n",
    "    '''\n",
    "    error = 0\n",
    "    n = len(x)\n",
    "    for i in range(n):\n",
    "        point_error = (y[i] - (alpha + beta * x[i])) ** 2\n",
    "        error += point_error\n",
    "    return error / n\n",
    "\n",
    "\n",
    "# Function we'll call each \"iteration\" (or step) of the gradient algorithm.\n",
    "def step (alpha_cur, beta_cur, learning_rate, x, y):\n",
    "    '''Move downhill from a current cost function to a new, more optimal one.'''\n",
    "    alpha = 0\n",
    "    beta = 0\n",
    "    n = len(x)\n",
    "    for i in range(n):\n",
    "        # Partial derivative of the intercept.\n",
    "        point_alpha = -(2 / n) * (y[i] - ((alpha_cur + beta_cur * x[i])))\n",
    "        alpha += point_alpha\n",
    "        \n",
    "        # Partial derivative of the slope.\n",
    "        point_beta = -(2 / n) * x[i] * (y[i] - ((alpha_cur + beta_cur * x[i])))\n",
    "        beta += point_beta\n",
    "        \n",
    "    new_alpha = alpha_cur - learning_rate * alpha \n",
    "    new_beta = beta_cur - learning_rate * beta\n",
    "    return [new_alpha, new_beta]\n",
    "\n",
    "# These constants correspond to the decision-points described above...:\n",
    "\n",
    "# How many steps (iterations) to take.\n",
    "stop = 1000 # number of iterations before stopping\n",
    "\n",
    "# ASK MENTOR what to do to make the stop to be the difference in error between\n",
    "# two iterations of, say, <0.001!!!!!!!\n",
    "\n",
    "# How far to move with each step.\n",
    "learning_rate = .005\n",
    "\n",
    "# Starting values for intercept and slope \n",
    "alpha_start = 0 #alpha is y-intercept\n",
    "beta_start = 0 # beta is slope\n",
    "\n",
    "# Time to make some data!\n",
    "x = np.random.normal(0, 1, 100)\n",
    "y = x * 2 + np.random.sample(100)\n",
    "\n",
    "# Fit an true minimum regression using solved equations.\n",
    "regr = linear_model.LinearRegression()\n",
    "regr.fit(x.reshape(-1, 1), y.reshape(-1, 1))\n",
    "\n",
    "print('\\nCoefficients from sklearn: \\n', regr.coef_)\n",
    "print('\\nIntercept from sklearn: \\n', regr.intercept_)\n",
    "\n",
    "\n",
    "# Now fit an iteratively optimized regression using your custom gradient\n",
    "# descent algorithm.\n",
    "\n",
    "# Storing each iteration to inspect later.\n",
    "all_error=[]\n",
    "\n",
    "# Provide starting values.\n",
    "alpha = alpha_start\n",
    "beta = beta_start\n",
    "\n",
    "#Run the algorithm.\n",
    "for iter in range(stop):\n",
    "    \n",
    "    # Take a step, assigning the results of our step function to feed into\n",
    "    # the next step.\n",
    "    alpha, beta = step(alpha, beta, learning_rate, x, y)\n",
    "    \n",
    "    # Calculate the error.\n",
    "    error = LR_cost_function(alpha, beta, x, y)\n",
    "    \n",
    "    # Store the error to instpect later.\n",
    "    all_error.append(error)\n",
    "\n",
    "    \n",
    "print('\\nCoefficients from gradient descent algorithm: \\n', beta)\n",
    "print('\\nIntercept from gradient descent algorithm: \\n', alpha)\n",
    "\n",
    "plt.plot(all_error, 'o', ms=.4)\n",
    "plt.xlabel('Iteration')\n",
    "plt.ylabel('Error')\n",
    "plt.title('Error scores for each iteration')\n",
    "plt.show()"
   ]
  },
  {
   "cell_type": "code",
   "execution_count": null,
   "metadata": {},
   "outputs": [],
   "source": []
  }
 ],
 "metadata": {
  "kernelspec": {
   "display_name": "Python 3",
   "language": "python",
   "name": "python3"
  },
  "language_info": {
   "codemirror_mode": {
    "name": "ipython",
    "version": 3
   },
   "file_extension": ".py",
   "mimetype": "text/x-python",
   "name": "python",
   "nbconvert_exporter": "python",
   "pygments_lexer": "ipython3",
   "version": "3.7.1"
  }
 },
 "nbformat": 4,
 "nbformat_minor": 2
}
