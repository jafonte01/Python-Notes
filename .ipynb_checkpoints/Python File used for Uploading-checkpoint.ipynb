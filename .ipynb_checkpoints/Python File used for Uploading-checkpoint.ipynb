{
 "cells": [
  {
   "cell_type": "code",
   "execution_count": 1,
   "metadata": {},
   "outputs": [],
   "source": [
    "def scramble(s1, s2):\n",
    "    if len(s1) < len(s2):\n",
    "        return False\n",
    "    else:\n",
    "        s_check = 0\n",
    "        for char in s2:\n",
    "            char = char.lower()\n",
    "            if len(s2) != s_check and char.lower() in s1:\n",
    "                s1 = s1.replace(char, '', 1)\n",
    "                s_check += 1\n",
    "                if len(s2) == s_check:\n",
    "                    return True\n",
    "                else:   \n",
    "                    continue\n",
    "            else:\n",
    "                return False"
   ]
  },
  {
   "cell_type": "code",
   "execution_count": null,
   "metadata": {},
   "outputs": [],
   "source": []
  }
 ],
 "metadata": {
  "kernelspec": {
   "display_name": "Python 3",
   "language": "python",
   "name": "python3"
  },
  "language_info": {
   "codemirror_mode": {
    "name": "ipython",
    "version": 3
   },
   "file_extension": ".py",
   "mimetype": "text/x-python",
   "name": "python",
   "nbconvert_exporter": "python",
   "pygments_lexer": "ipython3",
   "version": "3.7.1"
  }
 },
 "nbformat": 4,
 "nbformat_minor": 2
}
