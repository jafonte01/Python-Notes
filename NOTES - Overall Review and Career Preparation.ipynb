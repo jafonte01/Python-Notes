{
 "cells": [
  {
   "cell_type": "markdown",
   "metadata": {},
   "source": [
    "# For a Final Review\n",
    "\n",
    "Use [this cheatsheet!](https://ml-cheatsheet.readthedocs.io/en/latest/index.html) Hopefully it will be completed by the time you need it.\n",
    "\n",
    "Also for some motivation on the job hunt, read these stories:\n",
    " - [Farewell App Academy, Part I](https://haseebq.com/farewell-app-academy-hello-airbnb-part-i/)\n",
    " - [Farewell App Academy, Part II](https://haseebq.com/farewell-app-academy-hello-airbnb-part-ii/)\n",
    " - [Ten Rules for Negotiating a Job Offer](https://haseebq.com/my-ten-rules-for-negotiating-a-job-offer/)\n",
    " - [Mastering the Data Science Interview](https://towardsdatascience.com/mastering-the-data-science-interview-15f9c0a558a7)\n",
    " "
   ]
  },
  {
   "cell_type": "markdown",
   "metadata": {},
   "source": [
    "An open source CS curriculum:\n",
    "https://github.com/ForrestKnight/open-source-cs"
   ]
  },
  {
   "cell_type": "markdown",
   "metadata": {},
   "source": [
    "[Flashcards](https://github.com/study-groups/ds-study-group/tree/master/flashcards)"
   ]
  },
  {
   "cell_type": "markdown",
   "metadata": {},
   "source": [
    "[quiz](https://stattrek.com/statistics/dictionary.aspx?definition=z_score) <br>\n",
    "[huge compendium of info](https://chrisalbon.com/)"
   ]
  },
  {
   "cell_type": "code",
   "execution_count": null,
   "metadata": {},
   "outputs": [],
   "source": []
  }
 ],
 "metadata": {
  "kernelspec": {
   "display_name": "Python 3",
   "language": "python",
   "name": "python3"
  },
  "language_info": {
   "codemirror_mode": {
    "name": "ipython",
    "version": 3
   },
   "file_extension": ".py",
   "mimetype": "text/x-python",
   "name": "python",
   "nbconvert_exporter": "python",
   "pygments_lexer": "ipython3",
   "version": "3.7.1"
  }
 },
 "nbformat": 4,
 "nbformat_minor": 2
}
