{
 "cells": [
  {
   "cell_type": "code",
   "execution_count": 1,
   "metadata": {},
   "outputs": [],
   "source": [
    "# Statistics Notes"
   ]
  },
  {
   "cell_type": "code",
   "execution_count": null,
   "metadata": {},
   "outputs": [],
   "source": [
    "# Standard Deviations vs. Standard Errors\n",
    "\n",
    "# THere is a critical difference between the true mean/population and sample mean/population\n",
    "\n",
    "# For the most part in statistics, we obtain a sample population and extrapolate it to reflect the whole/true population\n",
    "# (see confidence intervals for extrapolation)\n",
    "\n",
    "# standard deviation is a measurement of deviation from the TRUE POPULATION'S MEAN\n",
    "# standard error is the measurement of deviation from the SAMPLE POPULATION'S MEAN\n",
    "#calculation is the same for both:\n",
    "\n",
    "sigma = sqrt(# - (1-#)/(sample size'n'))\n",
    "\n",
    "# larger the sample size, the smaller the deviation ('more certainty')"
   ]
  },
  {
   "cell_type": "code",
   "execution_count": null,
   "metadata": {},
   "outputs": [],
   "source": [
    "# What is Z-Score?\n",
    "\n",
    "# Z score is a measurement of how far a sample number is from the mean number in units of the distribution's\n",
    "# standard deviation.\n",
    "\n",
    "Z = (Sample - mean)/standard deviation\n",
    "\n",
    "#example:\n",
    "# mu (true mean, as opposed to a 'sample mean', which is designated by X with a line over it) = 81\n",
    "# sigma = 6.3\n",
    "\n",
    "# for sample numbers 65, 83, 100, Z scores would be -2.54, 0.32, and 3.02\n",
    "# So for 65... \"The sample number is 2.54 standard deviations to the left of the mean\"\n",
    "\n",
    "# Z-score is a great way to determine in a standardized fashion how far something is from the mean\n",
    "# example:\n",
    "LSAT avg = 151, sd = 10\n",
    "MCAT avg = 25.1, sd = 6.4\n",
    "\n",
    "Student scored 37 on MCAT and 172 on LSAT. Which did he do 'better' on?\n",
    "#The larger Z score would answer this question..."
   ]
  },
  {
   "cell_type": "code",
   "execution_count": null,
   "metadata": {},
   "outputs": [],
   "source": [
    "# Confidence Intervals\n",
    "\n",
    "FOR A NORMAL DISTRIBUTION, there is a 95% chance that a  \"sample\" is within TWO STANDARD DEVIATIONS OF THE MEAN\n",
    "\n",
    "So to find a margin of error, we use +/- 2 x sigma (or 2 x standard error for sample populations)"
   ]
  },
  {
   "cell_type": "code",
   "execution_count": null,
   "metadata": {},
   "outputs": [],
   "source": [
    "# T test\n",
    "\n",
    "# T test is used to determine how far a sample population mean is from another mean - the 'true population' mean\n",
    "# t-test outputs a number, which you go to a t-table to look up\n",
    "# if t-table number is < p-value (i.e., 5% typically), then statistically significant and reject null hypothesis\n",
    "\n",
    "# t-test = (sample mean - nullhypothesis mean) / (sample population standard deviation / (sqrt(sample size 'n')))"
   ]
  }
 ],
 "metadata": {
  "kernelspec": {
   "display_name": "Python 3",
   "language": "python",
   "name": "python3"
  },
  "language_info": {
   "codemirror_mode": {
    "name": "ipython",
    "version": 3
   },
   "file_extension": ".py",
   "mimetype": "text/x-python",
   "name": "python",
   "nbconvert_exporter": "python",
   "pygments_lexer": "ipython3",
   "version": "3.7.0"
  }
 },
 "nbformat": 4,
 "nbformat_minor": 2
}
