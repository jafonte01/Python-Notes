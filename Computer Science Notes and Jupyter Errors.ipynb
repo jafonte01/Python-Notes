{
 "cells": [
  {
   "cell_type": "markdown",
   "metadata": {},
   "source": [
    "# Memory\n",
    "\n",
    "One bit = identifying number, either in binary (0b------) or hexadecimal (0x-------)\n",
    "\n",
    "Every bit is a single digit, so \"12\" in hexadecimal is \"C\" (0 through 9, then A for \"10\", B for \"11\" and so on)\n",
    "\n",
    "_Calculating binary to decimal:_\n",
    "\n",
    "binary = 10010\n",
    "\n",
    "do: \"0 x 2^0 + 1 x 2^1 + 0 x 2^2 + 0 x 2^3 + 1 x 2^4\" = 18\n",
    "\n",
    "[Calculating decimal to hexadecimal](https://www.permadi.com/tutorial/numDecToHex/)\n",
    "\n",
    "[Calculating hexadecimal to decimal](https://www.permadi.com/tutorial/numHexToDec/index.html)\n",
    "\n",
    "8 bits = 1 byte\n",
    "\n",
    "1 byte = \"N\" = 2$^{8N}$ - 1 = 255"
   ]
  },
  {
   "cell_type": "markdown",
   "metadata": {},
   "source": [
    "# Jupyter-Wide Errors\n",
    "\n",
    "`_xsrf argument missing from  POST.` - Save error\n",
    "\n",
    "__Answer:__ This occurs when the kernel died and reset, but your notebook is still up and you are working on the notebook from the same dead kernel. Open a _separate notebook_ from the port, which will \"re-activate\" the kernel, and you will be able to save the notebook no problem"
   ]
  },
  {
   "cell_type": "code",
   "execution_count": null,
   "metadata": {},
   "outputs": [],
   "source": []
  }
 ],
 "metadata": {
  "kernelspec": {
   "display_name": "Python 3",
   "language": "python",
   "name": "python3"
  },
  "language_info": {
   "codemirror_mode": {
    "name": "ipython",
    "version": 3
   },
   "file_extension": ".py",
   "mimetype": "text/x-python",
   "name": "python",
   "nbconvert_exporter": "python",
   "pygments_lexer": "ipython3",
   "version": "3.7.1"
  }
 },
 "nbformat": 4,
 "nbformat_minor": 2
}
